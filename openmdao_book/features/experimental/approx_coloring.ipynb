{
 "cells": [
  {
   "cell_type": "code",
   "execution_count": null,
   "id": "998819ef",
   "metadata": {
    "tags": [
     "remove-input",
     "active-ipynb",
     "remove-output"
    ]
   },
   "outputs": [],
   "source": [
    "try:\n",
    "    import openmdao.api as om\n",
    "except ImportError:\n",
    "    !python -m pip install openmdao[notebooks]\n",
    "    import openmdao.api as om"
   ]
  },
  {
   "cell_type": "markdown",
   "id": "14c6df00",
   "metadata": {},
   "source": [
    "# Simultaneous Coloring of Approximated Derivatives\n",
    "\n",
    "In OpenMDAO, partial derivatives for components and semi-total derivatives for groups can be approximated using either finite difference or complex step.  Sometimes the partial or semi-total jacobians in these cases are sparse, and the computing of these jacobians can be made more efficient using simultaneous derivative coloring.  For an explanation of a similar coloring for *total* derivatives, see :ref:`Simultaneous Coloring For Separable Problems<feature_simul_coloring>`.  Finite difference and complex step only work in forward mode, so only a forward mode coloring is possible when using them, but depending on the sparsity pattern of the jacobian, it may still be possible to get significant efficiency gains.\n",
    "\n",
    "\n",
    "## Dynamic Coloring\n",
    "\n",
    "Setting up a problem to use dynamic coloring of approximated derivatives requires a call to the `declare_coloring` function.\n",
    "\n",
    "\n",
    ".. automethod:: openmdao.core.system.System.declare_coloring\n",
    "    :noindex:\n",
    "\n",
    "\n",
    "For example, the code below sets up coloring for partial derivatives of outputs of `comp` with respect to inputs of `comp` starting with 'x'. Let's assume here that `MyComp` is an `ExplicitComponent`.  If it were an `ImplicitComponent`, then the wildcard pattern 'x*' would be applied to all inputs *and* outputs (states) of `comp`.\n",
    "\n",
    "```python\n",
    "    comp = prob.model.add_subsystem('comp', MyComp())\n",
    "    comp.declare_coloring('x*', method='cs', num_full_jacs=2, min_improve_pct=10.)\n",
    "```\n",
    "\n",
    "\n",
    "Note that in the call to `declare_coloring`, we also set `num_full_jacs` to 2.  This means\n",
    "that the first 2 times that a partial jacobian is computed for 'comp', it's nonzero values will be computed\n",
    "without coloring and stored.  Just prior to the 3rd time, the jacobian's sparsity pattern will be computed, which then allows the coloring to be computed and used for the rest of the run. We also set `min_improve_pct` to 10, meaning that if the computed coloring does not reduce the number of nonlinear solves required to compute `comp's` partial jacobian by 10 percent, then `comp` will not use coloring at all.\n",
    "\n",
    "Semi-total derivative coloring can be performed in a similar way, except that `declare_coloring` would be called on a `Group` instead of a `Component`. `num_full_jacs` can also be passed as an arg to `declare_coloring` on the `Group`.\n",
    "\n",
    "The purpose of `declare_coloring` is to provide all of the necessary information to allow\n",
    "OpenMDAO to generate a coloring, either dynamically or manually using `openmdao partial_coloring`.\n",
    "\n",
    "Coloring files that are generated dynamically will be placed in the directory specified in `problem.options['coloring_dir']` and will be named based on the value of the `per_instance` arg passed to `declare_coloring`.  If `per_instance` is True, the file will be named based on the full pathname of the component or group being colored.  If False, the name will be based on the full module pathname of the class of the given\n",
    "component or group.\n",
    "\n",
    "`declare_coloring` should generally be called in the `setup` function of the component or group.\n",
    "\n",
    "Note that computing a partial jacobian when the jacobian is very large can be quite expensive, even if the jacobian is sparse, because a solution must be computed for every column of the jacobian, so you should set `num_full_jacs` only as high as is necessary to ensure that non-constant computed zeros in the jacobian are unlikely.  OpenMDAO injects random noise into the inputs when solving for the columns of the jacobian, which should make non-constant computed zeros fairly unlikely even for `num_full_jacs=1`.\n",
    "\n",
    "\n",
    "Here's a modified version of our total coloring example, where we replace one of our components with one that computes a dynamic partial coloring.  A total coloring is also performed, as in the previous example, but this time the total coloring uses sparsity information computed by our component during its dynamic partial coloring.\n",
    "\n"
   ]
  },
  {
   "cell_type": "code",
   "execution_count": null,
   "id": "7286c183",
   "metadata": {},
   "outputs": [],
   "source": [
    "class DynamicPartialsComp(om.ExplicitComponent):\n",
    "    def __init__(self, size):\n",
    "        super().__init__()\n",
    "        self.size = size\n",
    "        self.num_computes = 0\n",
    "\n",
    "    def setup(self):\n",
    "        self.add_input('y', np.ones(self.size))\n",
    "        self.add_input('x', np.ones(self.size))\n",
    "        self.add_output('g', np.ones(self.size))\n",
    "\n",
    "        self.declare_partials('*', '*', method='cs')\n",
    "\n",
    "        # turn on dynamic partial coloring\n",
    "        self.declare_coloring(wrt='*', method='cs', perturb_size=1e-5, num_full_jacs=1, tol=1e-20,\n",
    "                              show_summary=True, show_sparsity=True)\n",
    "\n",
    "    def compute(self, inputs, outputs):\n",
    "        outputs['g'] = np.arctan(inputs['y'] / inputs['x'])\n",
    "        self.num_computes += 1\n"
   ]
  }
 ],
 "metadata": {
  "celltoolbar": "Edit Metadata",
  "kernelspec": {
   "display_name": "Python 3",
   "language": "python",
   "name": "python3"
  },
  "language_info": {
   "codemirror_mode": {
    "name": "ipython",
    "version": 3
   },
   "file_extension": ".py",
   "mimetype": "text/x-python",
   "name": "python",
   "nbconvert_exporter": "python",
   "pygments_lexer": "ipython3",
   "version": "3.8.8"
  }
 },
 "nbformat": 4,
 "nbformat_minor": 5
}
