{
 "cells": [
  {
   "cell_type": "code",
   "execution_count": 1,
   "id": "conceptual-france",
   "metadata": {
    "tags": [
     "remove-input",
     "remove-output"
    ]
   },
   "outputs": [],
   "source": [
    "try:\n",
    "    import openmdao.api as om\n",
    "except ImportError:\n",
    "    !python -m pip install openmdao[notebooks]\n",
    "    import openmdao.api as om\n",
    "    \n",
    "from openmdao.utils.assert_utils import assert_near_equal"
   ]
  },
  {
   "cell_type": "markdown",
   "id": "synthetic-formula",
   "metadata": {},
   "source": [
    "# Getting Data from a Case\n",
    "\n",
    "The `Case` object contains all the information about a specific recorded case whether it was recorded by\n",
    "a problem, driver, system, or solver. `Case` objects have a number methods for accessing variables and their values."
   ]
  },
  {
   "cell_type": "markdown",
   "id": "plain-patch",
   "metadata": {},
   "source": [
    "## Example of Getting Variable Data from Case Recording of a Driver\n",
    "\n",
    "Here are the methods typically used when retrieving data from the recording of a :code:`Driver`.\n",
    "\n",
    "```\n",
    ".. automethod:: openmdao.recorders.case.Case.get_objectives\n",
    "    :noindex:\n",
    "\n",
    ".. automethod:: openmdao.recorders.case.Case.get_constraints\n",
    "    :noindex:\n",
    "\n",
    ".. automethod:: openmdao.recorders.case.Case.get_design_vars\n",
    "    :noindex:\n",
    "\n",
    ".. automethod:: openmdao.recorders.case.Case.get_responses\n",
    "    :noindex:\n",
    "```\n",
    "\n",
    "The following example shows how to use these methods to easily check the variables of interest\n",
    "from the first driver iteration."
   ]
  },
  {
   "cell_type": "code",
   "execution_count": 2,
   "id": "acceptable-intermediate",
   "metadata": {},
   "outputs": [
    {
     "data": {
      "text/html": [
       "<table>\n",
       "<thead>\n",
       "<tr><th style=\"text-align: center;\">          driver           </th></tr>\n",
       "</thead>\n",
       "<tbody>\n",
       "<tr><td style=\"text-align: center;\">rank0:ScipyOptimize_SLSQP|0</td></tr>\n",
       "</tbody>\n",
       "</table>"
      ],
      "text/plain": [
       "<IPython.core.display.HTML object>"
      ]
     },
     "metadata": {},
     "output_type": "display_data"
    },
    {
     "data": {
      "text/html": [
       "<table>\n",
       "<thead>\n",
       "<tr><th style=\"text-align: center;\">          driver           </th></tr>\n",
       "</thead>\n",
       "<tbody>\n",
       "<tr><td style=\"text-align: center;\">rank0:ScipyOptimize_SLSQP|1</td></tr>\n",
       "</tbody>\n",
       "</table>"
      ],
      "text/plain": [
       "<IPython.core.display.HTML object>"
      ]
     },
     "metadata": {},
     "output_type": "display_data"
    },
    {
     "data": {
      "text/html": [
       "<table>\n",
       "<thead>\n",
       "<tr><th style=\"text-align: center;\">          driver           </th></tr>\n",
       "</thead>\n",
       "<tbody>\n",
       "<tr><td style=\"text-align: center;\">rank0:ScipyOptimize_SLSQP|2</td></tr>\n",
       "</tbody>\n",
       "</table>"
      ],
      "text/plain": [
       "<IPython.core.display.HTML object>"
      ]
     },
     "metadata": {},
     "output_type": "display_data"
    },
    {
     "data": {
      "text/html": [
       "<table>\n",
       "<thead>\n",
       "<tr><th style=\"text-align: center;\">          driver           </th></tr>\n",
       "</thead>\n",
       "<tbody>\n",
       "<tr><td style=\"text-align: center;\">rank0:ScipyOptimize_SLSQP|3</td></tr>\n",
       "</tbody>\n",
       "</table>"
      ],
      "text/plain": [
       "<IPython.core.display.HTML object>"
      ]
     },
     "metadata": {},
     "output_type": "display_data"
    },
    {
     "data": {
      "text/html": [
       "<table>\n",
       "<thead>\n",
       "<tr><th style=\"text-align: center;\">          driver           </th></tr>\n",
       "</thead>\n",
       "<tbody>\n",
       "<tr><td style=\"text-align: center;\">rank0:ScipyOptimize_SLSQP|4</td></tr>\n",
       "</tbody>\n",
       "</table>"
      ],
      "text/plain": [
       "<IPython.core.display.HTML object>"
      ]
     },
     "metadata": {},
     "output_type": "display_data"
    },
    {
     "data": {
      "text/html": [
       "<table>\n",
       "<thead>\n",
       "<tr><th style=\"text-align: center;\">          driver           </th></tr>\n",
       "</thead>\n",
       "<tbody>\n",
       "<tr><td style=\"text-align: center;\">rank0:ScipyOptimize_SLSQP|5</td></tr>\n",
       "</tbody>\n",
       "</table>"
      ],
      "text/plain": [
       "<IPython.core.display.HTML object>"
      ]
     },
     "metadata": {},
     "output_type": "display_data"
    },
    {
     "data": {
      "text/html": [
       "<table>\n",
       "<thead>\n",
       "<tr><th style=\"text-align: center;\">          driver           </th></tr>\n",
       "</thead>\n",
       "<tbody>\n",
       "<tr><td style=\"text-align: center;\">rank0:ScipyOptimize_SLSQP|6</td></tr>\n",
       "</tbody>\n",
       "</table>"
      ],
      "text/plain": [
       "<IPython.core.display.HTML object>"
      ]
     },
     "metadata": {},
     "output_type": "display_data"
    }
   ],
   "source": [
    "import openmdao.api as om\n",
    "from openmdao.test_suite.components.sellar import SellarDerivatives\n",
    "\n",
    "import numpy as np\n",
    "\n",
    "prob = om.Problem(model=SellarDerivatives())\n",
    "\n",
    "model = prob.model\n",
    "model.add_design_var('z', lower=np.array([-10.0, 0.0]),\n",
    "                          upper=np.array([10.0, 10.0]))\n",
    "model.add_design_var('x', lower=0.0, upper=10.0)\n",
    "model.add_objective('obj')\n",
    "model.add_constraint('con1', upper=0.0)\n",
    "model.add_constraint('con2', upper=0.0)\n",
    "\n",
    "driver = prob.driver = om.ScipyOptimizeDriver(optimizer='SLSQP', tol=1e-9, disp=False)\n",
    "\n",
    "driver.add_recorder(om.SqliteRecorder(\"cases.sql\"))\n",
    "\n",
    "driver.recording_options['includes'] = []\n",
    "driver.recording_options['record_objectives'] = True\n",
    "driver.recording_options['record_constraints'] = True\n",
    "driver.recording_options['record_desvars'] = True\n",
    "\n",
    "prob.setup()\n",
    "prob.set_solver_print(0)\n",
    "prob.run_driver()\n",
    "prob.cleanup()\n",
    "\n",
    "cr = om.CaseReader(\"cases.sql\")\n",
    "driver_cases = cr.list_cases('driver')"
   ]
  },
  {
   "cell_type": "code",
   "execution_count": 3,
   "id": "proud-weight",
   "metadata": {
    "tags": [
     "remove-input",
     "remove-output"
    ]
   },
   "outputs": [],
   "source": [
    "assert driver_cases == [ f\"rank0:ScipyOptimize_SLSQP|{n}\" for n in range(driver.iter_count)]"
   ]
  },
  {
   "cell_type": "code",
   "execution_count": 4,
   "id": "common-syndicate",
   "metadata": {},
   "outputs": [
    {
     "data": {
      "text/plain": [
       "dict_keys(['con1', 'obj', 'z', 'con2', 'x'])"
      ]
     },
     "execution_count": 4,
     "metadata": {},
     "output_type": "execute_result"
    }
   ],
   "source": [
    "case = cr.get_case(driver_cases[0])\n",
    "case.outputs.keys()"
   ]
  },
  {
   "cell_type": "code",
   "execution_count": 5,
   "id": "actual-plate",
   "metadata": {
    "tags": [
     "remove-input",
     "remove-output"
    ]
   },
   "outputs": [],
   "source": [
    "assert sorted(case.outputs.keys()) == ['con1', 'con2', 'obj', 'x', 'z']"
   ]
  },
  {
   "cell_type": "code",
   "execution_count": 6,
   "id": "monthly-marathon",
   "metadata": {},
   "outputs": [],
   "source": [
    "objs = case.get_objectives()\n",
    "cons = case.get_constraints()\n",
    "dvs = case.get_design_vars()\n",
    "rsps = case.get_responses()"
   ]
  },
  {
   "cell_type": "markdown",
   "id": "female-jones",
   "metadata": {},
   "source": [
    "Using `keys()` will give you the promoted variable names:"
   ]
  },
  {
   "cell_type": "code",
   "execution_count": 7,
   "id": "bacterial-habitat",
   "metadata": {},
   "outputs": [
    {
     "name": "stdout",
     "output_type": "stream",
     "text": [
      "(['obj'], ['con1', 'con2'], ['x', 'z'])\n"
     ]
    }
   ],
   "source": [
    "print((sorted(objs.keys()), sorted(cons.keys()), sorted(dvs.keys())))"
   ]
  },
  {
   "cell_type": "code",
   "execution_count": 8,
   "id": "brutal-delicious",
   "metadata": {
    "tags": [
     "remove-input",
     "remove-output"
    ]
   },
   "outputs": [],
   "source": [
    "assert sorted(objs.keys()) == ['obj']\n",
    "assert sorted(cons.keys()) == ['con1', 'con2']\n",
    "assert sorted(dvs.keys()) == ['x', 'z']"
   ]
  },
  {
   "cell_type": "markdown",
   "id": "nutritional-dining",
   "metadata": {},
   "source": [
    "Alternatively, you can get the absolute names:"
   ]
  },
  {
   "cell_type": "code",
   "execution_count": 9,
   "id": "civilian-cornell",
   "metadata": {},
   "outputs": [
    {
     "name": "stdout",
     "output_type": "stream",
     "text": [
      "(['obj_cmp.obj'], ['con_cmp1.con1', 'con_cmp2.con2'], ['x', 'z'])\n"
     ]
    }
   ],
   "source": [
    "print((sorted(objs.absolute_names()), sorted(cons.absolute_names()), sorted(dvs.absolute_names())))"
   ]
  },
  {
   "cell_type": "code",
   "execution_count": 10,
   "id": "decent-elephant",
   "metadata": {
    "tags": [
     "remove-input",
     "remove-output"
    ]
   },
   "outputs": [],
   "source": [
    "assert sorted(objs.absolute_names()) == ['obj_cmp.obj']\n",
    "assert sorted(cons.absolute_names()) == ['con_cmp1.con1', 'con_cmp2.con2']\n",
    "assert sorted(dvs.absolute_names()) == ['x', 'z']"
   ]
  },
  {
   "cell_type": "markdown",
   "id": "important-music",
   "metadata": {},
   "source": [
    "You can access variable values using either the promoted or the absolute name:"
   ]
  },
  {
   "cell_type": "code",
   "execution_count": 11,
   "id": "incomplete-queue",
   "metadata": {
    "scrolled": true
   },
   "outputs": [
    {
     "name": "stdout",
     "output_type": "stream",
     "text": [
      "objective (obj):\t [28.58830817] [28.58830817]\n",
      "constraint (con1):\t [-22.42830237] [-22.42830237]\n",
      "design vars (x):\t [1.] [1.]\n",
      "response vars (con2):\t [-11.94151185] [-11.94151185]\n"
     ]
    }
   ],
   "source": [
    "print('objective (obj):\\t', objs['obj'], objs['obj_cmp.obj'])\n",
    "print('constraint (con1):\\t', cons['con1'], cons['con_cmp1.con1'])\n",
    "# Note that x is supplied by an automatically generated IndepVarComp\n",
    "print('design vars (x):\\t', dvs['x'], dvs['_auto_ivc.v1'])\n",
    "print('response vars (con2):\\t', rsps['con2'], rsps['con_cmp2.con2'])"
   ]
  },
  {
   "cell_type": "code",
   "execution_count": 12,
   "id": "final-scott",
   "metadata": {
    "tags": [
     "remove-input",
     "remove-output"
    ]
   },
   "outputs": [],
   "source": [
    "assert objs['obj'] == objs['obj_cmp.obj']\n",
    "assert cons['con1'] == cons['con_cmp1.con1']\n",
    "assert dvs['x'] == dvs['_auto_ivc.v1']\n",
    "assert rsps['con2'] == rsps['con_cmp2.con2']"
   ]
  },
  {
   "cell_type": "markdown",
   "id": "wanted-calculation",
   "metadata": {},
   "source": [
    "You can also access the variables directly from the case object:"
   ]
  },
  {
   "cell_type": "code",
   "execution_count": 13,
   "id": "other-commerce",
   "metadata": {},
   "outputs": [
    {
     "name": "stdout",
     "output_type": "stream",
     "text": [
      "(array([28.58830817]), array([28.58830817]))\n",
      "(array([1.]), array([1.]))\n"
     ]
    }
   ],
   "source": [
    "print((case['obj'], case['obj_cmp.obj']))\n",
    "print((case['x'], case['_auto_ivc.v1']))"
   ]
  },
  {
   "cell_type": "code",
   "execution_count": 14,
   "id": "pointed-automation",
   "metadata": {
    "tags": [
     "remove-input",
     "remove-output"
    ]
   },
   "outputs": [],
   "source": [
    "assert case['obj'] == case['obj_cmp.obj']\n",
    "assert case['x'] == case['_auto_ivc.v1']"
   ]
  },
  {
   "cell_type": "markdown",
   "id": "similar-alpha",
   "metadata": {},
   "source": [
    "## Getting Variable Data from Case Recording of a Problem"
   ]
  },
  {
   "cell_type": "markdown",
   "id": "micro-gross",
   "metadata": {},
   "source": [
    "Here are the methods typically used when retrieving data from the recording of a `Problem`.\n",
    "\n",
    "```\n",
    ".. automethod:: openmdao.recorders.case.Case.list_inputs\n",
    "    :noindex:\n",
    "\n",
    ".. automethod:: openmdao.recorders.case.Case.list_outputs\n",
    "    :noindex:\n",
    "```\n",
    "The following example shows how to use these methods."
   ]
  },
  {
   "cell_type": "code",
   "execution_count": 15,
   "id": "bored-vision",
   "metadata": {},
   "outputs": [],
   "source": [
    "import openmdao.api as om\n",
    "from openmdao.test_suite.components.sellar import SellarProblem\n",
    "\n",
    "prob = SellarProblem()\n",
    "\n",
    "recorder = om.SqliteRecorder(\"cases.sql\")\n",
    "prob.model.add_recorder(recorder)\n",
    "prob.model.recording_options['record_residuals'] = True\n",
    "\n",
    "prob.setup()\n",
    "\n",
    "d1 = prob.model.d1\n",
    "d1.nonlinear_solver = om.NonlinearBlockGS(maxiter=5)\n",
    "d1.add_recorder(recorder)\n",
    "\n",
    "prob.run_driver()\n",
    "prob.cleanup()\n",
    "\n",
    "cr = om.CaseReader(\"cases.sql\")"
   ]
  },
  {
   "cell_type": "code",
   "execution_count": 16,
   "id": "manual-facing",
   "metadata": {
    "scrolled": true
   },
   "outputs": [
    {
     "data": {
      "text/html": [
       "<table>\n",
       "<thead>\n",
       "<tr><th style=\"text-align: center;\">                           system                           </th></tr>\n",
       "</thead>\n",
       "<tbody>\n",
       "<tr><td style=\"text-align: center;\">rank0:Driver|0|root._solve_nonlinear|0|d1._solve_nonlinear|0</td></tr>\n",
       "</tbody>\n",
       "</table>"
      ],
      "text/plain": [
       "<IPython.core.display.HTML object>"
      ]
     },
     "metadata": {},
     "output_type": "display_data"
    },
    {
     "data": {
      "text/html": [
       "<table>\n",
       "<thead>\n",
       "<tr><th style=\"text-align: center;\">                                    system                                     </th></tr>\n",
       "</thead>\n",
       "<tbody>\n",
       "<tr><td style=\"text-align: center;\">rank0:Driver|0|root._solve_nonlinear|0|NonlinearBlockGS|1|d1._solve_nonlinear|1</td></tr>\n",
       "</tbody>\n",
       "</table>"
      ],
      "text/plain": [
       "<IPython.core.display.HTML object>"
      ]
     },
     "metadata": {},
     "output_type": "display_data"
    },
    {
     "data": {
      "text/html": [
       "<table>\n",
       "<thead>\n",
       "<tr><th style=\"text-align: center;\">                                    system                                     </th></tr>\n",
       "</thead>\n",
       "<tbody>\n",
       "<tr><td style=\"text-align: center;\">rank0:Driver|0|root._solve_nonlinear|0|NonlinearBlockGS|2|d1._solve_nonlinear|2</td></tr>\n",
       "</tbody>\n",
       "</table>"
      ],
      "text/plain": [
       "<IPython.core.display.HTML object>"
      ]
     },
     "metadata": {},
     "output_type": "display_data"
    },
    {
     "data": {
      "text/html": [
       "<table>\n",
       "<thead>\n",
       "<tr><th style=\"text-align: center;\">                                    system                                     </th></tr>\n",
       "</thead>\n",
       "<tbody>\n",
       "<tr><td style=\"text-align: center;\">rank0:Driver|0|root._solve_nonlinear|0|NonlinearBlockGS|3|d1._solve_nonlinear|3</td></tr>\n",
       "</tbody>\n",
       "</table>"
      ],
      "text/plain": [
       "<IPython.core.display.HTML object>"
      ]
     },
     "metadata": {},
     "output_type": "display_data"
    },
    {
     "data": {
      "text/html": [
       "<table>\n",
       "<thead>\n",
       "<tr><th style=\"text-align: center;\">                                    system                                     </th></tr>\n",
       "</thead>\n",
       "<tbody>\n",
       "<tr><td style=\"text-align: center;\">rank0:Driver|0|root._solve_nonlinear|0|NonlinearBlockGS|4|d1._solve_nonlinear|4</td></tr>\n",
       "</tbody>\n",
       "</table>"
      ],
      "text/plain": [
       "<IPython.core.display.HTML object>"
      ]
     },
     "metadata": {},
     "output_type": "display_data"
    },
    {
     "data": {
      "text/html": [
       "<table>\n",
       "<thead>\n",
       "<tr><th style=\"text-align: center;\">                                    system                                     </th></tr>\n",
       "</thead>\n",
       "<tbody>\n",
       "<tr><td style=\"text-align: center;\">rank0:Driver|0|root._solve_nonlinear|0|NonlinearBlockGS|5|d1._solve_nonlinear|5</td></tr>\n",
       "</tbody>\n",
       "</table>"
      ],
      "text/plain": [
       "<IPython.core.display.HTML object>"
      ]
     },
     "metadata": {},
     "output_type": "display_data"
    },
    {
     "data": {
      "text/html": [
       "<table>\n",
       "<thead>\n",
       "<tr><th style=\"text-align: center;\">                                    system                                     </th></tr>\n",
       "</thead>\n",
       "<tbody>\n",
       "<tr><td style=\"text-align: center;\">rank0:Driver|0|root._solve_nonlinear|0|NonlinearBlockGS|6|d1._solve_nonlinear|6</td></tr>\n",
       "</tbody>\n",
       "</table>"
      ],
      "text/plain": [
       "<IPython.core.display.HTML object>"
      ]
     },
     "metadata": {},
     "output_type": "display_data"
    },
    {
     "data": {
      "text/html": [
       "<table>\n",
       "<thead>\n",
       "<tr><th style=\"text-align: center;\">                                    system                                     </th></tr>\n",
       "</thead>\n",
       "<tbody>\n",
       "<tr><td style=\"text-align: center;\">rank0:Driver|0|root._solve_nonlinear|0|NonlinearBlockGS|7|d1._solve_nonlinear|7</td></tr>\n",
       "</tbody>\n",
       "</table>"
      ],
      "text/plain": [
       "<IPython.core.display.HTML object>"
      ]
     },
     "metadata": {},
     "output_type": "display_data"
    }
   ],
   "source": [
    "system_cases = cr.list_cases('root.d1')"
   ]
  },
  {
   "cell_type": "markdown",
   "id": "maritime-learning",
   "metadata": {},
   "source": [
    "`list_inputs()` and `list_outputs()` will print a report to the screen as well as returning a list of the variables and their values."
   ]
  },
  {
   "cell_type": "code",
   "execution_count": 17,
   "id": "subjective-healthcare",
   "metadata": {
    "scrolled": false
   },
   "outputs": [
    {
     "name": "stdout",
     "output_type": "stream",
     "text": [
      "3 Input(s) in 'd1'\n",
      "\n",
      "varname  value              \n",
      "-------  -------------------\n",
      "z        |5.385164807134504|\n",
      "x        [1.]               \n",
      "y2       [12.27257053]      \n",
      "\n",
      "\n",
      "1 Explicit Output(s) in 'd1'\n",
      "\n",
      "varname  value        \n",
      "-------  -------------\n",
      "y1       [25.54548589]\n",
      "\n",
      "\n",
      "0 Implicit Output(s) in 'd1'\n",
      "\n",
      "\n"
     ]
    }
   ],
   "source": [
    "case = cr.get_case(system_cases[1])\n",
    "\n",
    "case_inputs = case.list_inputs()\n",
    "case_outputs = case.list_outputs()"
   ]
  },
  {
   "cell_type": "code",
   "execution_count": 18,
   "id": "middle-republic",
   "metadata": {},
   "outputs": [
    {
     "name": "stdout",
     "output_type": "stream",
     "text": [
      "[('d1.x', {'value': array([1.])}),\n",
      " ('d1.y2', {'value': array([12.27257053])}),\n",
      " ('d1.z', {'value': array([5., 2.])})]\n",
      "[('d1.y1', {'value': array([25.54548589])})]\n"
     ]
    }
   ],
   "source": [
    "from pprint import pprint\n",
    "pprint(case_inputs)\n",
    "pprint(case_outputs)"
   ]
  },
  {
   "cell_type": "code",
   "execution_count": 19,
   "id": "turkish-problem",
   "metadata": {
    "tags": [
     "remove-input",
     "remove-output"
    ]
   },
   "outputs": [
    {
     "data": {
      "text/plain": [
       "0.0"
      ]
     },
     "execution_count": 19,
     "metadata": {},
     "output_type": "execute_result"
    }
   ],
   "source": [
    "assert_near_equal(case_inputs[0][1]['value'], [1.], tolerance=1e-10) # d1.x\n",
    "assert_near_equal(case_inputs[1][1]['value'], [12.27257053], tolerance=1e-10) # d1.y2\n",
    "assert_near_equal(case_inputs[2][1]['value'], [5., 2.], tolerance=1e-10) # d1.z\n",
    "assert_near_equal(case_outputs[0][1]['value'], [25.545485893882876], tolerance=1e-10) # d1.y1"
   ]
  },
  {
   "cell_type": "markdown",
   "id": "copyrighted-joint",
   "metadata": {},
   "source": [
    "The `list_inputs()` and `list_outputs()` methods have optional arguments that let you filter based on variable names what gets listed. This is shown in the following examples."
   ]
  },
  {
   "cell_type": "code",
   "execution_count": 20,
   "id": "eight-samba",
   "metadata": {},
   "outputs": [],
   "source": [
    "import openmdao.api as om\n",
    "from openmdao.core.tests.test_expl_comp import RectangleComp\n",
    "\n",
    "model = om.Group()\n",
    "prob = om.Problem(model)\n",
    "model.add_recorder(om.SqliteRecorder('cases.sql'))\n",
    "\n",
    "model.add_subsystem('rect', RectangleComp(), promotes=['length', 'width', 'area'])\n",
    "\n",
    "prob.setup(check=False)\n",
    "\n",
    "prob.set_val('length', 100.)\n",
    "prob.set_val('width', 60.0)\n",
    "\n",
    "prob.run_model()\n",
    "\n",
    "prob.cleanup()\n",
    "\n",
    "cr = om.CaseReader(\"cases.sql\")\n",
    "case = cr.get_case(0)"
   ]
  },
  {
   "cell_type": "code",
   "execution_count": 21,
   "id": "purple-values",
   "metadata": {},
   "outputs": [
    {
     "name": "stdout",
     "output_type": "stream",
     "text": [
      "1 Input(s) in 'model'\n",
      "\n",
      "varname   value \n",
      "--------  ------\n",
      "rect\n",
      "  length  [100.]\n",
      "\n",
      "\n",
      "[('rect.length', {'value': array([100.])})]\n"
     ]
    }
   ],
   "source": [
    "# Inputs with includes\n",
    "inputs = case.list_inputs(includes=['*length'])\n",
    "print(inputs)"
   ]
  },
  {
   "cell_type": "code",
   "execution_count": 22,
   "id": "thirty-commission",
   "metadata": {
    "tags": [
     "remove-input",
     "remove-output"
    ]
   },
   "outputs": [],
   "source": [
    "assert objs['obj'] == objs['obj_cmp.obj']\n",
    "assert cons['con1'] == cons['con_cmp1.con1']\n",
    "assert dvs['x'] == dvs['_auto_ivc.v1']\n",
    "assert rsps['con2'] == rsps['con_cmp2.con2']"
   ]
  },
  {
   "cell_type": "code",
   "execution_count": 23,
   "id": "streaming-credit",
   "metadata": {
    "scrolled": false
   },
   "outputs": [
    {
     "name": "stdout",
     "output_type": "stream",
     "text": [
      "1 Input(s) in 'model'\n",
      "\n",
      "varname  value\n",
      "-------  -----\n",
      "rect\n",
      "  width  [60.]\n",
      "\n",
      "\n",
      "[('rect.width', {'value': array([60.])})]\n"
     ]
    }
   ],
   "source": [
    "# Inputs with excludes\n",
    "inputs = case.list_inputs(excludes=['*length'])\n",
    "print(inputs)"
   ]
  },
  {
   "cell_type": "code",
   "execution_count": 24,
   "id": "national-surrey",
   "metadata": {
    "tags": [
     "remove-input",
     "remove-output"
    ]
   },
   "outputs": [],
   "source": [
    "assert len(inputs) == 1\n",
    "assert inputs[0][0] == 'rect.width'\n",
    "assert inputs[0][1]['value'] == 60."
   ]
  },
  {
   "cell_type": "code",
   "execution_count": 25,
   "id": "productive-berkeley",
   "metadata": {
    "scrolled": false
   },
   "outputs": [
    {
     "name": "stdout",
     "output_type": "stream",
     "text": [
      "1 Explicit Output(s) in 'model'\n",
      "\n",
      "varname  value  \n",
      "-------  -------\n",
      "rect\n",
      "  area   [6000.]\n",
      "\n",
      "\n",
      "0 Implicit Output(s) in 'model'\n",
      "\n",
      "\n",
      "[('rect.area', {'value': array([6000.])})]\n"
     ]
    }
   ],
   "source": [
    "# Outputs with includes\n",
    "outputs = case.list_outputs(includes=['*area'])\n",
    "print(outputs)"
   ]
  },
  {
   "cell_type": "code",
   "execution_count": 26,
   "id": "impressive-porter",
   "metadata": {
    "tags": [
     "remove-input",
     "remove-output"
    ]
   },
   "outputs": [],
   "source": [
    "assert len(outputs) == 1\n",
    "assert outputs[0][0] == 'rect.area'\n",
    "assert outputs[0][1]['value'] == 6000."
   ]
  },
  {
   "cell_type": "markdown",
   "id": "worldwide-adelaide",
   "metadata": {},
   "source": [
    "Finally, you can also make use of the variable tagging feature when getting values from cases. This example shows how to do that."
   ]
  },
  {
   "cell_type": "code",
   "execution_count": 27,
   "id": "aerial-princeton",
   "metadata": {},
   "outputs": [],
   "source": [
    "import openmdao.api as om\n",
    "\n",
    "class RectangleCompWithTags(om.ExplicitComponent):\n",
    "    \"\"\"\n",
    "    A simple Explicit Component that also has input and output with tags.\n",
    "    \"\"\"\n",
    "\n",
    "    def setup(self):\n",
    "        self.add_input('length', val=1., tags=[\"tag1\", \"tag2\"])\n",
    "        self.add_input('width', val=1., tags=[\"tag2\"])\n",
    "        self.add_output('area', val=1., tags=\"tag1\")\n",
    "\n",
    "    def setup_partials(self):\n",
    "        self.declare_partials('*', '*')\n",
    "\n",
    "    def compute(self, inputs, outputs):\n",
    "        outputs['area'] = inputs['length'] * inputs['width']\n",
    "\n",
    "model = om.Group()\n",
    "prob = om.Problem(model)\n",
    "model.add_recorder(om.SqliteRecorder('cases.sql'))\n",
    "\n",
    "model.add_subsystem('rect', RectangleCompWithTags(), promotes=['length', 'width', 'area'])\n",
    "\n",
    "prob.setup(check=False)\n",
    "\n",
    "prob.set_val('length', 100.0)\n",
    "prob.set_val('width', 60.0)\n",
    "\n",
    "prob.run_model()\n",
    "\n",
    "prob.cleanup()\n",
    "\n",
    "cr = om.CaseReader(\"cases.sql\")\n",
    "case = cr.get_case(0)"
   ]
  },
  {
   "cell_type": "code",
   "execution_count": 28,
   "id": "visible-booth",
   "metadata": {},
   "outputs": [
    {
     "name": "stdout",
     "output_type": "stream",
     "text": [
      "1 Input(s) in 'model'\n",
      "\n",
      "varname   value \n",
      "--------  ------\n",
      "rect\n",
      "  length  [100.]\n",
      "\n",
      "\n",
      "[('rect.length', {'value': array([100.])})]\n"
     ]
    }
   ],
   "source": [
    "# Inputs with tag that matches\n",
    "inputs = case.list_inputs(tags=\"tag1\")\n",
    "print(inputs)"
   ]
  },
  {
   "cell_type": "code",
   "execution_count": 29,
   "id": "remarkable-polyester",
   "metadata": {
    "tags": [
     "remove-input",
     "remove-output"
    ]
   },
   "outputs": [],
   "source": [
    "assert len(inputs) == 1\n",
    "assert inputs[0][0] == 'rect.length'\n",
    "assert inputs[0][1]['value'] == 100."
   ]
  },
  {
   "cell_type": "code",
   "execution_count": 30,
   "id": "saved-atlantic",
   "metadata": {
    "scrolled": false
   },
   "outputs": [
    {
     "name": "stdout",
     "output_type": "stream",
     "text": [
      "2 Input(s) in 'model'\n",
      "\n",
      "varname   value \n",
      "--------  ------\n",
      "rect\n",
      "  length  [100.]\n",
      "  width   [60.] \n",
      "\n",
      "\n",
      "[('rect.length', {'value': array([100.])}), ('rect.width', {'value': array([60.])})]\n"
     ]
    }
   ],
   "source": [
    "# Inputs with multiple tags\n",
    "inputs = case.list_inputs(tags=[\"tag1\", \"tag2\"])\n",
    "print(inputs)"
   ]
  },
  {
   "cell_type": "code",
   "execution_count": 31,
   "id": "royal-chambers",
   "metadata": {
    "tags": [
     "remove-input",
     "remove-output"
    ]
   },
   "outputs": [],
   "source": [
    "assert len(inputs) == 2\n",
    "assert inputs[0][0] == 'rect.length'\n",
    "assert inputs[0][1]['value'] == 100.\n",
    "assert inputs[1][0] == 'rect.width'\n",
    "assert inputs[1][1]['value'] == 60."
   ]
  },
  {
   "cell_type": "code",
   "execution_count": 32,
   "id": "first-dependence",
   "metadata": {
    "scrolled": true
   },
   "outputs": [
    {
     "name": "stdout",
     "output_type": "stream",
     "text": [
      "1 Explicit Output(s) in 'model'\n",
      "\n",
      "varname  value  \n",
      "-------  -------\n",
      "rect\n",
      "  area   [6000.]\n",
      "\n",
      "\n",
      "0 Implicit Output(s) in 'model'\n",
      "\n",
      "\n",
      "[('rect.area', {'value': array([6000.])})]\n"
     ]
    }
   ],
   "source": [
    "# Outputs with tag that does match\n",
    "outputs = case.list_outputs(tags=\"tag1\")\n",
    "print(outputs)"
   ]
  },
  {
   "cell_type": "code",
   "execution_count": 33,
   "id": "medical-export",
   "metadata": {
    "tags": [
     "remove-input",
     "remove-output"
    ]
   },
   "outputs": [],
   "source": [
    "assert len(outputs) == 1\n",
    "assert outputs[0][0] == 'rect.area'\n",
    "assert outputs[0][1]['value'] == 6000."
   ]
  },
  {
   "cell_type": "markdown",
   "id": "empirical-password",
   "metadata": {},
   "source": [
    "## Getting Variable Data from Case By Specifying Variable Name and Units Desired\n",
    "\n",
    "You can also get variable values from a `Case` like you would from a `Problem` using dictionary-like access\n",
    "or, if you want the value in different units, using the `get_val` method.\n",
    "\n",
    "\n",
    "```\n",
    ".. automethod:: openmdao.recorders.case.Case.get_val\n",
    "    :noindex:\n",
    "```\n",
    "\n",
    "This example shows both methods of getting variable data by name."
   ]
  },
  {
   "cell_type": "code",
   "execution_count": 34,
   "id": "english-marine",
   "metadata": {},
   "outputs": [],
   "source": [
    "import openmdao.api as om\n",
    "\n",
    "model = om.Group()\n",
    "model.add_recorder(om.SqliteRecorder('cases.sql'))\n",
    "\n",
    "speed = om.ExecComp('v=x/t', x={'units': 'm'}, t={'units': 's'}, v={'units': 'm/s'})\n",
    "\n",
    "model.add_subsystem('speed', speed, promotes=['x', 't', 'v'])\n",
    "\n",
    "prob = om.Problem(model)\n",
    "prob.setup()\n",
    "\n",
    "prob.set_val('x', 100., units='m')\n",
    "prob.set_val('t', 60., units='s')\n",
    "\n",
    "prob.run_model()\n",
    "prob.cleanup()\n",
    "\n",
    "cr = om.CaseReader('cases.sql')\n",
    "case = cr.get_case(0)"
   ]
  },
  {
   "cell_type": "code",
   "execution_count": 35,
   "id": "informed-damages",
   "metadata": {},
   "outputs": [
    {
     "name": "stdout",
     "output_type": "stream",
     "text": [
      "[100.]\n"
     ]
    }
   ],
   "source": [
    "print(case['x'])"
   ]
  },
  {
   "cell_type": "code",
   "execution_count": 36,
   "id": "minor-theology",
   "metadata": {
    "tags": [
     "remove-input",
     "remove-output"
    ]
   },
   "outputs": [],
   "source": [
    "assert case['x'] == 100."
   ]
  },
  {
   "cell_type": "code",
   "execution_count": 37,
   "id": "united-shade",
   "metadata": {},
   "outputs": [
    {
     "name": "stdout",
     "output_type": "stream",
     "text": [
      "[328.0839895]\n"
     ]
    }
   ],
   "source": [
    "print(case.get_val('x', units='ft'))"
   ]
  },
  {
   "cell_type": "code",
   "execution_count": 38,
   "id": "growing-removal",
   "metadata": {
    "tags": [
     "remove-input",
     "remove-output"
    ]
   },
   "outputs": [
    {
     "data": {
      "text/plain": [
       "4.000024546273919e-12"
      ]
     },
     "execution_count": 38,
     "metadata": {},
     "output_type": "execute_result"
    }
   ],
   "source": [
    "assert_near_equal(case.get_val('x', units='ft'), 328.0839895, 1e-8)"
   ]
  },
  {
   "cell_type": "code",
   "execution_count": 39,
   "id": "smaller-malawi",
   "metadata": {},
   "outputs": [
    {
     "name": "stdout",
     "output_type": "stream",
     "text": [
      "[1.66666667]\n"
     ]
    }
   ],
   "source": [
    "print(case['v'])"
   ]
  },
  {
   "cell_type": "code",
   "execution_count": 40,
   "id": "subjective-likelihood",
   "metadata": {
    "tags": [
     "remove-input",
     "remove-output"
    ]
   },
   "outputs": [
    {
     "data": {
      "text/plain": [
       "1.9999998950272165e-09"
      ]
     },
     "execution_count": 40,
     "metadata": {},
     "output_type": "execute_result"
    }
   ],
   "source": [
    "assert_near_equal(case['v'], 1.66666667, 1e-8)"
   ]
  },
  {
   "cell_type": "code",
   "execution_count": 41,
   "id": "solved-notification",
   "metadata": {},
   "outputs": [
    {
     "name": "stdout",
     "output_type": "stream",
     "text": [
      "[5.46806649]\n"
     ]
    }
   ],
   "source": [
    "print(case.get_val('v', units='ft/s'))"
   ]
  },
  {
   "cell_type": "code",
   "execution_count": 42,
   "id": "reliable-witness",
   "metadata": {
    "tags": [
     "remove-input",
     "remove-output"
    ]
   },
   "outputs": [
    {
     "data": {
      "text/plain": [
       "3.087998657734684e-10"
      ]
     },
     "execution_count": 42,
     "metadata": {},
     "output_type": "execute_result"
    }
   ],
   "source": [
    "assert_near_equal(case.get_val('v', units='ft/s'),5.46806649, 1e-8)"
   ]
  },
  {
   "cell_type": "markdown",
   "id": "dedicated-cocktail",
   "metadata": {},
   "source": [
    "## Getting Derivative Data from a Case\n",
    "\n",
    "A driver has the ability to record derivatives but it is not enabled by default. If you do enable\n",
    "this option, the recorded cases will have a value for the `jacobian`."
   ]
  },
  {
   "cell_type": "code",
   "execution_count": 43,
   "id": "behavioral-secretariat",
   "metadata": {},
   "outputs": [],
   "source": [
    "import openmdao.api as om\n",
    "from openmdao.test_suite.components.sellar_feature import SellarMDA\n",
    "\n",
    "import numpy as np\n",
    "\n",
    "prob = om.Problem(model=SellarMDA())\n",
    "\n",
    "model = prob.model\n",
    "model.add_design_var('z', lower=np.array([-10.0, 0.0]),\n",
    "                          upper=np.array([10.0, 10.0]))\n",
    "model.add_design_var('x', lower=0.0, upper=10.0)\n",
    "model.add_objective('obj')\n",
    "model.add_constraint('con1', upper=0.0)\n",
    "model.add_constraint('con2', upper=0.0)\n",
    "\n",
    "driver = prob.driver = om.ScipyOptimizeDriver(optimizer='SLSQP', tol=1e-9, disp=False)\n",
    "driver.recording_options['record_derivatives'] = True\n",
    "\n",
    "driver.add_recorder(om.SqliteRecorder('cases.sql'))\n",
    "\n",
    "prob.setup()\n",
    "prob.set_solver_print(0)\n",
    "prob.run_driver()\n",
    "prob.cleanup()\n",
    "\n",
    "cr = om.CaseReader('cases.sql')"
   ]
  },
  {
   "cell_type": "code",
   "execution_count": 44,
   "id": "auburn-category",
   "metadata": {},
   "outputs": [
    {
     "data": {
      "text/plain": [
       "{('obj', 'z'): array([[3.90585345, 1.97002049]]),\n",
       " ('obj', 'x'): array([[0.9934144]]),\n",
       " ('con1', 'z'): array([[-3.95527316, -0.99999439]]),\n",
       " ('con1', 'x'): array([[-0.99999439]]),\n",
       " ('con2', 'z'): array([[2.11249959, 1.28126722]]),\n",
       " ('con2', 'x'): array([[0.2812688]])}"
      ]
     },
     "execution_count": 44,
     "metadata": {},
     "output_type": "execute_result"
    }
   ],
   "source": [
    "# Get derivatives associated with the last iteration.\n",
    "derivs = cr.get_case(-1).derivatives\n",
    "derivs"
   ]
  },
  {
   "cell_type": "code",
   "execution_count": 45,
   "id": "attempted-delhi",
   "metadata": {},
   "outputs": [
    {
     "name": "stdout",
     "output_type": "stream",
     "text": [
      "[[3.90585345 1.97002049]]\n"
     ]
    }
   ],
   "source": [
    "# Get specific derivative.\n",
    "print(derivs['obj', 'z'])"
   ]
  },
  {
   "cell_type": "code",
   "execution_count": 46,
   "id": "suited-kidney",
   "metadata": {
    "tags": [
     "remove-input",
     "remove-output"
    ]
   },
   "outputs": [
    {
     "data": {
      "text/plain": [
       "0.0"
      ]
     },
     "execution_count": 46,
     "metadata": {},
     "output_type": "execute_result"
    }
   ],
   "source": [
    "# check that derivatives have been recorded.\n",
    "assert set(derivs.keys()) == set([\n",
    "    ('obj', 'z'), ('con2', 'z'), ('con1', 'x'),\n",
    "    ('obj', 'x'), ('con2', 'x'), ('con1', 'z')\n",
    "])\n",
    "\n",
    "# check specific derivative.\n",
    "assert_near_equal(derivs['obj', 'z'], derivs['obj', 'z'])"
   ]
  },
  {
   "cell_type": "markdown",
   "id": "comfortable-pizza",
   "metadata": {},
   "source": [
    "Problem recording can also include recording of the derivatives as this example shows."
   ]
  },
  {
   "cell_type": "code",
   "execution_count": 47,
   "id": "dirty-hollow",
   "metadata": {
    "scrolled": true
   },
   "outputs": [],
   "source": [
    "import openmdao.api as om\n",
    "from openmdao.test_suite.components.eggcrate import EggCrate\n",
    "\n",
    "prob = om.Problem()\n",
    "\n",
    "model = prob.model\n",
    "model.add_subsystem('egg_crate', EggCrate(), promotes=['x', 'y', 'f_xy'])\n",
    "model.add_design_var('x', lower=-50.0, upper=50.0)\n",
    "model.add_design_var('y', lower=-50.0, upper=50.0)\n",
    "model.add_objective('f_xy')\n",
    "\n",
    "prob.driver = om.ScipyOptimizeDriver(disp=False, tol=1e-9)\n",
    "\n",
    "prob.recording_options['record_derivatives'] = True\n",
    "prob.add_recorder(om.SqliteRecorder('cases.sql'))\n",
    "\n",
    "prob.setup()\n",
    "prob.set_solver_print(0)\n",
    "\n",
    "prob.set_val('x', 2.5)\n",
    "prob.set_val('y', 2.5)\n",
    "\n",
    "prob.run_driver()\n",
    "\n",
    "case_name_1 = \"c1\"\n",
    "prob.record(case_name_1)"
   ]
  },
  {
   "cell_type": "code",
   "execution_count": 48,
   "id": "mental-mortgage",
   "metadata": {
    "tags": [
     "remove-input",
     "remove-output"
    ]
   },
   "outputs": [
    {
     "data": {
      "text/plain": [
       "2.3567185249572234e-10"
      ]
     },
     "execution_count": 48,
     "metadata": {},
     "output_type": "execute_result"
    }
   ],
   "source": [
    "assert_near_equal([prob.get_val('x'), prob.get_val('y'), prob.get_val('f_xy')],\n",
    "                  [[3.01960159], [3.01960159], [18.97639468]], 1e-6)"
   ]
  },
  {
   "cell_type": "code",
   "execution_count": 49,
   "id": "still-dollar",
   "metadata": {},
   "outputs": [],
   "source": [
    "prob.set_val('x', 0.1)\n",
    "prob.set_val('y', -0.1)\n",
    "\n",
    "prob.run_driver()\n",
    "\n",
    "case_name_2 = \"c2\"\n",
    "prob.record(case_name_2)\n",
    "\n",
    "prob.cleanup()"
   ]
  },
  {
   "cell_type": "code",
   "execution_count": 50,
   "id": "younger-rally",
   "metadata": {
    "tags": [
     "remove-input",
     "remove-output"
    ]
   },
   "outputs": [
    {
     "data": {
      "text/plain": [
       "1.3528671173796894e-09"
      ]
     },
     "execution_count": 50,
     "metadata": {},
     "output_type": "execute_result"
    }
   ],
   "source": [
    "assert_near_equal([prob.get_val('x'), prob.get_val('y'), prob.get_val('f_xy')],\n",
    "                  [[-2.14311975e-08], [2.14312031e-08], [2.388341e-14]], 1e-6)"
   ]
  },
  {
   "cell_type": "code",
   "execution_count": 55,
   "id": "alpine-mason",
   "metadata": {},
   "outputs": [
    {
     "name": "stdout",
     "output_type": "stream",
     "text": [
      "{('f_xy', 'x'): array([[-1.50431553e-05]]), ('f_xy', 'y'): array([[-1.50431553e-05]])}\n",
      "{('f_xy', 'x'): array([[-1.11442227e-06]]), ('f_xy', 'y'): array([[1.11442256e-06]])}\n"
     ]
    }
   ],
   "source": [
    "cr = om.CaseReader('cases.sql')\n",
    "\n",
    "c1 = cr.get_case(case_name_1)\n",
    "c2 = cr.get_case(case_name_2)\n",
    "\n",
    "print(c1.derivatives)\n",
    "print(c2.derivatives)"
   ]
  },
  {
   "cell_type": "code",
   "execution_count": 56,
   "id": "opposed-dining",
   "metadata": {
    "tags": [
     "remove-input",
     "remove-output"
    ]
   },
   "outputs": [
    {
     "data": {
      "text/html": [
       "<table>\n",
       "<thead>\n",
       "<tr><th style=\"text-align: center;\"> problem </th></tr>\n",
       "</thead>\n",
       "<tbody>\n",
       "<tr><td style=\"text-align: center;\">   c1    </td></tr>\n",
       "<tr><td style=\"text-align: center;\">   c2    </td></tr>\n",
       "</tbody>\n",
       "</table>"
      ],
      "text/plain": [
       "<IPython.core.display.HTML object>"
      ]
     },
     "metadata": {},
     "output_type": "display_data"
    },
    {
     "data": {
      "text/plain": [
       "1.1144225607845162e-06"
      ]
     },
     "execution_count": 56,
     "metadata": {},
     "output_type": "execute_result"
    }
   ],
   "source": [
    "num_problem_cases = len(cr.list_cases('problem'))\n",
    "assert num_problem_cases == 2\n",
    "\n",
    "# check that derivatives have been recorded properly.\n",
    "assert_near_equal(c1.derivatives[('f_xy', 'x')][0], 0.0, 1e-4)\n",
    "assert_near_equal(c1.derivatives[('f_xy', 'y')][0], 0.0, 1e-4)\n",
    "\n",
    "assert_near_equal(c2.derivatives[('f_xy', 'x')][0], 0.0, 1e-4)\n",
    "assert_near_equal(c2.derivatives[('f_xy', 'y')][0], 0.0, 1e-4)"
   ]
  },
  {
   "cell_type": "markdown",
   "id": "extra-cincinnati",
   "metadata": {},
   "source": [
    "```{note}\n",
    "For both `Driver` and `Problem`, the recording of the derivatives is not affected by\n",
    "the `includes` and `excludes` options.\n",
    "```"
   ]
  }
 ],
 "metadata": {
  "celltoolbar": "Tags",
  "kernelspec": {
   "display_name": "Python 3",
   "language": "python",
   "name": "python3"
  },
  "language_info": {
   "codemirror_mode": {
    "name": "ipython",
    "version": 3
   },
   "file_extension": ".py",
   "mimetype": "text/x-python",
   "name": "python",
   "nbconvert_exporter": "python",
   "pygments_lexer": "ipython3",
   "version": "3.7.9"
  }
 },
 "nbformat": 4,
 "nbformat_minor": 5
}
