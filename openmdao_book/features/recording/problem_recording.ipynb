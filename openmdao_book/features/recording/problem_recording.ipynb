{
 "cells": [
  {
   "cell_type": "code",
   "execution_count": 1,
   "id": "conceptual-france",
   "metadata": {
    "tags": [
     "remove-input",
     "remove-output"
    ]
   },
   "outputs": [],
   "source": [
    "try:\n",
    "    import openmdao.api as om\n",
    "except ImportError:\n",
    "    !python -m pip install openmdao[notebooks]\n",
    "    import openmdao.api as om\n",
    "    \n",
    "from openmdao.utils.assert_utils import assert_near_equal"
   ]
  },
  {
   "cell_type": "markdown",
   "id": "synthetic-formula",
   "metadata": {},
   "source": [
    "# Problem Recording\n",
    "\n",
    "You might also want to attach a recorder to the `Problem` itself. This allows you to record an arbitrary case at a point of your choosing. This feature can be useful if you only record a limited number of variables during the run but would like to see a more complete list of values after the run.\n",
    "\n",
    "The options are a subset of those for driver recording."
   ]
  },
  {
   "cell_type": "code",
   "execution_count": 2,
   "id": "alien-aquatic",
   "metadata": {
    "scrolled": true
   },
   "outputs": [
    {
     "data": {
      "text/html": [
       "<table>\n",
       "<thead>\n",
       "<tr><th>Option            </th><th>Default  </th><th>Acceptable Values  </th><th>Acceptable Types  </th><th>Description                                                                                                  </th></tr>\n",
       "</thead>\n",
       "<tbody>\n",
       "<tr><td>excludes          </td><td>[]       </td><td>N/A                </td><td>[&#x27;list&#x27;]          </td><td>Patterns for vars to exclude in recording (processed post-includes). Uses fnmatch wildcards                  </td></tr>\n",
       "<tr><td>includes          </td><td>[&#x27;*&#x27;]    </td><td>N/A                </td><td>[&#x27;list&#x27;]          </td><td>Patterns for variables to include in recording.                                        Uses fnmatch wildcards</td></tr>\n",
       "<tr><td>record_abs_error  </td><td>True     </td><td>[True, False]      </td><td>[&#x27;bool&#x27;]          </td><td>Set to True to record absolute error of model nonlinear solver                                               </td></tr>\n",
       "<tr><td>record_constraints</td><td>True     </td><td>[True, False]      </td><td>[&#x27;bool&#x27;]          </td><td>Set to True to record constraints at the problem level                                                       </td></tr>\n",
       "<tr><td>record_derivatives</td><td>False    </td><td>[True, False]      </td><td>[&#x27;bool&#x27;]          </td><td>Set to True to record derivatives for the problem level                                                      </td></tr>\n",
       "<tr><td>record_desvars    </td><td>True     </td><td>[True, False]      </td><td>[&#x27;bool&#x27;]          </td><td>Set to True to record design variables at the problem level                                                  </td></tr>\n",
       "<tr><td>record_inputs     </td><td>False    </td><td>[True, False]      </td><td>[&#x27;bool&#x27;]          </td><td>Set True to record inputs at the problem level.                                                              </td></tr>\n",
       "<tr><td>record_objectives </td><td>True     </td><td>[True, False]      </td><td>[&#x27;bool&#x27;]          </td><td>Set to True to record objectives at the problem level                                                        </td></tr>\n",
       "<tr><td>record_outputs    </td><td>True     </td><td>[True, False]      </td><td>[&#x27;bool&#x27;]          </td><td>Set True to record outputs at the problem level.                                                             </td></tr>\n",
       "<tr><td>record_rel_error  </td><td>True     </td><td>[True, False]      </td><td>[&#x27;bool&#x27;]          </td><td>Set to True to record relative error of model                                        nonlinear solver        </td></tr>\n",
       "<tr><td>record_residuals  </td><td>False    </td><td>[True, False]      </td><td>[&#x27;bool&#x27;]          </td><td>Set True to record residuals at the problem level.                                                           </td></tr>\n",
       "<tr><td>record_responses  </td><td>False    </td><td>[True, False]      </td><td>[&#x27;bool&#x27;]          </td><td>Set True to record constraints and objectives at the problem level.                                          </td></tr>\n",
       "</tbody>\n",
       "</table>"
      ],
      "text/plain": [
       "<IPython.core.display.HTML object>"
      ]
     },
     "metadata": {},
     "output_type": "display_data"
    }
   ],
   "source": [
    "om.show_options_table(\"openmdao.core.problem.Problem\", recording_options=True)"
   ]
  },
  {
   "cell_type": "markdown",
   "id": "clean-works",
   "metadata": {},
   "source": [
    "> **_Note:_**  Note that the `excludes` option takes precedence over the `includes` option."
   ]
  },
  {
   "cell_type": "markdown",
   "id": "federal-element",
   "metadata": {},
   "source": [
    "## Problem Recording Example"
   ]
  },
  {
   "cell_type": "code",
   "execution_count": 3,
   "id": "useful-apparatus",
   "metadata": {},
   "outputs": [
    {
     "name": "stdout",
     "output_type": "stream",
     "text": [
      "NL: NLBGS Converged in 8 iterations\n",
      "NL: NLBGS Converged in 1 iterations\n",
      "NL: NLBGS Converged in 9 iterations\n",
      "NL: NLBGS Converged in 10 iterations\n",
      "NL: NLBGS Converged in 10 iterations\n",
      "NL: NLBGS Converged in 9 iterations\n",
      "NL: NLBGS Converged in 6 iterations\n",
      "Optimization terminated successfully    (Exit mode 0)\n",
      "            Current function value: [3.18339395]\n",
      "            Iterations: 6\n",
      "            Function evaluations: 6\n",
      "            Gradient evaluations: 6\n",
      "Optimization Complete\n",
      "-----------------------------------\n"
     ]
    },
    {
     "data": {
      "text/plain": [
       "False"
      ]
     },
     "execution_count": 3,
     "metadata": {},
     "output_type": "execute_result"
    }
   ],
   "source": [
    "import openmdao.api as om\n",
    "from openmdao.test_suite.components.sellar import SellarDerivatives\n",
    "\n",
    "import numpy as np\n",
    "\n",
    "prob = om.Problem(model=SellarDerivatives())\n",
    "\n",
    "model = prob.model\n",
    "model.add_design_var('z', lower=np.array([-10.0, 0.0]),\n",
    "                          upper=np.array([10.0, 10.0]))\n",
    "model.add_design_var('x', lower=0.0, upper=10.0)\n",
    "model.add_objective('obj')\n",
    "model.add_constraint('con1', upper=0.0)\n",
    "model.add_constraint('con2', upper=0.0)\n",
    "\n",
    "prob.driver = om.ScipyOptimizeDriver(optimizer='SLSQP', tol=1e-9)\n",
    "\n",
    "prob.add_recorder(om.SqliteRecorder(\"cases.sql\"))\n",
    "\n",
    "prob.recording_options['includes'] = []\n",
    "prob.recording_options['record_objectives'] = True\n",
    "prob.recording_options['record_constraints'] = True\n",
    "prob.recording_options['record_desvars'] = True\n",
    "\n",
    "prob.setup()\n",
    "prob.run_driver()"
   ]
  },
  {
   "cell_type": "code",
   "execution_count": 4,
   "id": "agreed-monster",
   "metadata": {},
   "outputs": [
    {
     "data": {
      "text/html": [
       "<table>\n",
       "<thead>\n",
       "<tr><th style=\"text-align: center;\"> problem </th></tr>\n",
       "</thead>\n",
       "<tbody>\n",
       "<tr><td style=\"text-align: center;\">  final  </td></tr>\n",
       "</tbody>\n",
       "</table>"
      ],
      "text/plain": [
       "<IPython.core.display.HTML object>"
      ]
     },
     "metadata": {},
     "output_type": "display_data"
    }
   ],
   "source": [
    "prob.record('final')\n",
    "prob.cleanup()\n",
    "\n",
    "cr = om.CaseReader(\"cases.sql\")\n",
    "\n",
    "# get list of cases recorded on problem\n",
    "problem_cases = cr.list_cases('problem')"
   ]
  },
  {
   "cell_type": "code",
   "execution_count": 5,
   "id": "proof-helena",
   "metadata": {
    "tags": [
     "remove-input",
     "remove-output"
    ]
   },
   "outputs": [],
   "source": [
    "assert problem_cases == ['final']"
   ]
  },
  {
   "cell_type": "code",
   "execution_count": 6,
   "id": "adjacent-scheduling",
   "metadata": {
    "scrolled": true
   },
   "outputs": [
    {
     "data": {
      "text/html": [
       "<table>\n",
       "<thead>\n",
       "<tr><th style=\"text-align: center;\"> inputs </th><th style=\"text-align: center;\"> outputs </th><th style=\"text-align: center;\"> residuals </th></tr>\n",
       "</thead>\n",
       "<tbody>\n",
       "<tr><td style=\"text-align: center;\">        </td><td style=\"text-align: center;\">  con1   </td><td style=\"text-align: center;\">           </td></tr>\n",
       "<tr><td style=\"text-align: center;\">        </td><td style=\"text-align: center;\">   obj   </td><td style=\"text-align: center;\">           </td></tr>\n",
       "<tr><td style=\"text-align: center;\">        </td><td style=\"text-align: center;\">  con2   </td><td style=\"text-align: center;\">           </td></tr>\n",
       "<tr><td style=\"text-align: center;\">        </td><td style=\"text-align: center;\">    z    </td><td style=\"text-align: center;\">           </td></tr>\n",
       "<tr><td style=\"text-align: center;\">        </td><td style=\"text-align: center;\">    x    </td><td style=\"text-align: center;\">           </td></tr>\n",
       "</tbody>\n",
       "</table>"
      ],
      "text/plain": [
       "<IPython.core.display.HTML object>"
      ]
     },
     "metadata": {},
     "output_type": "display_data"
    },
    {
     "data": {
      "text/plain": [
       "{'inputs': [], 'outputs': ['con1', 'obj', 'con2', 'z', 'x'], 'residuals': []}"
      ]
     },
     "execution_count": 6,
     "metadata": {},
     "output_type": "execute_result"
    }
   ],
   "source": [
    "# get list of output variables recorded on problem\n",
    "cr.list_source_vars('problem')"
   ]
  },
  {
   "cell_type": "code",
   "execution_count": 7,
   "id": "proprietary-guard",
   "metadata": {
    "tags": [
     "remove-input",
     "remove-output"
    ]
   },
   "outputs": [],
   "source": [
    "problem_vars = cr.list_source_vars('problem', out_stream=None)\n",
    "assert sorted(problem_vars['outputs']) == ['con1', 'con2', 'obj', 'x', 'z']"
   ]
  },
  {
   "cell_type": "code",
   "execution_count": 8,
   "id": "authentic-tulsa",
   "metadata": {},
   "outputs": [],
   "source": [
    "# get the recorded case\n",
    "case = cr.get_case('final')"
   ]
  },
  {
   "cell_type": "code",
   "execution_count": 9,
   "id": "amended-springer",
   "metadata": {},
   "outputs": [
    {
     "data": {
      "text/plain": [
       "{'obj': array([3.18339395])}"
      ]
     },
     "execution_count": 9,
     "metadata": {},
     "output_type": "execute_result"
    }
   ],
   "source": [
    "case.get_objectives()"
   ]
  },
  {
   "cell_type": "code",
   "execution_count": 10,
   "id": "partial-throw",
   "metadata": {
    "tags": [
     "remove-input",
     "remove-output"
    ]
   },
   "outputs": [
    {
     "data": {
      "text/plain": [
       "5.41351690502717e-10"
      ]
     },
     "execution_count": 10,
     "metadata": {},
     "output_type": "execute_result"
    }
   ],
   "source": [
    "assert_near_equal(case.get_objectives()['obj'], 3.18339395, 1e-8)"
   ]
  },
  {
   "cell_type": "code",
   "execution_count": 11,
   "id": "million-counter",
   "metadata": {},
   "outputs": [
    {
     "data": {
      "text/plain": [
       "{'z': array([1.97763888e+00, 5.87897722e-15]), 'x': array([0.])}"
      ]
     },
     "execution_count": 11,
     "metadata": {},
     "output_type": "execute_result"
    }
   ],
   "source": [
    "case.get_design_vars()"
   ]
  },
  {
   "cell_type": "code",
   "execution_count": 12,
   "id": "metropolitan-syracuse",
   "metadata": {
    "tags": [
     "remove-input",
     "remove-output"
    ]
   },
   "outputs": [
    {
     "data": {
      "text/plain": [
       "0.0"
      ]
     },
     "execution_count": 12,
     "metadata": {},
     "output_type": "execute_result"
    }
   ],
   "source": [
    "des_vars = case.get_design_vars()\n",
    "assert_near_equal(des_vars['z'], [1.97763888, 5.87897722e-15], 1e-8)\n",
    "assert_near_equal(des_vars['x'], 0., 1e-8)"
   ]
  },
  {
   "cell_type": "code",
   "execution_count": 13,
   "id": "medieval-parking",
   "metadata": {},
   "outputs": [
    {
     "data": {
      "text/plain": [
       "{'con1': array([-8.38054071e-11]), 'con2': array([-20.24472223])}"
      ]
     },
     "execution_count": 13,
     "metadata": {},
     "output_type": "execute_result"
    }
   ],
   "source": [
    "case.get_constraints()"
   ]
  },
  {
   "cell_type": "code",
   "execution_count": 14,
   "id": "angry-tracy",
   "metadata": {
    "tags": [
     "remove-input",
     "remove-output"
    ]
   },
   "outputs": [
    {
     "data": {
      "text/plain": [
       "1.4953032152054424e-10"
      ]
     },
     "execution_count": 14,
     "metadata": {},
     "output_type": "execute_result"
    }
   ],
   "source": [
    "constraints = case.get_constraints()\n",
    "assert_near_equal(constraints['con1'], -8.38054071e-11, 1e-8)\n",
    "assert_near_equal(constraints['con2'], -20.24472223, 1e-8)"
   ]
  }
 ],
 "metadata": {
  "celltoolbar": "Tags",
  "kernelspec": {
   "display_name": "Python 3",
   "language": "python",
   "name": "python3"
  },
  "language_info": {
   "codemirror_mode": {
    "name": "ipython",
    "version": 3
   },
   "file_extension": ".py",
   "mimetype": "text/x-python",
   "name": "python",
   "nbconvert_exporter": "python",
   "pygments_lexer": "ipython3",
   "version": "3.7.9"
  }
 },
 "nbformat": 4,
 "nbformat_minor": 5
}
