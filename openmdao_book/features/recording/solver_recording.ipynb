{
 "cells": [
  {
   "cell_type": "code",
   "execution_count": 1,
   "id": "lightweight-teacher",
   "metadata": {
    "tags": [
     "remove-input",
     "remove-output",
     "active-ipynb"
    ]
   },
   "outputs": [],
   "source": [
    "try:\n",
    "    import openmdao.api as om\n",
    "except ImportError:\n",
    "    !python -m pip install openmdao[notebooks]\n",
    "    import openmdao.api as om\n",
    "    \n",
    "from openmdao.utils.assert_utils import assert_near_equal"
   ]
  },
  {
   "cell_type": "markdown",
   "id": "remarkable-corps",
   "metadata": {},
   "source": [
    "# Solver Recording\n",
    "Solver recording is useful when you want to record the iterations within a solver. \n",
    "The recorder can capture the values of states, errors, and residuals as the solver converges."
   ]
  },
  {
   "cell_type": "code",
   "execution_count": 2,
   "id": "pressed-bones",
   "metadata": {
    "scrolled": true
   },
   "outputs": [
    {
     "data": {
      "text/html": [
       "<table>\n",
       "<thead>\n",
       "<tr><th>Option                 </th><th>Default  </th><th>Acceptable Values  </th><th>Acceptable Types  </th><th>Description                                                                                                                                                                                                                                           </th></tr>\n",
       "</thead>\n",
       "<tbody>\n",
       "<tr><td>excludes               </td><td>[]       </td><td>N/A                </td><td>[&#x27;list&#x27;]          </td><td>Patterns for vars to exclude in recording.                                        (processed post-includes)                                        Paths are relative to solver&#x27;s Group.                                        Uses fnmatch wildcards</td></tr>\n",
       "<tr><td>includes               </td><td>[&#x27;*&#x27;]    </td><td>N/A                </td><td>[&#x27;list&#x27;]          </td><td>Patterns for variables to include in recording.                                        Paths are relative to solver&#x27;s Group.                                        Uses fnmatch wildcards                                                            </td></tr>\n",
       "<tr><td>record_abs_error       </td><td>True     </td><td>[True, False]      </td><td>[&#x27;bool&#x27;]          </td><td>Set to True to record absolute error at the                                        solver level                                                                                                                                                       </td></tr>\n",
       "<tr><td>record_inputs          </td><td>True     </td><td>[True, False]      </td><td>[&#x27;bool&#x27;]          </td><td>Set to True to record inputs at the solver level                                                                                                                                                                                                      </td></tr>\n",
       "<tr><td>record_metadata        </td><td>True     </td><td>[True, False]      </td><td>[&#x27;bool&#x27;]          </td><td>Deprecated. Recording of metadata will always be done                                                                                                                                                                                                 </td></tr>\n",
       "<tr><td>record_outputs         </td><td>True     </td><td>[True, False]      </td><td>[&#x27;bool&#x27;]          </td><td>Set to True to record outputs at the solver level                                                                                                                                                                                                     </td></tr>\n",
       "<tr><td>record_rel_error       </td><td>True     </td><td>[True, False]      </td><td>[&#x27;bool&#x27;]          </td><td>Set to True to record relative error at the                                        solver level                                                                                                                                                       </td></tr>\n",
       "<tr><td>record_solver_residuals</td><td>False    </td><td>[True, False]      </td><td>[&#x27;bool&#x27;]          </td><td>Set to True to record residuals at the solver level                                                                                                                                                                                                   </td></tr>\n",
       "</tbody>\n",
       "</table>"
      ],
      "text/plain": [
       "<IPython.core.display.HTML object>"
      ]
     },
     "metadata": {},
     "output_type": "display_data"
    }
   ],
   "source": [
    "om.show_options_table(\"openmdao.solvers.solver.Solver\", recording_options=True)"
   ]
  },
  {
   "cell_type": "markdown",
   "id": "aging-sandwich",
   "metadata": {},
   "source": [
    "> **_Note:_**  Note that the `excludes` option takes precedence over the `includes` option.\n",
    "\n",
    "> **_Note:_**  The paths given in the `includes` and `excludes` options are relative to the `Group` that the solver is attached to.\n",
    "\n",
    "> **_Note:_**  It is currently not possible to record linear solvers."
   ]
  },
  {
   "cell_type": "markdown",
   "id": "polished-direction",
   "metadata": {},
   "source": [
    "## Solver Recording Example"
   ]
  },
  {
   "cell_type": "code",
   "execution_count": 3,
   "id": "vital-discrimination",
   "metadata": {
    "scrolled": true
   },
   "outputs": [
    {
     "name": "stdout",
     "output_type": "stream",
     "text": [
      "NL: NLBGS Converged in 7 iterations\n"
     ]
    }
   ],
   "source": [
    "import openmdao.api as om\n",
    "from openmdao.test_suite.components.sellar import SellarDerivatives\n",
    "\n",
    "prob = om.Problem(model=SellarDerivatives())\n",
    "prob.setup()\n",
    "\n",
    "recorder = om.SqliteRecorder(\"cases.sql\")\n",
    "\n",
    "solver = prob.model.nonlinear_solver\n",
    "solver.add_recorder(recorder)\n",
    "solver.recording_options['record_abs_error'] = True\n",
    "solver.options['use_apply_nonlinear'] = True\n",
    "\n",
    "prob.run_model()\n",
    "prob.cleanup()"
   ]
  },
  {
   "cell_type": "code",
   "execution_count": 4,
   "id": "entertaining-profile",
   "metadata": {},
   "outputs": [
    {
     "data": {
      "text/html": [
       "<table>\n",
       "<thead>\n",
       "<tr><th style=\"text-align: center;\">                     solver                     </th></tr>\n",
       "</thead>\n",
       "<tbody>\n",
       "<tr><td style=\"text-align: center;\">rank0:root._solve_nonlinear|0|NonlinearBlockGS|0</td></tr>\n",
       "</tbody>\n",
       "</table>"
      ],
      "text/plain": [
       "<IPython.core.display.HTML object>"
      ]
     },
     "metadata": {},
     "output_type": "display_data"
    },
    {
     "data": {
      "text/html": [
       "<table>\n",
       "<thead>\n",
       "<tr><th style=\"text-align: center;\">                     solver                     </th></tr>\n",
       "</thead>\n",
       "<tbody>\n",
       "<tr><td style=\"text-align: center;\">rank0:root._solve_nonlinear|0|NonlinearBlockGS|1</td></tr>\n",
       "</tbody>\n",
       "</table>"
      ],
      "text/plain": [
       "<IPython.core.display.HTML object>"
      ]
     },
     "metadata": {},
     "output_type": "display_data"
    },
    {
     "data": {
      "text/html": [
       "<table>\n",
       "<thead>\n",
       "<tr><th style=\"text-align: center;\">                     solver                     </th></tr>\n",
       "</thead>\n",
       "<tbody>\n",
       "<tr><td style=\"text-align: center;\">rank0:root._solve_nonlinear|0|NonlinearBlockGS|2</td></tr>\n",
       "</tbody>\n",
       "</table>"
      ],
      "text/plain": [
       "<IPython.core.display.HTML object>"
      ]
     },
     "metadata": {},
     "output_type": "display_data"
    },
    {
     "data": {
      "text/html": [
       "<table>\n",
       "<thead>\n",
       "<tr><th style=\"text-align: center;\">                     solver                     </th></tr>\n",
       "</thead>\n",
       "<tbody>\n",
       "<tr><td style=\"text-align: center;\">rank0:root._solve_nonlinear|0|NonlinearBlockGS|3</td></tr>\n",
       "</tbody>\n",
       "</table>"
      ],
      "text/plain": [
       "<IPython.core.display.HTML object>"
      ]
     },
     "metadata": {},
     "output_type": "display_data"
    },
    {
     "data": {
      "text/html": [
       "<table>\n",
       "<thead>\n",
       "<tr><th style=\"text-align: center;\">                     solver                     </th></tr>\n",
       "</thead>\n",
       "<tbody>\n",
       "<tr><td style=\"text-align: center;\">rank0:root._solve_nonlinear|0|NonlinearBlockGS|4</td></tr>\n",
       "</tbody>\n",
       "</table>"
      ],
      "text/plain": [
       "<IPython.core.display.HTML object>"
      ]
     },
     "metadata": {},
     "output_type": "display_data"
    },
    {
     "data": {
      "text/html": [
       "<table>\n",
       "<thead>\n",
       "<tr><th style=\"text-align: center;\">                     solver                     </th></tr>\n",
       "</thead>\n",
       "<tbody>\n",
       "<tr><td style=\"text-align: center;\">rank0:root._solve_nonlinear|0|NonlinearBlockGS|5</td></tr>\n",
       "</tbody>\n",
       "</table>"
      ],
      "text/plain": [
       "<IPython.core.display.HTML object>"
      ]
     },
     "metadata": {},
     "output_type": "display_data"
    },
    {
     "data": {
      "text/html": [
       "<table>\n",
       "<thead>\n",
       "<tr><th style=\"text-align: center;\">                     solver                     </th></tr>\n",
       "</thead>\n",
       "<tbody>\n",
       "<tr><td style=\"text-align: center;\">rank0:root._solve_nonlinear|0|NonlinearBlockGS|6</td></tr>\n",
       "</tbody>\n",
       "</table>"
      ],
      "text/plain": [
       "<IPython.core.display.HTML object>"
      ]
     },
     "metadata": {},
     "output_type": "display_data"
    }
   ],
   "source": [
    "cr = om.CaseReader(\"cases.sql\")\n",
    "solver_cases = cr.list_cases('root.nonlinear_solver')"
   ]
  },
  {
   "cell_type": "code",
   "execution_count": 5,
   "id": "bottom-speaking",
   "metadata": {
    "tags": [
     "remove-input",
     "remove-output"
    ]
   },
   "outputs": [],
   "source": [
    "assert len(solver_cases) == 7"
   ]
  },
  {
   "cell_type": "code",
   "execution_count": 6,
   "id": "dynamic-protest",
   "metadata": {
    "scrolled": true
   },
   "outputs": [
    {
     "name": "stdout",
     "output_type": "stream",
     "text": [
      "2.2545141061171243\n",
      "0.043663258684468076\n",
      "0.0008635223885384846\n",
      "1.707062189737485e-05\n",
      "3.3746495375908125e-07\n",
      "6.671260877055829e-09\n",
      "1.318802844707534e-10\n"
     ]
    }
   ],
   "source": [
    "for case_id in solver_cases:\n",
    "    print(cr.get_case(case_id).abs_err)"
   ]
  },
  {
   "cell_type": "code",
   "execution_count": 7,
   "id": "informal-strength",
   "metadata": {
    "tags": [
     "remove-input",
     "remove-output"
    ]
   },
   "outputs": [
    {
     "data": {
      "text/plain": [
       "2.7132782804768756e-09"
      ]
     },
     "execution_count": 7,
     "metadata": {},
     "output_type": "execute_result"
    }
   ],
   "source": [
    "assert_near_equal(cr.get_case(0).abs_err, 2.2545141, tolerance=1e-8)"
   ]
  }
 ],
 "metadata": {
  "celltoolbar": "Tags",
  "kernelspec": {
   "display_name": "Python 3",
   "language": "python",
   "name": "python3"
  },
  "language_info": {
   "codemirror_mode": {
    "name": "ipython",
    "version": 3
   },
   "file_extension": ".py",
   "mimetype": "text/x-python",
   "name": "python",
   "nbconvert_exporter": "python",
   "pygments_lexer": "ipython3",
   "version": "3.7.9"
  }
 },
 "nbformat": 4,
 "nbformat_minor": 5
}
