{
 "cells": [
  {
   "cell_type": "code",
   "execution_count": null,
   "id": "ceramic-classification",
   "metadata": {
    "tags": [
     "remove-input",
     "remove-output",
     "active-ipynb"
    ]
   },
   "outputs": [],
   "source": [
    "try:\n",
    "    import openmdao.api as om\n",
    "except ImportError:\n",
    "    !python -m pip install openmdao[notebooks]\n",
    "    import openmdao.api as om\n",
    "    \n",
    "from openmdao.utils.assert_utils import assert_near_equal"
   ]
  },
  {
   "cell_type": "markdown",
   "id": "sexual-neighbor",
   "metadata": {},
   "source": [
    "# Solver Recording"
   ]
  },
  {
   "cell_type": "markdown",
   "id": "associate-scanning",
   "metadata": {},
   "source": [
    "Solver recording is useful when you want to record the iterations within a solver. \n",
    "The recorder can capture the values of states, errors, and residuals as the solver converges."
   ]
  },
  {
   "cell_type": "code",
   "execution_count": null,
   "id": "composed-reserve",
   "metadata": {
    "scrolled": true
   },
   "outputs": [],
   "source": [
    "om.show_options_table(\"openmdao.solvers.solver.Solver\", recording_options=True)"
   ]
  },
  {
   "cell_type": "markdown",
   "id": "existing-binary",
   "metadata": {},
   "source": [
    "> **_Note:_**  Note that the `excludes` option takes precedence over the `includes` option.\n",
    "\n",
    "> **_Note:_**  The paths given in the `includes` and `excludes` options are relative to the `Group` that the solver is attached to.\n",
    "\n",
    "> **_Note:_**  It is currently not possible to record linear solvers."
   ]
  },
  {
   "cell_type": "markdown",
   "id": "likely-processor",
   "metadata": {},
   "source": [
    "## Solver Recording Example"
   ]
  },
  {
   "cell_type": "code",
   "execution_count": null,
   "id": "grateful-lender",
   "metadata": {
    "scrolled": true
   },
   "outputs": [],
   "source": [
    "import openmdao.api as om\n",
    "from openmdao.test_suite.components.sellar import SellarDerivatives\n",
    "\n",
    "prob = om.Problem(model=SellarDerivatives())\n",
    "prob.setup()\n",
    "\n",
    "recorder = om.SqliteRecorder(\"cases.sql\")\n",
    "\n",
    "solver = prob.model.nonlinear_solver\n",
    "solver.add_recorder(recorder)\n",
    "solver.recording_options['record_abs_error'] = True\n",
    "solver.options['use_apply_nonlinear'] = True\n",
    "\n",
    "prob.run_model()\n",
    "prob.cleanup()"
   ]
  },
  {
   "cell_type": "code",
   "execution_count": null,
   "id": "distinguished-choir",
   "metadata": {},
   "outputs": [],
   "source": [
    "cr = om.CaseReader(\"cases.sql\")\n",
    "solver_cases = cr.list_cases('root.nonlinear_solver')"
   ]
  },
  {
   "cell_type": "code",
   "execution_count": null,
   "id": "cultural-point",
   "metadata": {
    "tags": [
     "remove-input",
     "remove-output"
    ]
   },
   "outputs": [],
   "source": [
    "assert len(solver_cases) == 7"
   ]
  },
  {
   "cell_type": "code",
   "execution_count": null,
   "id": "bronze-individual",
   "metadata": {
    "scrolled": true
   },
   "outputs": [],
   "source": [
    "for case_id in solver_cases:\n",
    "    print(cr.get_case(case_id).abs_err)"
   ]
  },
  {
   "cell_type": "code",
   "execution_count": null,
   "id": "simplified-singles",
   "metadata": {
    "tags": [
     "remove-input",
     "remove-output"
    ]
   },
   "outputs": [],
   "source": [
    "assert_near_equal(cr.get_case(0).abs_err, 2.2545141, tolerance=1e-8)"
   ]
  }
 ],
 "metadata": {
  "celltoolbar": "Tags",
  "kernelspec": {
   "display_name": "Python 3",
   "language": "python",
   "name": "python3"
  },
  "language_info": {
   "codemirror_mode": {
    "name": "ipython",
    "version": 3
   },
   "file_extension": ".py",
   "mimetype": "text/x-python",
   "name": "python",
   "nbconvert_exporter": "python",
   "pygments_lexer": "ipython3",
   "version": "3.7.9"
  }
 },
 "nbformat": 4,
 "nbformat_minor": 5
}
