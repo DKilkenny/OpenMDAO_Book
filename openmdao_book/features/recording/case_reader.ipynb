{
 "cells": [
  {
   "cell_type": "code",
   "execution_count": 26,
   "id": "conceptual-france",
   "metadata": {
    "tags": [
     "remove-input",
     "remove-output",
     "active-ipy"
    ]
   },
   "outputs": [],
   "source": [
    "try:\n",
    "    import openmdao.api as om\n",
    "except ImportError:\n",
    "    !python -m pip install openmdao[notebooks]\n",
    "    import openmdao.api as om"
   ]
  },
  {
   "cell_type": "code",
   "execution_count": 27,
   "id": "earned-tuning",
   "metadata": {
    "tags": [
     "remove-input",
     "remove-output"
    ]
   },
   "outputs": [],
   "source": [
    "from openmdao.utils.assert_utils import assert_near_equal"
   ]
  },
  {
   "cell_type": "markdown",
   "id": "synthetic-formula",
   "metadata": {},
   "source": [
    "# Case Reader\n",
    "\n",
    "The `CaseReader` object is provided to read case recordings, regardless of which case recorder was used. \n",
    "\n",
    "Currently, OpenMDAO only implements `SqliteCaseRecorder`, therefore all the examples will make use of this recorder. Other types of case recorders are expected to be supported in the future."
   ]
  },
  {
   "cell_type": "markdown",
   "id": "plain-patch",
   "metadata": {},
   "source": [
    "## CaseReader Constructor\n",
    "\n",
    "The call signature for the `CaseReader` constructor is:\n",
    "\n",
    "```\n",
    "    .. automethod:: openmdao.recorders.sqlite_reader.SqliteCaseReader.__init__\n",
    "        :noindex:\n",
    "```"
   ]
  },
  {
   "cell_type": "markdown",
   "id": "saving-lover",
   "metadata": {},
   "source": [
    "## Determining What Sources and Variables Were Recorded\n",
    "\n",
    "The `CaseReader` object provides methods to determine which objects in the original problem were sources\n",
    "for for the recorded cases and what variables they recorded. Sources can include the problem, driver, components and solvers.\n",
    "\n",
    "The `list_sources` method provides a list of the names of objects that are the sources of recorded data\n",
    "in the file.\n",
    "```\n",
    ".. automethod:: openmdao.recorders.base_case_reader.BaseCaseReader.list_sources\n",
    "    :noindex:\n",
    "```\n",
    "\n",
    "The complementary `list_source_vars` method will provide a list of the input and output variables recorded\n",
    "for a given source.\n",
    "\n",
    "```\n",
    ".. automethod:: openmdao.recorders.base_case_reader.BaseCaseReader.list_source_vars\n",
    "    :noindex:\n",
    "```\n",
    "\n",
    "Here is an example of their usage:"
   ]
  },
  {
   "cell_type": "code",
   "execution_count": 2,
   "id": "unlikely-arrest",
   "metadata": {},
   "outputs": [],
   "source": [
    "import openmdao.api as om\n",
    "from openmdao.test_suite.components.sellar_feature import SellarMDA\n",
    "\n",
    "import numpy as np\n",
    "\n",
    "# define Sellar MDA problem\n",
    "prob = om.Problem(model=SellarMDA())\n",
    "\n",
    "model = prob.model\n",
    "model.add_design_var('z', lower=np.array([-10.0, 0.0]),\n",
    "                          upper=np.array([10.0, 10.0]))\n",
    "model.add_design_var('x', lower=0.0, upper=10.0)\n",
    "model.add_objective('obj')\n",
    "model.add_constraint('con1', upper=0.0)\n",
    "model.add_constraint('con2', upper=0.0)\n",
    "\n",
    "prob.driver = om.ScipyOptimizeDriver(optimizer='SLSQP', tol=1e-9, disp=False)\n",
    "\n",
    "# add recorder to the driver, model and solver\n",
    "recorder = om.SqliteRecorder('cases.sql')\n",
    "\n",
    "prob.driver.add_recorder(recorder)\n",
    "model.add_recorder(recorder)\n",
    "model.nonlinear_solver.add_recorder(recorder)\n",
    "\n",
    "# run the problem\n",
    "prob.setup()\n",
    "prob.set_solver_print(0)\n",
    "prob.run_driver()\n",
    "prob.cleanup()\n",
    "\n",
    "cr = om.CaseReader('cases.sql')"
   ]
  },
  {
   "cell_type": "code",
   "execution_count": 3,
   "id": "attended-eagle",
   "metadata": {
    "scrolled": true
   },
   "outputs": [
    {
     "data": {
      "text/html": [
       "<table>\n",
       "<thead>\n",
       "<tr><th style=\"text-align: center;\">       Sources       </th></tr>\n",
       "</thead>\n",
       "<tbody>\n",
       "<tr><td style=\"text-align: center;\">       driver        </td></tr>\n",
       "<tr><td style=\"text-align: center;\">root.nonlinear_solver</td></tr>\n",
       "<tr><td style=\"text-align: center;\">        root         </td></tr>\n",
       "</tbody>\n",
       "</table>"
      ],
      "text/plain": [
       "<IPython.core.display.HTML object>"
      ]
     },
     "metadata": {},
     "output_type": "display_data"
    }
   ],
   "source": [
    "sources = cr.list_sources()"
   ]
  },
  {
   "cell_type": "code",
   "execution_count": 4,
   "id": "serious-decrease",
   "metadata": {
    "tags": [
     "remove-input",
     "remove-output"
    ]
   },
   "outputs": [],
   "source": [
    "assert sorted(sources) == ['driver', 'root', 'root.nonlinear_solver']"
   ]
  },
  {
   "cell_type": "code",
   "execution_count": 5,
   "id": "finite-spending",
   "metadata": {
    "scrolled": true
   },
   "outputs": [
    {
     "data": {
      "text/html": [
       "<table>\n",
       "<thead>\n",
       "<tr><th style=\"text-align: center;\"> inputs </th><th style=\"text-align: center;\"> outputs </th><th style=\"text-align: center;\"> residuals </th></tr>\n",
       "</thead>\n",
       "<tbody>\n",
       "<tr><td style=\"text-align: center;\">        </td><td style=\"text-align: center;\">   obj   </td><td style=\"text-align: center;\">           </td></tr>\n",
       "<tr><td style=\"text-align: center;\">        </td><td style=\"text-align: center;\">    x    </td><td style=\"text-align: center;\">           </td></tr>\n",
       "<tr><td style=\"text-align: center;\">        </td><td style=\"text-align: center;\">    z    </td><td style=\"text-align: center;\">           </td></tr>\n",
       "<tr><td style=\"text-align: center;\">        </td><td style=\"text-align: center;\">  con1   </td><td style=\"text-align: center;\">           </td></tr>\n",
       "<tr><td style=\"text-align: center;\">        </td><td style=\"text-align: center;\">  con2   </td><td style=\"text-align: center;\">           </td></tr>\n",
       "</tbody>\n",
       "</table>"
      ],
      "text/plain": [
       "<IPython.core.display.HTML object>"
      ]
     },
     "metadata": {},
     "output_type": "display_data"
    }
   ],
   "source": [
    "driver_vars = cr.list_source_vars('driver')"
   ]
  },
  {
   "cell_type": "code",
   "execution_count": 6,
   "id": "biblical-execution",
   "metadata": {
    "tags": [
     "remove-input",
     "remove-output"
    ]
   },
   "outputs": [],
   "source": [
    "assert driver_vars['inputs'] == []\n",
    "assert set(driver_vars['outputs']) == {'con1', 'con2', 'obj', 'x', 'z'}\n",
    "assert driver_vars['residuals'] == []"
   ]
  },
  {
   "cell_type": "code",
   "execution_count": 7,
   "id": "southwest-scale",
   "metadata": {},
   "outputs": [
    {
     "data": {
      "text/html": [
       "<table>\n",
       "<thead>\n",
       "<tr><th style=\"text-align: center;\"> inputs </th><th style=\"text-align: center;\"> outputs </th><th style=\"text-align: center;\"> residuals </th></tr>\n",
       "</thead>\n",
       "<tbody>\n",
       "<tr><td style=\"text-align: center;\">   y1   </td><td style=\"text-align: center;\">    z    </td><td style=\"text-align: center;\">     z     </td></tr>\n",
       "<tr><td style=\"text-align: center;\">   y2   </td><td style=\"text-align: center;\">    x    </td><td style=\"text-align: center;\">     x     </td></tr>\n",
       "<tr><td style=\"text-align: center;\">   x    </td><td style=\"text-align: center;\">  con1   </td><td style=\"text-align: center;\">   con1    </td></tr>\n",
       "<tr><td style=\"text-align: center;\">   z    </td><td style=\"text-align: center;\">  con2   </td><td style=\"text-align: center;\">   con2    </td></tr>\n",
       "<tr><td style=\"text-align: center;\">        </td><td style=\"text-align: center;\">   y1    </td><td style=\"text-align: center;\">    y1     </td></tr>\n",
       "<tr><td style=\"text-align: center;\">        </td><td style=\"text-align: center;\">   y2    </td><td style=\"text-align: center;\">    y2     </td></tr>\n",
       "<tr><td style=\"text-align: center;\">        </td><td style=\"text-align: center;\">   obj   </td><td style=\"text-align: center;\">    obj    </td></tr>\n",
       "</tbody>\n",
       "</table>"
      ],
      "text/plain": [
       "<IPython.core.display.HTML object>"
      ]
     },
     "metadata": {},
     "output_type": "display_data"
    }
   ],
   "source": [
    "model_vars = cr.list_source_vars('root')"
   ]
  },
  {
   "cell_type": "code",
   "execution_count": 8,
   "id": "accompanied-texas",
   "metadata": {
    "tags": [
     "remove-input",
     "remove-output"
    ]
   },
   "outputs": [],
   "source": [
    "assert set(model_vars['inputs']) == {'x', 'y1', 'y2', 'z'}\n",
    "assert set(model_vars['outputs']) == {'con1', 'con2', 'obj', 'x', 'y1', 'y2', 'z'}\n",
    "assert set(model_vars['residuals']) == {'con1', 'con2', 'obj', 'x', 'y1', 'y2', 'z'}"
   ]
  },
  {
   "cell_type": "code",
   "execution_count": 9,
   "id": "unable-still",
   "metadata": {},
   "outputs": [
    {
     "data": {
      "text/html": [
       "<table>\n",
       "<thead>\n",
       "<tr><th style=\"text-align: center;\"> inputs </th><th style=\"text-align: center;\"> outputs </th><th style=\"text-align: center;\"> residuals </th></tr>\n",
       "</thead>\n",
       "<tbody>\n",
       "<tr><td style=\"text-align: center;\">   z    </td><td style=\"text-align: center;\">    z    </td><td style=\"text-align: center;\">           </td></tr>\n",
       "<tr><td style=\"text-align: center;\">   x    </td><td style=\"text-align: center;\">    x    </td><td style=\"text-align: center;\">           </td></tr>\n",
       "<tr><td style=\"text-align: center;\">   y2   </td><td style=\"text-align: center;\">   y1    </td><td style=\"text-align: center;\">           </td></tr>\n",
       "<tr><td style=\"text-align: center;\">   y1   </td><td style=\"text-align: center;\">   y2    </td><td style=\"text-align: center;\">           </td></tr>\n",
       "<tr><td style=\"text-align: center;\">        </td><td style=\"text-align: center;\">   obj   </td><td style=\"text-align: center;\">           </td></tr>\n",
       "<tr><td style=\"text-align: center;\">        </td><td style=\"text-align: center;\">  con1   </td><td style=\"text-align: center;\">           </td></tr>\n",
       "<tr><td style=\"text-align: center;\">        </td><td style=\"text-align: center;\">  con2   </td><td style=\"text-align: center;\">           </td></tr>\n",
       "</tbody>\n",
       "</table>"
      ],
      "text/plain": [
       "<IPython.core.display.HTML object>"
      ]
     },
     "metadata": {},
     "output_type": "display_data"
    }
   ],
   "source": [
    "solver_vars = cr.list_source_vars('root.nonlinear_solver')"
   ]
  },
  {
   "cell_type": "code",
   "execution_count": 10,
   "id": "comparative-minute",
   "metadata": {
    "tags": [
     "remove-input",
     "remove-output"
    ]
   },
   "outputs": [],
   "source": [
    "assert set(solver_vars['inputs']) == {'x', 'y1', 'y2', 'z'}\n",
    "assert set(solver_vars['outputs']) == {'con1', 'con2', 'obj', 'x', 'y1', 'y2', 'z'}\n",
    "assert solver_vars['residuals'] == []"
   ]
  },
  {
   "cell_type": "markdown",
   "id": "center-groove",
   "metadata": {},
   "source": [
    "## Case Names\n",
    "\n",
    "The `CaseReader` provides access to `Case` objects, each of which encapsulates a data point recorded by\n",
    "one of the sources.\n",
    "\n",
    "`Case` objects are uniquely identified in a case recorder file by their case names. A case name is a string.\n",
    "As an example, here is a case name:\n",
    "\n",
    "    'rank0:ScipyOptimize_SLSQP|1|root._solve_nonlinear|1'\n",
    "\n",
    "The first part of the case name indicates which rank or process that the case was recorded from. \n",
    "The remainder of the case name shows the hierarchical path to the object that was recorded along \n",
    "with the iteration counts for each object along the path. It follows a pattern of repeated pairs of\n",
    "\n",
    "    - object name ( problem, driver, system, or solver )\n",
    "    - iteration count\n",
    "\n",
    "These are separated by the `|` character.\n",
    "\n",
    "So in the given example, the case is:\n",
    "\n",
    "    - from rank 0\n",
    "    - the first iteration of the driver, `ScipyOptimize_SLSQP`\n",
    "    - the first execution of the `root` system which is the top-level model"
   ]
  },
  {
   "cell_type": "markdown",
   "id": "opening-proportion",
   "metadata": {},
   "source": [
    "\n",
    "## Getting Names of the Cases\n",
    "\n",
    "The `list_cases` method returns the names of the cases in the order in which\n",
    "the cases were executed. You can optionally request cases only from a specific `source`.\n",
    "\n",
    "```\n",
    ".. automethod:: openmdao.recorders.base_case_reader.BaseCaseReader.list_cases\n",
    "    :noindex:\n",
    "```\n",
    "\n",
    "There are two optional arguments to the `list_cases` method that affect what is returned.\n",
    "\n",
    "    - recurse: causes the returned value to include child cases.\n",
    "\n",
    "    - flat: works in conjunction with the `recurse` argument to determine if the returned\n",
    "      results are in the form of a list or nested dict. If recurse=True, flat=False, and there\n",
    "      are child cases, then the returned value is a nested ordered dict. Otherwise, it is a list.\n"
   ]
  },
  {
   "cell_type": "markdown",
   "id": "rolled-reaction",
   "metadata": {},
   "source": [
    "\n",
    "## Accessing Cases\n",
    "\n",
    "Getting information from the cases is a two-step process. First, you need to get access to the Case object and then you can call a variety of methods on the Case object to get values from it. The second step is described on the :ref:`Getting Data from a Case<case_reader_data>` page.\n",
    "\n",
    "There are two methods used to get a specific `Case`:\n",
    "\n",
    "    - get_cases\n",
    "    - get_case\n"
   ]
  },
  {
   "cell_type": "markdown",
   "id": "reverse-orange",
   "metadata": {},
   "source": [
    "\n",
    "### Accessing Cases Using get_cases Method\n",
    "\n",
    "The `get_cases` method provides a quick and easy way to iterate over all the cases.\n",
    "```\n",
    ".. automethod:: openmdao.recorders.base_case_reader.BaseCaseReader.get_cases\n",
    "    :noindex:\n",
    "```\n",
    "This method is similar to the `list_cases` method in that it has the two optional arguments\n",
    "`recurse` and `flat` to control what is returned as described above.\n",
    "\n",
    "Here is an example of its usage:"
   ]
  },
  {
   "cell_type": "code",
   "execution_count": 11,
   "id": "acute-duration",
   "metadata": {
    "scrolled": true
   },
   "outputs": [
    {
     "name": "stdout",
     "output_type": "stream",
     "text": [
      "Optimization terminated successfully    (Exit mode 0)\n",
      "            Current function value: [3.18339553]\n",
      "            Iterations: 8\n",
      "            Function evaluations: 9\n",
      "            Gradient evaluations: 8\n",
      "Optimization Complete\n",
      "-----------------------------------\n"
     ]
    }
   ],
   "source": [
    "import openmdao.api as om\n",
    "from openmdao.test_suite.components.sellar_feature import SellarMDA\n",
    "\n",
    "import numpy as np\n",
    "\n",
    "prob = om.Problem(model=SellarMDA())\n",
    "\n",
    "model = prob.model\n",
    "model.add_design_var('z', lower=np.array([-10.0, 0.0]),\n",
    "                          upper=np.array([10.0, 10.0]))\n",
    "model.add_design_var('x', lower=0.0, upper=10.0)\n",
    "model.add_objective('obj')\n",
    "model.add_constraint('con1', upper=0.0)\n",
    "model.add_constraint('con2', upper=0.0)\n",
    "\n",
    "driver = prob.driver = om.ScipyOptimizeDriver(optimizer='SLSQP', tol=1e-5)\n",
    "driver.add_recorder(om.SqliteRecorder('cases.sql'))\n",
    "\n",
    "prob.setup()\n",
    "prob.set_solver_print(0)\n",
    "prob.run_driver()\n",
    "prob.cleanup()"
   ]
  },
  {
   "cell_type": "code",
   "execution_count": 12,
   "id": "breathing-thanksgiving",
   "metadata": {
    "scrolled": false
   },
   "outputs": [
    {
     "name": "stdout",
     "output_type": "stream",
     "text": [
      "rank0:ScipyOptimize_SLSQP|0 ['con1', 'con2', 'obj', 'x', 'z']\n",
      "rank0:ScipyOptimize_SLSQP|1 ['con1', 'con2', 'obj', 'x', 'z']\n",
      "rank0:ScipyOptimize_SLSQP|2 ['con1', 'con2', 'obj', 'x', 'z']\n",
      "rank0:ScipyOptimize_SLSQP|3 ['con1', 'con2', 'obj', 'x', 'z']\n",
      "rank0:ScipyOptimize_SLSQP|4 ['con1', 'con2', 'obj', 'x', 'z']\n",
      "rank0:ScipyOptimize_SLSQP|5 ['con1', 'con2', 'obj', 'x', 'z']\n",
      "rank0:ScipyOptimize_SLSQP|6 ['con1', 'con2', 'obj', 'x', 'z']\n",
      "rank0:ScipyOptimize_SLSQP|7 ['con1', 'con2', 'obj', 'x', 'z']\n",
      "rank0:ScipyOptimize_SLSQP|8 ['con1', 'con2', 'obj', 'x', 'z']\n",
      "rank0:ScipyOptimize_SLSQP|9 ['con1', 'con2', 'obj', 'x', 'z']\n"
     ]
    }
   ],
   "source": [
    "cr = om.CaseReader('cases.sql')\n",
    "cases = cr.get_cases()\n",
    "for case in cases:\n",
    "    print(case.name, sorted(case.outputs))"
   ]
  },
  {
   "cell_type": "code",
   "execution_count": 13,
   "id": "rental-recording",
   "metadata": {
    "tags": [
     "remove-input",
     "remove-output"
    ]
   },
   "outputs": [],
   "source": [
    "assert len(cases) == driver.iter_count\n",
    "for i, case in enumerate(cases):\n",
    "    assert case.name == f\"rank0:ScipyOptimize_SLSQP|{i}\", f\"unexpected case name: {case.name}\"\n",
    "    assert sorted(case.outputs) == ['con1', 'con2', 'obj', 'x', 'z']"
   ]
  },
  {
   "cell_type": "markdown",
   "id": "standing-offer",
   "metadata": {},
   "source": [
    "\n",
    "### Accessing Cases Using get_case Method\n",
    "\n",
    "The `get_case` method returns a `Case` object given a case name.\n",
    "```\n",
    ".. automethod:: openmdao.recorders.base_case_reader.BaseCaseReader.get_case\n",
    "    :noindex:\n",
    "```\n",
    "You can use the `get_case` method to get a specific case from the list of case names\n",
    "returned by `list_cases` as shown here:"
   ]
  },
  {
   "cell_type": "code",
   "execution_count": 14,
   "id": "latest-switch",
   "metadata": {
    "scrolled": false
   },
   "outputs": [
    {
     "data": {
      "text/html": [
       "<table>\n",
       "<thead>\n",
       "<tr><th style=\"text-align: center;\">          driver           </th></tr>\n",
       "</thead>\n",
       "<tbody>\n",
       "<tr><td style=\"text-align: center;\">rank0:ScipyOptimize_SLSQP|0</td></tr>\n",
       "<tr><td style=\"text-align: center;\">rank0:ScipyOptimize_SLSQP|1</td></tr>\n",
       "<tr><td style=\"text-align: center;\">rank0:ScipyOptimize_SLSQP|2</td></tr>\n",
       "<tr><td style=\"text-align: center;\">rank0:ScipyOptimize_SLSQP|3</td></tr>\n",
       "<tr><td style=\"text-align: center;\">rank0:ScipyOptimize_SLSQP|4</td></tr>\n",
       "<tr><td style=\"text-align: center;\">rank0:ScipyOptimize_SLSQP|5</td></tr>\n",
       "<tr><td style=\"text-align: center;\">rank0:ScipyOptimize_SLSQP|6</td></tr>\n",
       "<tr><td style=\"text-align: center;\">rank0:ScipyOptimize_SLSQP|7</td></tr>\n",
       "<tr><td style=\"text-align: center;\">rank0:ScipyOptimize_SLSQP|8</td></tr>\n",
       "<tr><td style=\"text-align: center;\">rank0:ScipyOptimize_SLSQP|9</td></tr>\n",
       "</tbody>\n",
       "</table>"
      ],
      "text/plain": [
       "<IPython.core.display.HTML object>"
      ]
     },
     "metadata": {},
     "output_type": "display_data"
    }
   ],
   "source": [
    "    case_names = cr.list_cases()"
   ]
  },
  {
   "cell_type": "code",
   "execution_count": 15,
   "id": "modified-space",
   "metadata": {
    "tags": [
     "remove-input",
     "remove-output"
    ]
   },
   "outputs": [],
   "source": [
    "assert len(case_names) == driver.iter_count\n",
    "for i, case_name in enumerate(case_names):\n",
    "    assert case_name == f\"rank0:ScipyOptimize_SLSQP|{i}\", f\"unexpected case name: {case_name}\""
   ]
  },
  {
   "cell_type": "code",
   "execution_count": 16,
   "id": "muslim-trust",
   "metadata": {},
   "outputs": [
    {
     "name": "stdout",
     "output_type": "stream",
     "text": [
      "rank0:ScipyOptimize_SLSQP|0 ['con1', 'con2', 'obj', 'x', 'z']\n"
     ]
    }
   ],
   "source": [
    "# access a Case by name (e.g. first case)\n",
    "case = cr.get_case(\"rank0:ScipyOptimize_SLSQP|0\")\n",
    "print(case.name, sorted(case.outputs))"
   ]
  },
  {
   "cell_type": "code",
   "execution_count": 17,
   "id": "incorrect-territory",
   "metadata": {
    "tags": [
     "remove-input",
     "remove-output"
    ]
   },
   "outputs": [],
   "source": [
    "assert case.name == \"rank0:ScipyOptimize_SLSQP|0\", f\"unexpected case name: {case.name}\""
   ]
  },
  {
   "cell_type": "code",
   "execution_count": 18,
   "id": "streaming-pioneer",
   "metadata": {},
   "outputs": [
    {
     "name": "stdout",
     "output_type": "stream",
     "text": [
      "rank0:ScipyOptimize_SLSQP|0 ['con1', 'con2', 'obj', 'x', 'z']\n"
     ]
    }
   ],
   "source": [
    "# access a Case by index (e.g. first case)\n",
    "case = cr.get_case(0)\n",
    "print(case.name, sorted(case.outputs))"
   ]
  },
  {
   "cell_type": "code",
   "execution_count": 19,
   "id": "vocal-designation",
   "metadata": {
    "tags": [
     "remove-input",
     "remove-output"
    ]
   },
   "outputs": [],
   "source": [
    "assert case.name == \"rank0:ScipyOptimize_SLSQP|0\", f\"unexpected case name: {case.name}\""
   ]
  },
  {
   "cell_type": "code",
   "execution_count": 20,
   "id": "industrial-monroe",
   "metadata": {},
   "outputs": [
    {
     "name": "stdout",
     "output_type": "stream",
     "text": [
      "rank0:ScipyOptimize_SLSQP|9 ['con1', 'con2', 'obj', 'x', 'z']\n"
     ]
    }
   ],
   "source": [
    "# access a Case by index (e.g. last case)\n",
    "case = cr.get_case(-1)\n",
    "print(case.name, sorted(case.outputs))"
   ]
  },
  {
   "cell_type": "code",
   "execution_count": 21,
   "id": "downtown-temperature",
   "metadata": {
    "tags": [
     "remove-input",
     "remove-output"
    ]
   },
   "outputs": [],
   "source": [
    "assert case.name == f\"rank0:ScipyOptimize_SLSQP|{driver.iter_count-1}\", f\"unexpected case name: {case.name}\""
   ]
  },
  {
   "cell_type": "code",
   "execution_count": 22,
   "id": "disturbed-custom",
   "metadata": {
    "scrolled": true
   },
   "outputs": [
    {
     "name": "stdout",
     "output_type": "stream",
     "text": [
      "rank0:ScipyOptimize_SLSQP|0 ['con1', 'con2', 'obj', 'x', 'z']\n",
      "rank0:ScipyOptimize_SLSQP|1 ['con1', 'con2', 'obj', 'x', 'z']\n",
      "rank0:ScipyOptimize_SLSQP|2 ['con1', 'con2', 'obj', 'x', 'z']\n",
      "rank0:ScipyOptimize_SLSQP|3 ['con1', 'con2', 'obj', 'x', 'z']\n",
      "rank0:ScipyOptimize_SLSQP|4 ['con1', 'con2', 'obj', 'x', 'z']\n",
      "rank0:ScipyOptimize_SLSQP|5 ['con1', 'con2', 'obj', 'x', 'z']\n",
      "rank0:ScipyOptimize_SLSQP|6 ['con1', 'con2', 'obj', 'x', 'z']\n",
      "rank0:ScipyOptimize_SLSQP|7 ['con1', 'con2', 'obj', 'x', 'z']\n",
      "rank0:ScipyOptimize_SLSQP|8 ['con1', 'con2', 'obj', 'x', 'z']\n",
      "rank0:ScipyOptimize_SLSQP|9 ['con1', 'con2', 'obj', 'x', 'z']\n"
     ]
    }
   ],
   "source": [
    "# get each case by looping over case names\n",
    "for name in case_names:\n",
    "    case = cr.get_case(name)\n",
    "    print(case.name, sorted(case.outputs))"
   ]
  },
  {
   "cell_type": "markdown",
   "id": "honey-hospital",
   "metadata": {},
   "source": [
    "### Processing a Nested Dictionary of Its Child Cases\n",
    "\n",
    "The following example demonstrates selecting a case from a case list and processing a nested\n",
    "dictionary of its child cases."
   ]
  },
  {
   "cell_type": "code",
   "execution_count": 23,
   "id": "integrated-cleaning",
   "metadata": {},
   "outputs": [
    {
     "name": "stdout",
     "output_type": "stream",
     "text": [
      "Optimization terminated successfully    (Exit mode 0)\n",
      "            Current function value: [3.18339553]\n",
      "            Iterations: 8\n",
      "            Function evaluations: 9\n",
      "            Gradient evaluations: 8\n",
      "Optimization Complete\n",
      "-----------------------------------\n"
     ]
    }
   ],
   "source": [
    "import openmdao.api as om\n",
    "from openmdao.test_suite.components.sellar_feature import SellarMDA\n",
    "\n",
    "import numpy as np\n",
    "\n",
    "# define Sellar MDA problem\n",
    "prob = om.Problem(model=SellarMDA())\n",
    "\n",
    "model = prob.model\n",
    "model.add_design_var('z', lower=np.array([-10.0, 0.0]),\n",
    "                          upper=np.array([10.0, 10.0]))\n",
    "model.add_design_var('x', lower=0.0, upper=10.0)\n",
    "model.add_objective('obj')\n",
    "model.add_constraint('con1', upper=0.0)\n",
    "model.add_constraint('con2', upper=0.0)\n",
    "\n",
    "prob.driver = om.ScipyOptimizeDriver(optimizer='SLSQP', tol=1e-5)\n",
    "\n",
    "# add recorder to the driver, model and solver\n",
    "recorder = om.SqliteRecorder('cases.sql')\n",
    "\n",
    "prob.driver.add_recorder(recorder)\n",
    "model.add_recorder(recorder)\n",
    "model.nonlinear_solver.add_recorder(recorder)\n",
    "\n",
    "# run the problem\n",
    "prob.setup()\n",
    "prob.set_solver_print(0)\n",
    "prob.run_driver()\n",
    "prob.cleanup()"
   ]
  },
  {
   "cell_type": "code",
   "execution_count": 24,
   "id": "opponent-spelling",
   "metadata": {},
   "outputs": [
    {
     "data": {
      "text/html": [
       "<table>\n",
       "<thead>\n",
       "<tr><th style=\"text-align: center;\">                            solver                             </th></tr>\n",
       "</thead>\n",
       "<tbody>\n",
       "<tr><td style=\"text-align: center;\">rank0:ScipyOptimize_SLSQP|0|root._solve_nonlinear|0|NLRunOnce|0</td></tr>\n",
       "</tbody>\n",
       "</table>"
      ],
      "text/plain": [
       "<IPython.core.display.HTML object>"
      ]
     },
     "metadata": {},
     "output_type": "display_data"
    },
    {
     "data": {
      "text/html": [
       "<table>\n",
       "<thead>\n",
       "<tr><th style=\"text-align: center;\">                      system                       </th></tr>\n",
       "</thead>\n",
       "<tbody>\n",
       "<tr><td style=\"text-align: center;\">rank0:ScipyOptimize_SLSQP|0|root._solve_nonlinear|0</td></tr>\n",
       "</tbody>\n",
       "</table>"
      ],
      "text/plain": [
       "<IPython.core.display.HTML object>"
      ]
     },
     "metadata": {},
     "output_type": "display_data"
    },
    {
     "data": {
      "text/html": [
       "<table>\n",
       "<thead>\n",
       "<tr><th style=\"text-align: center;\">          driver           </th></tr>\n",
       "</thead>\n",
       "<tbody>\n",
       "<tr><td style=\"text-align: center;\">rank0:ScipyOptimize_SLSQP|0</td></tr>\n",
       "</tbody>\n",
       "</table>"
      ],
      "text/plain": [
       "<IPython.core.display.HTML object>"
      ]
     },
     "metadata": {},
     "output_type": "display_data"
    },
    {
     "data": {
      "text/html": [
       "<table>\n",
       "<thead>\n",
       "<tr><th style=\"text-align: center;\">                            solver                             </th></tr>\n",
       "</thead>\n",
       "<tbody>\n",
       "<tr><td style=\"text-align: center;\">rank0:ScipyOptimize_SLSQP|1|root._solve_nonlinear|1|NLRunOnce|0</td></tr>\n",
       "</tbody>\n",
       "</table>"
      ],
      "text/plain": [
       "<IPython.core.display.HTML object>"
      ]
     },
     "metadata": {},
     "output_type": "display_data"
    },
    {
     "data": {
      "text/html": [
       "<table>\n",
       "<thead>\n",
       "<tr><th style=\"text-align: center;\">                      system                       </th></tr>\n",
       "</thead>\n",
       "<tbody>\n",
       "<tr><td style=\"text-align: center;\">rank0:ScipyOptimize_SLSQP|1|root._solve_nonlinear|1</td></tr>\n",
       "</tbody>\n",
       "</table>"
      ],
      "text/plain": [
       "<IPython.core.display.HTML object>"
      ]
     },
     "metadata": {},
     "output_type": "display_data"
    },
    {
     "data": {
      "text/html": [
       "<table>\n",
       "<thead>\n",
       "<tr><th style=\"text-align: center;\">          driver           </th></tr>\n",
       "</thead>\n",
       "<tbody>\n",
       "<tr><td style=\"text-align: center;\">rank0:ScipyOptimize_SLSQP|1</td></tr>\n",
       "</tbody>\n",
       "</table>"
      ],
      "text/plain": [
       "<IPython.core.display.HTML object>"
      ]
     },
     "metadata": {},
     "output_type": "display_data"
    },
    {
     "data": {
      "text/html": [
       "<table>\n",
       "<thead>\n",
       "<tr><th style=\"text-align: center;\">                            solver                             </th></tr>\n",
       "</thead>\n",
       "<tbody>\n",
       "<tr><td style=\"text-align: center;\">rank0:ScipyOptimize_SLSQP|2|root._solve_nonlinear|2|NLRunOnce|0</td></tr>\n",
       "</tbody>\n",
       "</table>"
      ],
      "text/plain": [
       "<IPython.core.display.HTML object>"
      ]
     },
     "metadata": {},
     "output_type": "display_data"
    },
    {
     "data": {
      "text/html": [
       "<table>\n",
       "<thead>\n",
       "<tr><th style=\"text-align: center;\">                      system                       </th></tr>\n",
       "</thead>\n",
       "<tbody>\n",
       "<tr><td style=\"text-align: center;\">rank0:ScipyOptimize_SLSQP|2|root._solve_nonlinear|2</td></tr>\n",
       "</tbody>\n",
       "</table>"
      ],
      "text/plain": [
       "<IPython.core.display.HTML object>"
      ]
     },
     "metadata": {},
     "output_type": "display_data"
    },
    {
     "data": {
      "text/html": [
       "<table>\n",
       "<thead>\n",
       "<tr><th style=\"text-align: center;\">          driver           </th></tr>\n",
       "</thead>\n",
       "<tbody>\n",
       "<tr><td style=\"text-align: center;\">rank0:ScipyOptimize_SLSQP|2</td></tr>\n",
       "</tbody>\n",
       "</table>"
      ],
      "text/plain": [
       "<IPython.core.display.HTML object>"
      ]
     },
     "metadata": {},
     "output_type": "display_data"
    },
    {
     "data": {
      "text/html": [
       "<table>\n",
       "<thead>\n",
       "<tr><th style=\"text-align: center;\">                            solver                             </th></tr>\n",
       "</thead>\n",
       "<tbody>\n",
       "<tr><td style=\"text-align: center;\">rank0:ScipyOptimize_SLSQP|3|root._solve_nonlinear|3|NLRunOnce|0</td></tr>\n",
       "</tbody>\n",
       "</table>"
      ],
      "text/plain": [
       "<IPython.core.display.HTML object>"
      ]
     },
     "metadata": {},
     "output_type": "display_data"
    },
    {
     "data": {
      "text/html": [
       "<table>\n",
       "<thead>\n",
       "<tr><th style=\"text-align: center;\">                      system                       </th></tr>\n",
       "</thead>\n",
       "<tbody>\n",
       "<tr><td style=\"text-align: center;\">rank0:ScipyOptimize_SLSQP|3|root._solve_nonlinear|3</td></tr>\n",
       "</tbody>\n",
       "</table>"
      ],
      "text/plain": [
       "<IPython.core.display.HTML object>"
      ]
     },
     "metadata": {},
     "output_type": "display_data"
    },
    {
     "data": {
      "text/html": [
       "<table>\n",
       "<thead>\n",
       "<tr><th style=\"text-align: center;\">          driver           </th></tr>\n",
       "</thead>\n",
       "<tbody>\n",
       "<tr><td style=\"text-align: center;\">rank0:ScipyOptimize_SLSQP|3</td></tr>\n",
       "</tbody>\n",
       "</table>"
      ],
      "text/plain": [
       "<IPython.core.display.HTML object>"
      ]
     },
     "metadata": {},
     "output_type": "display_data"
    },
    {
     "data": {
      "text/html": [
       "<table>\n",
       "<thead>\n",
       "<tr><th style=\"text-align: center;\">                            solver                             </th></tr>\n",
       "</thead>\n",
       "<tbody>\n",
       "<tr><td style=\"text-align: center;\">rank0:ScipyOptimize_SLSQP|4|root._solve_nonlinear|4|NLRunOnce|0</td></tr>\n",
       "</tbody>\n",
       "</table>"
      ],
      "text/plain": [
       "<IPython.core.display.HTML object>"
      ]
     },
     "metadata": {},
     "output_type": "display_data"
    },
    {
     "data": {
      "text/html": [
       "<table>\n",
       "<thead>\n",
       "<tr><th style=\"text-align: center;\">                      system                       </th></tr>\n",
       "</thead>\n",
       "<tbody>\n",
       "<tr><td style=\"text-align: center;\">rank0:ScipyOptimize_SLSQP|4|root._solve_nonlinear|4</td></tr>\n",
       "</tbody>\n",
       "</table>"
      ],
      "text/plain": [
       "<IPython.core.display.HTML object>"
      ]
     },
     "metadata": {},
     "output_type": "display_data"
    },
    {
     "data": {
      "text/html": [
       "<table>\n",
       "<thead>\n",
       "<tr><th style=\"text-align: center;\">          driver           </th></tr>\n",
       "</thead>\n",
       "<tbody>\n",
       "<tr><td style=\"text-align: center;\">rank0:ScipyOptimize_SLSQP|4</td></tr>\n",
       "</tbody>\n",
       "</table>"
      ],
      "text/plain": [
       "<IPython.core.display.HTML object>"
      ]
     },
     "metadata": {},
     "output_type": "display_data"
    },
    {
     "data": {
      "text/html": [
       "<table>\n",
       "<thead>\n",
       "<tr><th style=\"text-align: center;\">                            solver                             </th></tr>\n",
       "</thead>\n",
       "<tbody>\n",
       "<tr><td style=\"text-align: center;\">rank0:ScipyOptimize_SLSQP|5|root._solve_nonlinear|5|NLRunOnce|0</td></tr>\n",
       "</tbody>\n",
       "</table>"
      ],
      "text/plain": [
       "<IPython.core.display.HTML object>"
      ]
     },
     "metadata": {},
     "output_type": "display_data"
    },
    {
     "data": {
      "text/html": [
       "<table>\n",
       "<thead>\n",
       "<tr><th style=\"text-align: center;\">                      system                       </th></tr>\n",
       "</thead>\n",
       "<tbody>\n",
       "<tr><td style=\"text-align: center;\">rank0:ScipyOptimize_SLSQP|5|root._solve_nonlinear|5</td></tr>\n",
       "</tbody>\n",
       "</table>"
      ],
      "text/plain": [
       "<IPython.core.display.HTML object>"
      ]
     },
     "metadata": {},
     "output_type": "display_data"
    },
    {
     "data": {
      "text/html": [
       "<table>\n",
       "<thead>\n",
       "<tr><th style=\"text-align: center;\">          driver           </th></tr>\n",
       "</thead>\n",
       "<tbody>\n",
       "<tr><td style=\"text-align: center;\">rank0:ScipyOptimize_SLSQP|5</td></tr>\n",
       "</tbody>\n",
       "</table>"
      ],
      "text/plain": [
       "<IPython.core.display.HTML object>"
      ]
     },
     "metadata": {},
     "output_type": "display_data"
    },
    {
     "data": {
      "text/html": [
       "<table>\n",
       "<thead>\n",
       "<tr><th style=\"text-align: center;\">                            solver                             </th></tr>\n",
       "</thead>\n",
       "<tbody>\n",
       "<tr><td style=\"text-align: center;\">rank0:ScipyOptimize_SLSQP|6|root._solve_nonlinear|6|NLRunOnce|0</td></tr>\n",
       "</tbody>\n",
       "</table>"
      ],
      "text/plain": [
       "<IPython.core.display.HTML object>"
      ]
     },
     "metadata": {},
     "output_type": "display_data"
    },
    {
     "data": {
      "text/html": [
       "<table>\n",
       "<thead>\n",
       "<tr><th style=\"text-align: center;\">                      system                       </th></tr>\n",
       "</thead>\n",
       "<tbody>\n",
       "<tr><td style=\"text-align: center;\">rank0:ScipyOptimize_SLSQP|6|root._solve_nonlinear|6</td></tr>\n",
       "</tbody>\n",
       "</table>"
      ],
      "text/plain": [
       "<IPython.core.display.HTML object>"
      ]
     },
     "metadata": {},
     "output_type": "display_data"
    },
    {
     "data": {
      "text/html": [
       "<table>\n",
       "<thead>\n",
       "<tr><th style=\"text-align: center;\">          driver           </th></tr>\n",
       "</thead>\n",
       "<tbody>\n",
       "<tr><td style=\"text-align: center;\">rank0:ScipyOptimize_SLSQP|6</td></tr>\n",
       "</tbody>\n",
       "</table>"
      ],
      "text/plain": [
       "<IPython.core.display.HTML object>"
      ]
     },
     "metadata": {},
     "output_type": "display_data"
    },
    {
     "data": {
      "text/html": [
       "<table>\n",
       "<thead>\n",
       "<tr><th style=\"text-align: center;\">                            solver                             </th></tr>\n",
       "</thead>\n",
       "<tbody>\n",
       "<tr><td style=\"text-align: center;\">rank0:ScipyOptimize_SLSQP|7|root._solve_nonlinear|7|NLRunOnce|0</td></tr>\n",
       "</tbody>\n",
       "</table>"
      ],
      "text/plain": [
       "<IPython.core.display.HTML object>"
      ]
     },
     "metadata": {},
     "output_type": "display_data"
    },
    {
     "data": {
      "text/html": [
       "<table>\n",
       "<thead>\n",
       "<tr><th style=\"text-align: center;\">                      system                       </th></tr>\n",
       "</thead>\n",
       "<tbody>\n",
       "<tr><td style=\"text-align: center;\">rank0:ScipyOptimize_SLSQP|7|root._solve_nonlinear|7</td></tr>\n",
       "</tbody>\n",
       "</table>"
      ],
      "text/plain": [
       "<IPython.core.display.HTML object>"
      ]
     },
     "metadata": {},
     "output_type": "display_data"
    },
    {
     "data": {
      "text/html": [
       "<table>\n",
       "<thead>\n",
       "<tr><th style=\"text-align: center;\">          driver           </th></tr>\n",
       "</thead>\n",
       "<tbody>\n",
       "<tr><td style=\"text-align: center;\">rank0:ScipyOptimize_SLSQP|7</td></tr>\n",
       "</tbody>\n",
       "</table>"
      ],
      "text/plain": [
       "<IPython.core.display.HTML object>"
      ]
     },
     "metadata": {},
     "output_type": "display_data"
    },
    {
     "data": {
      "text/html": [
       "<table>\n",
       "<thead>\n",
       "<tr><th style=\"text-align: center;\">                            solver                             </th></tr>\n",
       "</thead>\n",
       "<tbody>\n",
       "<tr><td style=\"text-align: center;\">rank0:ScipyOptimize_SLSQP|8|root._solve_nonlinear|8|NLRunOnce|0</td></tr>\n",
       "</tbody>\n",
       "</table>"
      ],
      "text/plain": [
       "<IPython.core.display.HTML object>"
      ]
     },
     "metadata": {},
     "output_type": "display_data"
    },
    {
     "data": {
      "text/html": [
       "<table>\n",
       "<thead>\n",
       "<tr><th style=\"text-align: center;\">                      system                       </th></tr>\n",
       "</thead>\n",
       "<tbody>\n",
       "<tr><td style=\"text-align: center;\">rank0:ScipyOptimize_SLSQP|8|root._solve_nonlinear|8</td></tr>\n",
       "</tbody>\n",
       "</table>"
      ],
      "text/plain": [
       "<IPython.core.display.HTML object>"
      ]
     },
     "metadata": {},
     "output_type": "display_data"
    },
    {
     "data": {
      "text/html": [
       "<table>\n",
       "<thead>\n",
       "<tr><th style=\"text-align: center;\">          driver           </th></tr>\n",
       "</thead>\n",
       "<tbody>\n",
       "<tr><td style=\"text-align: center;\">rank0:ScipyOptimize_SLSQP|8</td></tr>\n",
       "</tbody>\n",
       "</table>"
      ],
      "text/plain": [
       "<IPython.core.display.HTML object>"
      ]
     },
     "metadata": {},
     "output_type": "display_data"
    },
    {
     "data": {
      "text/html": [
       "<table>\n",
       "<thead>\n",
       "<tr><th style=\"text-align: center;\">                            solver                             </th></tr>\n",
       "</thead>\n",
       "<tbody>\n",
       "<tr><td style=\"text-align: center;\">rank0:ScipyOptimize_SLSQP|9|root._solve_nonlinear|9|NLRunOnce|0</td></tr>\n",
       "</tbody>\n",
       "</table>"
      ],
      "text/plain": [
       "<IPython.core.display.HTML object>"
      ]
     },
     "metadata": {},
     "output_type": "display_data"
    },
    {
     "data": {
      "text/html": [
       "<table>\n",
       "<thead>\n",
       "<tr><th style=\"text-align: center;\">                      system                       </th></tr>\n",
       "</thead>\n",
       "<tbody>\n",
       "<tr><td style=\"text-align: center;\">rank0:ScipyOptimize_SLSQP|9|root._solve_nonlinear|9</td></tr>\n",
       "</tbody>\n",
       "</table>"
      ],
      "text/plain": [
       "<IPython.core.display.HTML object>"
      ]
     },
     "metadata": {},
     "output_type": "display_data"
    },
    {
     "data": {
      "text/html": [
       "<table>\n",
       "<thead>\n",
       "<tr><th style=\"text-align: center;\">          driver           </th></tr>\n",
       "</thead>\n",
       "<tbody>\n",
       "<tr><td style=\"text-align: center;\">rank0:ScipyOptimize_SLSQP|9</td></tr>\n",
       "</tbody>\n",
       "</table>"
      ],
      "text/plain": [
       "<IPython.core.display.HTML object>"
      ]
     },
     "metadata": {},
     "output_type": "display_data"
    }
   ],
   "source": [
    "cr = om.CaseReader('cases.sql')\n",
    "\n",
    "# get the last driver case\n",
    "driver_cases = cr.list_cases('driver')"
   ]
  },
  {
   "cell_type": "code",
   "execution_count": 25,
   "id": "comfortable-leisure",
   "metadata": {
    "scrolled": true
   },
   "outputs": [
    {
     "name": "stdout",
     "output_type": "stream",
     "text": [
      " driver - rank0:ScipyOptimize_SLSQP|9 ['con1', 'con2', 'obj', 'x', 'z']\n",
      "   root - _solve_nonlinear|9 ['con1', 'con2', 'obj', 'x', 'y1', 'y2', 'z']\n",
      "     root.nonlinear_solver - _solve_nonlinear|9|NLRunOnce|0 ['con1', 'con2', 'obj', 'x', 'y1', 'y2', 'z']\n"
     ]
    }
   ],
   "source": [
    "# get a recursive dict of child cases of the last driver case\n",
    "last_driver_case = driver_cases[-1]\n",
    "cases = cr.get_cases(last_driver_case, recurse=True, flat=False)\n",
    "\n",
    "# display selected information from nested dict of cases\n",
    "def print_cases(cases, indent=0):\n",
    "    for case, children in cases.items():\n",
    "        print(indent*' ', case.source, '-', case.name.split('.')[-1], sorted(case.outputs))\n",
    "        if children:\n",
    "            print_cases(children, indent+2)\n",
    "            \n",
    "print_cases(cases)"
   ]
  }
 ],
 "metadata": {
  "celltoolbar": "Tags",
  "kernelspec": {
   "display_name": "Python 3",
   "language": "python",
   "name": "python3"
  },
  "language_info": {
   "codemirror_mode": {
    "name": "ipython",
    "version": 3
   },
   "file_extension": ".py",
   "mimetype": "text/x-python",
   "name": "python",
   "nbconvert_exporter": "python",
   "pygments_lexer": "ipython3",
   "version": "3.7.9"
  }
 },
 "nbformat": 4,
 "nbformat_minor": 5
}
