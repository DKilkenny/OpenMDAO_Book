{
 "cells": [
  {
   "cell_type": "code",
   "execution_count": 1,
   "id": "clinical-authorization",
   "metadata": {},
   "outputs": [],
   "source": [
    "try:\n",
    "    import openmdao.api as om\n",
    "except ImportError:\n",
    "    !python -m pip install openmdao[notebooks]\n",
    "    import openmdao.api as om"
   ]
  },
  {
   "cell_type": "markdown",
   "id": "bottom-surprise",
   "metadata": {},
   "source": [
    "# System Recording\n",
    "\n",
    "If you need to focus on a smaller part of your model, it may be useful to attach a case recorder to a particular `System`. There are slightly different options when recording from these objects. System recording can only be used in serial running environments and cannot currently be used in parallel."
   ]
  },
  {
   "cell_type": "code",
   "execution_count": 2,
   "id": "foster-yacht",
   "metadata": {
    "scrolled": true,
    "tags": [
     "remove-input"
    ]
   },
   "outputs": [
    {
     "data": {
      "text/html": [
       "<table>\n",
       "<thead>\n",
       "<tr><th>Option               </th><th>Default  </th><th>Acceptable Values  </th><th>Acceptable Types  </th><th>Description                                                                                                  </th></tr>\n",
       "</thead>\n",
       "<tbody>\n",
       "<tr><td>excludes             </td><td>[]       </td><td>N/A                </td><td>[&#x27;list&#x27;]          </td><td>Patterns for vars to exclude in recording (processed post-includes). Uses fnmatch wildcards                  </td></tr>\n",
       "<tr><td>includes             </td><td>[&#x27;*&#x27;]    </td><td>N/A                </td><td>[&#x27;list&#x27;]          </td><td>Patterns for variables to include in recording.                                        Uses fnmatch wildcards</td></tr>\n",
       "<tr><td>options_excludes     </td><td>[]       </td><td>N/A                </td><td>[&#x27;list&#x27;]          </td><td>User-defined metadata to exclude in recording                                                                </td></tr>\n",
       "<tr><td>record_inputs        </td><td>True     </td><td>[True, False]      </td><td>[&#x27;bool&#x27;]          </td><td>Set to True to record inputs at the system level                                                             </td></tr>\n",
       "<tr><td>record_metadata      </td><td>True     </td><td>[True, False]      </td><td>[&#x27;bool&#x27;]          </td><td>Deprecated. Recording of metadata will always be done                                                        </td></tr>\n",
       "<tr><td>record_model_metadata</td><td>True     </td><td>[True, False]      </td><td>[&#x27;bool&#x27;]          </td><td>Deprecated. Recording of model metadata will always be done                                                  </td></tr>\n",
       "<tr><td>record_outputs       </td><td>True     </td><td>[True, False]      </td><td>[&#x27;bool&#x27;]          </td><td>Set to True to record outputs at the system level                                                            </td></tr>\n",
       "<tr><td>record_residuals     </td><td>True     </td><td>[True, False]      </td><td>[&#x27;bool&#x27;]          </td><td>Set to True to record residuals at the system level                                                          </td></tr>\n",
       "</tbody>\n",
       "</table>"
      ],
      "text/plain": [
       "<IPython.core.display.HTML object>"
      ]
     },
     "metadata": {},
     "output_type": "display_data"
    }
   ],
   "source": [
    "om.show_options_table(\"openmdao.core.system.System\", recording_options=True)"
   ]
  },
  {
   "cell_type": "markdown",
   "id": "enclosed-explorer",
   "metadata": {},
   "source": [
    "```{note}\n",
    "Note that the `excludes` option takes precedence over the `includes` option.\n",
    "```"
   ]
  },
  {
   "cell_type": "markdown",
   "id": "typical-budget",
   "metadata": {},
   "source": [
    "## System Recording Example"
   ]
  },
  {
   "cell_type": "code",
   "execution_count": 3,
   "id": "least-sculpture",
   "metadata": {},
   "outputs": [
    {
     "name": "stdout",
     "output_type": "stream",
     "text": [
      "NL: NLBGS Converged in 7 iterations\n"
     ]
    }
   ],
   "source": [
    "import openmdao.api as om\n",
    "from openmdao.test_suite.components.sellar import SellarDerivatives\n",
    "\n",
    "prob = om.Problem(model=SellarDerivatives())\n",
    "prob.setup()\n",
    "\n",
    "recorder = om.SqliteRecorder(\"cases.sql\")\n",
    "\n",
    "obj_cmp = prob.model.obj_cmp\n",
    "obj_cmp.add_recorder(recorder)\n",
    "obj_cmp.recording_options['includes'] = ['*']\n",
    "obj_cmp.recording_options['excludes'] = ['obj_cmp.x']\n",
    "\n",
    "prob.model.nonlinear_solver.options['use_apply_nonlinear'] = True\n",
    "\n",
    "prob.run_model()"
   ]
  },
  {
   "cell_type": "code",
   "execution_count": 4,
   "id": "stainless-option",
   "metadata": {},
   "outputs": [
    {
     "data": {
      "text/html": [
       "<table>\n",
       "<thead>\n",
       "<tr><th style=\"text-align: center;\">                                  system                                   </th></tr>\n",
       "</thead>\n",
       "<tbody>\n",
       "<tr><td style=\"text-align: center;\">rank0:root._solve_nonlinear|0|NonlinearBlockGS|0|obj_cmp._solve_nonlinear|0</td></tr>\n",
       "</tbody>\n",
       "</table>"
      ],
      "text/plain": [
       "<IPython.core.display.HTML object>"
      ]
     },
     "metadata": {},
     "output_type": "display_data"
    },
    {
     "data": {
      "text/html": [
       "<table>\n",
       "<thead>\n",
       "<tr><th style=\"text-align: center;\">                                  system                                   </th></tr>\n",
       "</thead>\n",
       "<tbody>\n",
       "<tr><td style=\"text-align: center;\">rank0:root._solve_nonlinear|0|NonlinearBlockGS|1|obj_cmp._solve_nonlinear|1</td></tr>\n",
       "</tbody>\n",
       "</table>"
      ],
      "text/plain": [
       "<IPython.core.display.HTML object>"
      ]
     },
     "metadata": {},
     "output_type": "display_data"
    },
    {
     "data": {
      "text/html": [
       "<table>\n",
       "<thead>\n",
       "<tr><th style=\"text-align: center;\">                                  system                                   </th></tr>\n",
       "</thead>\n",
       "<tbody>\n",
       "<tr><td style=\"text-align: center;\">rank0:root._solve_nonlinear|0|NonlinearBlockGS|2|obj_cmp._solve_nonlinear|2</td></tr>\n",
       "</tbody>\n",
       "</table>"
      ],
      "text/plain": [
       "<IPython.core.display.HTML object>"
      ]
     },
     "metadata": {},
     "output_type": "display_data"
    },
    {
     "data": {
      "text/html": [
       "<table>\n",
       "<thead>\n",
       "<tr><th style=\"text-align: center;\">                                  system                                   </th></tr>\n",
       "</thead>\n",
       "<tbody>\n",
       "<tr><td style=\"text-align: center;\">rank0:root._solve_nonlinear|0|NonlinearBlockGS|3|obj_cmp._solve_nonlinear|3</td></tr>\n",
       "</tbody>\n",
       "</table>"
      ],
      "text/plain": [
       "<IPython.core.display.HTML object>"
      ]
     },
     "metadata": {},
     "output_type": "display_data"
    },
    {
     "data": {
      "text/html": [
       "<table>\n",
       "<thead>\n",
       "<tr><th style=\"text-align: center;\">                                  system                                   </th></tr>\n",
       "</thead>\n",
       "<tbody>\n",
       "<tr><td style=\"text-align: center;\">rank0:root._solve_nonlinear|0|NonlinearBlockGS|4|obj_cmp._solve_nonlinear|4</td></tr>\n",
       "</tbody>\n",
       "</table>"
      ],
      "text/plain": [
       "<IPython.core.display.HTML object>"
      ]
     },
     "metadata": {},
     "output_type": "display_data"
    },
    {
     "data": {
      "text/html": [
       "<table>\n",
       "<thead>\n",
       "<tr><th style=\"text-align: center;\">                                  system                                   </th></tr>\n",
       "</thead>\n",
       "<tbody>\n",
       "<tr><td style=\"text-align: center;\">rank0:root._solve_nonlinear|0|NonlinearBlockGS|5|obj_cmp._solve_nonlinear|5</td></tr>\n",
       "</tbody>\n",
       "</table>"
      ],
      "text/plain": [
       "<IPython.core.display.HTML object>"
      ]
     },
     "metadata": {},
     "output_type": "display_data"
    },
    {
     "data": {
      "text/html": [
       "<table>\n",
       "<thead>\n",
       "<tr><th style=\"text-align: center;\">                                  system                                   </th></tr>\n",
       "</thead>\n",
       "<tbody>\n",
       "<tr><td style=\"text-align: center;\">rank0:root._solve_nonlinear|0|NonlinearBlockGS|6|obj_cmp._solve_nonlinear|6</td></tr>\n",
       "</tbody>\n",
       "</table>"
      ],
      "text/plain": [
       "<IPython.core.display.HTML object>"
      ]
     },
     "metadata": {},
     "output_type": "display_data"
    }
   ],
   "source": [
    "prob.cleanup()\n",
    "\n",
    "cr = om.CaseReader(\"cases.sql\")\n",
    "\n",
    "system_cases = cr.list_cases('root.obj_cmp')"
   ]
  },
  {
   "cell_type": "code",
   "execution_count": 5,
   "id": "harmful-thompson",
   "metadata": {
    "tags": [
     "remove-input",
     "remove-output"
    ]
   },
   "outputs": [],
   "source": [
    "assert len(system_cases) == 7"
   ]
  },
  {
   "cell_type": "code",
   "execution_count": 6,
   "id": "stuffed-jimmy",
   "metadata": {
    "scrolled": true
   },
   "outputs": [
    {
     "data": {
      "text/plain": [
       "{'y1': array([27.8]), 'y2': array([12.27257053]), 'z': array([5., 2.])}"
      ]
     },
     "execution_count": 6,
     "metadata": {},
     "output_type": "execute_result"
    }
   ],
   "source": [
    "case = cr.get_case(system_cases[0])\n",
    "\n",
    "case.inputs"
   ]
  },
  {
   "cell_type": "code",
   "execution_count": 7,
   "id": "generous-colleague",
   "metadata": {
    "tags": [
     "remove-input",
     "remove-output"
    ]
   },
   "outputs": [],
   "source": [
    "assert sorted(case.inputs.keys()) == ['y1', 'y2', 'z']"
   ]
  }
 ],
 "metadata": {
  "celltoolbar": "Tags",
  "kernelspec": {
   "display_name": "Python 3",
   "language": "python",
   "name": "python3"
  },
  "language_info": {
   "codemirror_mode": {
    "name": "ipython",
    "version": 3
   },
   "file_extension": ".py",
   "mimetype": "text/x-python",
   "name": "python",
   "nbconvert_exporter": "python",
   "pygments_lexer": "ipython3",
   "version": "3.7.9"
  }
 },
 "nbformat": 4,
 "nbformat_minor": 5
}
