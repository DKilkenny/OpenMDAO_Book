{
 "cells": [
  {
   "cell_type": "code",
   "execution_count": 1,
   "id": "collected-czech",
   "metadata": {
    "tags": [
     "remove-input",
     "remove-output",
     "active-ipynb"
    ]
   },
   "outputs": [],
   "source": [
    "try:\n",
    "    import openmdao.api as om\n",
    "except ImportError:\n",
    "    !python -m pip install openmdao[notebooks]\n",
    "    import openmdao.api as om\n",
    "    \n",
    "from openmdao.utils.assert_utils import assert_near_equal"
   ]
  },
  {
   "cell_type": "markdown",
   "id": "noticed-smile",
   "metadata": {},
   "source": [
    "# Driver Recording"
   ]
  },
  {
   "cell_type": "markdown",
   "id": "lined-nursery",
   "metadata": {},
   "source": [
    "A CaseRecorder is commonly attached to the problem’s Driver in order to gain insight into the convergence of the model as the driver finds a solution. By default, a recorder attached to a driver will record the design variables, constraints and objectives.\n",
    "\n",
    "The driver recorder is capable of capturing any values from any part of the model, not just the design variables, constraints, and objectives."
   ]
  },
  {
   "cell_type": "code",
   "execution_count": 2,
   "id": "senior-gravity",
   "metadata": {
    "scrolled": true
   },
   "outputs": [
    {
     "data": {
      "text/html": [
       "<table>\n",
       "<thead>\n",
       "<tr><th>Option               </th><th>Default  </th><th>Acceptable Values  </th><th>Acceptable Types  </th><th>Description                                                                                </th></tr>\n",
       "</thead>\n",
       "<tbody>\n",
       "<tr><td>excludes             </td><td>[]       </td><td>N/A                </td><td>[&#x27;list&#x27;]          </td><td>Patterns for vars to exclude in recording (processed post-includes). Uses fnmatch wildcards</td></tr>\n",
       "<tr><td>includes             </td><td>[]       </td><td>N/A                </td><td>[&#x27;list&#x27;]          </td><td>Patterns for variables to include in recording. Uses fnmatch wildcards                     </td></tr>\n",
       "<tr><td>record_constraints   </td><td>True     </td><td>[True, False]      </td><td>[&#x27;bool&#x27;]          </td><td>Set to True to record constraints at the driver level                                      </td></tr>\n",
       "<tr><td>record_derivatives   </td><td>False    </td><td>[True, False]      </td><td>[&#x27;bool&#x27;]          </td><td>Set to True to record derivatives at the driver level                                      </td></tr>\n",
       "<tr><td>record_desvars       </td><td>True     </td><td>[True, False]      </td><td>[&#x27;bool&#x27;]          </td><td>Set to True to record design variables at the driver level                                 </td></tr>\n",
       "<tr><td>record_inputs        </td><td>True     </td><td>[True, False]      </td><td>[&#x27;bool&#x27;]          </td><td>Set to True to record inputs at the driver level                                           </td></tr>\n",
       "<tr><td>record_model_metadata</td><td>True     </td><td>[True, False]      </td><td>[&#x27;bool&#x27;]          </td><td>Deprecated. Recording of model metadata will always be done                                </td></tr>\n",
       "<tr><td>record_objectives    </td><td>True     </td><td>[True, False]      </td><td>[&#x27;bool&#x27;]          </td><td>Set to True to record objectives at the driver level                                       </td></tr>\n",
       "<tr><td>record_outputs       </td><td>True     </td><td>[True, False]      </td><td>[&#x27;bool&#x27;]          </td><td>Set True to record outputs at the driver level.                                            </td></tr>\n",
       "<tr><td>record_residuals     </td><td>False    </td><td>[True, False]      </td><td>[&#x27;bool&#x27;]          </td><td>Set True to record residuals at the driver level.                                          </td></tr>\n",
       "<tr><td>record_responses     </td><td>False    </td><td>[True, False]      </td><td>[&#x27;bool&#x27;]          </td><td>Set True to record constraints and objectives at the driver level                          </td></tr>\n",
       "</tbody>\n",
       "</table>"
      ],
      "text/plain": [
       "<IPython.core.display.HTML object>"
      ]
     },
     "metadata": {},
     "output_type": "display_data"
    }
   ],
   "source": [
    "om.show_options_table(\"openmdao.core.driver.Driver\", recording_options=True)"
   ]
  },
  {
   "cell_type": "markdown",
   "id": "aboriginal-murray",
   "metadata": {},
   "source": [
    "> **_Note:_**  Note that the `excludes` option takes precedence over the `includes` option."
   ]
  },
  {
   "cell_type": "markdown",
   "id": "personal-measure",
   "metadata": {},
   "source": [
    "## Driver Recording Example\n",
    "\n",
    "In the example below, we first run a case while recording at the driver level. Then, we examine the objective, constraint, and design variable values at the last recorded case. Lastly, we print the full contents of the last case, including outputs from the problem that are not design variables, constraints, or objectives. \n",
    "\n",
    "Specifically, `y1` and `y2` are some of those intermediate outputs that are recorded due to the use of:\n",
    "\n",
    "`driver.recording_options['includes'] = ['*']`"
   ]
  },
  {
   "cell_type": "code",
   "execution_count": 3,
   "id": "historic-bulletin",
   "metadata": {
    "scrolled": true
   },
   "outputs": [
    {
     "name": "stdout",
     "output_type": "stream",
     "text": [
      "NL: NLBGS Converged in 8 iterations\n",
      "NL: NLBGS Converged in 1 iterations\n",
      "NL: NLBGS Converged in 9 iterations\n",
      "NL: NLBGS Converged in 10 iterations\n",
      "NL: NLBGS Converged in 10 iterations\n",
      "NL: NLBGS Converged in 9 iterations\n",
      "NL: NLBGS Converged in 6 iterations\n",
      "Optimization terminated successfully    (Exit mode 0)\n",
      "            Current function value: [3.18339395]\n",
      "            Iterations: 6\n",
      "            Function evaluations: 6\n",
      "            Gradient evaluations: 6\n",
      "Optimization Complete\n",
      "-----------------------------------\n"
     ]
    }
   ],
   "source": [
    "import openmdao.api as om\n",
    "from openmdao.test_suite.components.sellar import SellarDerivatives\n",
    "\n",
    "import numpy as np\n",
    "\n",
    "prob = om.Problem(model=SellarDerivatives())\n",
    "\n",
    "model = prob.model\n",
    "model.add_design_var('z', lower=np.array([-10.0, 0.0]),\n",
    "                          upper=np.array([10.0, 10.0]))\n",
    "model.add_design_var('x', lower=0.0, upper=10.0)\n",
    "model.add_objective('obj')\n",
    "model.add_constraint('con1', upper=0.0)\n",
    "model.add_constraint('con2', upper=0.0)\n",
    "\n",
    "driver = prob.driver = om.ScipyOptimizeDriver(optimizer='SLSQP', tol=1e-9)\n",
    "driver.recording_options['includes'] = ['*']\n",
    "driver.recording_options['record_objectives'] = True\n",
    "driver.recording_options['record_constraints'] = True\n",
    "driver.recording_options['record_desvars'] = True\n",
    "driver.recording_options['record_inputs'] = True\n",
    "driver.recording_options['record_outputs'] = True\n",
    "driver.recording_options['record_residuals'] = True\n",
    "\n",
    "recorder = om.SqliteRecorder(\"cases.sql\")\n",
    "driver.add_recorder(recorder)\n",
    "\n",
    "prob.setup()\n",
    "prob.run_driver()\n",
    "prob.cleanup()"
   ]
  },
  {
   "cell_type": "code",
   "execution_count": 4,
   "id": "choice-dietary",
   "metadata": {},
   "outputs": [
    {
     "data": {
      "text/html": [
       "<table>\n",
       "<thead>\n",
       "<tr><th style=\"text-align: center;\">          driver           </th></tr>\n",
       "</thead>\n",
       "<tbody>\n",
       "<tr><td style=\"text-align: center;\">rank0:ScipyOptimize_SLSQP|0</td></tr>\n",
       "</tbody>\n",
       "</table>"
      ],
      "text/plain": [
       "<IPython.core.display.HTML object>"
      ]
     },
     "metadata": {},
     "output_type": "display_data"
    },
    {
     "data": {
      "text/html": [
       "<table>\n",
       "<thead>\n",
       "<tr><th style=\"text-align: center;\">          driver           </th></tr>\n",
       "</thead>\n",
       "<tbody>\n",
       "<tr><td style=\"text-align: center;\">rank0:ScipyOptimize_SLSQP|1</td></tr>\n",
       "</tbody>\n",
       "</table>"
      ],
      "text/plain": [
       "<IPython.core.display.HTML object>"
      ]
     },
     "metadata": {},
     "output_type": "display_data"
    },
    {
     "data": {
      "text/html": [
       "<table>\n",
       "<thead>\n",
       "<tr><th style=\"text-align: center;\">          driver           </th></tr>\n",
       "</thead>\n",
       "<tbody>\n",
       "<tr><td style=\"text-align: center;\">rank0:ScipyOptimize_SLSQP|2</td></tr>\n",
       "</tbody>\n",
       "</table>"
      ],
      "text/plain": [
       "<IPython.core.display.HTML object>"
      ]
     },
     "metadata": {},
     "output_type": "display_data"
    },
    {
     "data": {
      "text/html": [
       "<table>\n",
       "<thead>\n",
       "<tr><th style=\"text-align: center;\">          driver           </th></tr>\n",
       "</thead>\n",
       "<tbody>\n",
       "<tr><td style=\"text-align: center;\">rank0:ScipyOptimize_SLSQP|3</td></tr>\n",
       "</tbody>\n",
       "</table>"
      ],
      "text/plain": [
       "<IPython.core.display.HTML object>"
      ]
     },
     "metadata": {},
     "output_type": "display_data"
    },
    {
     "data": {
      "text/html": [
       "<table>\n",
       "<thead>\n",
       "<tr><th style=\"text-align: center;\">          driver           </th></tr>\n",
       "</thead>\n",
       "<tbody>\n",
       "<tr><td style=\"text-align: center;\">rank0:ScipyOptimize_SLSQP|4</td></tr>\n",
       "</tbody>\n",
       "</table>"
      ],
      "text/plain": [
       "<IPython.core.display.HTML object>"
      ]
     },
     "metadata": {},
     "output_type": "display_data"
    },
    {
     "data": {
      "text/html": [
       "<table>\n",
       "<thead>\n",
       "<tr><th style=\"text-align: center;\">          driver           </th></tr>\n",
       "</thead>\n",
       "<tbody>\n",
       "<tr><td style=\"text-align: center;\">rank0:ScipyOptimize_SLSQP|5</td></tr>\n",
       "</tbody>\n",
       "</table>"
      ],
      "text/plain": [
       "<IPython.core.display.HTML object>"
      ]
     },
     "metadata": {},
     "output_type": "display_data"
    },
    {
     "data": {
      "text/html": [
       "<table>\n",
       "<thead>\n",
       "<tr><th style=\"text-align: center;\">          driver           </th></tr>\n",
       "</thead>\n",
       "<tbody>\n",
       "<tr><td style=\"text-align: center;\">rank0:ScipyOptimize_SLSQP|6</td></tr>\n",
       "</tbody>\n",
       "</table>"
      ],
      "text/plain": [
       "<IPython.core.display.HTML object>"
      ]
     },
     "metadata": {},
     "output_type": "display_data"
    }
   ],
   "source": [
    "cr = om.CaseReader(\"cases.sql\")\n",
    "driver_cases = cr.list_cases('driver')"
   ]
  },
  {
   "cell_type": "code",
   "execution_count": 5,
   "id": "governmental-cursor",
   "metadata": {
    "tags": [
     "remove-input",
     "remove-output"
    ]
   },
   "outputs": [],
   "source": [
    "assert len(driver_cases) == 7"
   ]
  },
  {
   "cell_type": "code",
   "execution_count": 6,
   "id": "foster-sociology",
   "metadata": {
    "scrolled": false
   },
   "outputs": [
    {
     "name": "stdout",
     "output_type": "stream",
     "text": [
      "driver rank0:ScipyOptimize_SLSQP|6 {'z': array([1.97763888e+00, 5.87897722e-15]), 'x': array([0.]), 'obj': array([3.18339395]), 'y2': array([3.75527777]), 'con1': array([-8.38054071e-11]), 'con2': array([-20.24472223]), 'y1': array([3.16])}\n"
     ]
    }
   ],
   "source": [
    "last_case = cr.get_case(driver_cases[-1])\n",
    "print(last_case)"
   ]
  },
  {
   "cell_type": "code",
   "execution_count": 7,
   "id": "static-butler",
   "metadata": {},
   "outputs": [
    {
     "name": "stdout",
     "output_type": "stream",
     "text": [
      "{'obj': array([3.18339395])}\n"
     ]
    }
   ],
   "source": [
    "objectives = last_case.get_objectives()\n",
    "print(objectives)"
   ]
  },
  {
   "cell_type": "code",
   "execution_count": 8,
   "id": "rural-overhead",
   "metadata": {
    "tags": [
     "remove-input",
     "remove-output"
    ]
   },
   "outputs": [
    {
     "data": {
      "text/plain": [
       "5.41351690502717e-10"
      ]
     },
     "execution_count": 8,
     "metadata": {},
     "output_type": "execute_result"
    }
   ],
   "source": [
    "assert_near_equal(objectives['obj'], 3.18339395, tolerance=1e-8)"
   ]
  },
  {
   "cell_type": "code",
   "execution_count": 9,
   "id": "beautiful-default",
   "metadata": {},
   "outputs": [
    {
     "name": "stdout",
     "output_type": "stream",
     "text": [
      "{'z': array([1.97763888e+00, 5.87897722e-15]), 'x': array([0.])}\n"
     ]
    }
   ],
   "source": [
    "design_vars = last_case.get_design_vars()\n",
    "print(design_vars)"
   ]
  },
  {
   "cell_type": "code",
   "execution_count": 10,
   "id": "fewer-messenger",
   "metadata": {
    "tags": [
     "remove-input",
     "remove-output"
    ]
   },
   "outputs": [
    {
     "data": {
      "text/plain": [
       "1.7627604631195688e-09"
      ]
     },
     "execution_count": 10,
     "metadata": {},
     "output_type": "execute_result"
    }
   ],
   "source": [
    "assert_near_equal(design_vars['x'], 0., tolerance=1e-8)\n",
    "assert_near_equal(design_vars['z'][0], 1.97763888, tolerance=1e-8)"
   ]
  },
  {
   "cell_type": "code",
   "execution_count": 11,
   "id": "available-imperial",
   "metadata": {},
   "outputs": [
    {
     "name": "stdout",
     "output_type": "stream",
     "text": [
      "{'con1': array([-8.38054071e-11]), 'con2': array([-20.24472223])}\n"
     ]
    }
   ],
   "source": [
    "constraints = last_case.get_constraints()\n",
    "print(constraints)"
   ]
  },
  {
   "cell_type": "code",
   "execution_count": 12,
   "id": "sweet-webster",
   "metadata": {
    "tags": [
     "remove-input",
     "remove-output"
    ]
   },
   "outputs": [
    {
     "data": {
      "text/plain": [
       "1.4953032152054424e-10"
      ]
     },
     "execution_count": 12,
     "metadata": {},
     "output_type": "execute_result"
    }
   ],
   "source": [
    "assert_near_equal(constraints['con1'], -8.38054071e-11, tolerance=1e-8)\n",
    "assert_near_equal(constraints['con2'][0], -20.24472223, tolerance=1e-8)"
   ]
  },
  {
   "cell_type": "code",
   "execution_count": 13,
   "id": "oriented-pregnancy",
   "metadata": {},
   "outputs": [
    {
     "name": "stdout",
     "output_type": "stream",
     "text": [
      "[0.]\n"
     ]
    }
   ],
   "source": [
    "print(last_case.inputs['obj_cmp.x'])"
   ]
  },
  {
   "cell_type": "code",
   "execution_count": 14,
   "id": "adult-charge",
   "metadata": {
    "tags": [
     "remove-input",
     "remove-output"
    ]
   },
   "outputs": [
    {
     "data": {
      "text/plain": [
       "0.0"
      ]
     },
     "execution_count": 14,
     "metadata": {},
     "output_type": "execute_result"
    }
   ],
   "source": [
    "assert_near_equal(last_case.inputs['obj_cmp.x'], 0, tolerance=1e-8)"
   ]
  },
  {
   "cell_type": "code",
   "execution_count": 15,
   "id": "naughty-control",
   "metadata": {},
   "outputs": [
    {
     "name": "stdout",
     "output_type": "stream",
     "text": [
      "[1.97763888e+00 5.87897722e-15]\n"
     ]
    }
   ],
   "source": [
    "print(last_case.outputs['z'])"
   ]
  },
  {
   "cell_type": "code",
   "execution_count": 16,
   "id": "together-johns",
   "metadata": {
    "tags": [
     "remove-input",
     "remove-output"
    ]
   },
   "outputs": [
    {
     "data": {
      "text/plain": [
       "2.604323199359837e-10"
      ]
     },
     "execution_count": 16,
     "metadata": {},
     "output_type": "execute_result"
    }
   ],
   "source": [
    "assert_near_equal(last_case.outputs['z'][0], 1.97763888, tolerance=1e-8)\n",
    "assert_near_equal(last_case.outputs['z'][1], 5.87897722e-15, tolerance=1e-8)"
   ]
  },
  {
   "cell_type": "code",
   "execution_count": 17,
   "id": "quiet-insulation",
   "metadata": {},
   "outputs": [
    {
     "name": "stdout",
     "output_type": "stream",
     "text": [
      "[3.88027388e-11]\n"
     ]
    }
   ],
   "source": [
    "print(last_case.residuals['obj'])"
   ]
  },
  {
   "cell_type": "code",
   "execution_count": 18,
   "id": "bizarre-companion",
   "metadata": {
    "tags": [
     "remove-input",
     "remove-output"
    ]
   },
   "outputs": [
    {
     "data": {
      "text/plain": [
       "3.880273879985907e-11"
      ]
     },
     "execution_count": 18,
     "metadata": {},
     "output_type": "execute_result"
    }
   ],
   "source": [
    "assert_near_equal(last_case.residuals['obj'], 0, tolerance=1e-8)"
   ]
  },
  {
   "cell_type": "code",
   "execution_count": 19,
   "id": "handled-patrick",
   "metadata": {},
   "outputs": [
    {
     "name": "stdout",
     "output_type": "stream",
     "text": [
      "[3.16]\n"
     ]
    }
   ],
   "source": [
    "print(last_case['y1'])"
   ]
  },
  {
   "cell_type": "code",
   "execution_count": 20,
   "id": "gothic-enforcement",
   "metadata": {
    "tags": [
     "remove-input",
     "remove-output"
    ]
   },
   "outputs": [
    {
     "data": {
      "text/plain": [
       "2.6520698436213565e-11"
      ]
     },
     "execution_count": 20,
     "metadata": {},
     "output_type": "execute_result"
    }
   ],
   "source": [
    "assert_near_equal(last_case['y1'], 3.16, tolerance=1e-8)"
   ]
  }
 ],
 "metadata": {
  "celltoolbar": "Tags",
  "kernelspec": {
   "display_name": "Python 3",
   "language": "python",
   "name": "python3"
  },
  "language_info": {
   "codemirror_mode": {
    "name": "ipython",
    "version": 3
   },
   "file_extension": ".py",
   "mimetype": "text/x-python",
   "name": "python",
   "nbconvert_exporter": "python",
   "pygments_lexer": "ipython3",
   "version": "3.7.9"
  }
 },
 "nbformat": 4,
 "nbformat_minor": 5
}
