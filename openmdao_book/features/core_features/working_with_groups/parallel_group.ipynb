{
 "cells": [
  {
   "cell_type": "code",
   "execution_count": null,
   "metadata": {
    "tags": [
     "remove-input",
     "active-ipynb",
     "remove-output"
    ]
   },
   "outputs": [],
   "source": [
    "%pylab inline\n",
    "from ipyparallel import Client, error\n",
    "cluster=Client(profile=\"mpi\") \n",
    "view=cluster[:]\n",
    "view.block=True\n",
    "\n",
    "try:\n",
    "    import openmdao.api as om\n",
    "except ImportError:\n",
    "    !python -m pip install openmdao[notebooks]\n",
    "    import openmdao.api as om"
   ]
  },
  {
   "cell_type": "markdown",
   "metadata": {},
   "source": [
    "```{note}\n",
    "This feature requires MPI, and may not be able to be run on Colab.\n",
    "```"
   ]
  },
  {
   "cell_type": "markdown",
   "metadata": {},
   "source": [
    "# Parallel Groups\n",
    "---\n",
    "\n",
    "When systems are added to a `ParallelGroup`, they will be executed in parallel, assuming that the `ParallelGroup` is given an MPI communicator of sufficient size.  Adding subsystems to a ParallelGroup is no different than adding them to a normal Group.  For example:"
   ]
  },
  {
   "cell_type": "code",
   "execution_count": null,
   "metadata": {},
   "outputs": [],
   "source": [
    "%%px\n",
    "\n",
    "import openmdao.api as om\n",
    "\n",
    "prob = om.Problem()\n",
    "model = prob.model\n",
    "\n",
    "model.set_input_defaults('x', 1.)\n",
    "\n",
    "parallel = model.add_subsystem('parallel', om.ParallelGroup(), promotes_inputs=[('c1.x', 'x'), ('c2.x', 'x')])\n",
    "parallel.add_subsystem('c1', om.ExecComp(['y=-2.0*x']))\n",
    "parallel.add_subsystem('c2', om.ExecComp(['y=5.0*x']))\n",
    "\n",
    "model.add_subsystem('c3', om.ExecComp(['y=3.0*x1+7.0*x2']))\n",
    "\n",
    "model.connect(\"parallel.c1.y\", \"c3.x1\")\n",
    "model.connect(\"parallel.c2.y\", \"c3.x2\")\n",
    "\n",
    "prob.setup(check=False, mode='fwd')\n",
    "prob.run_model()\n",
    "\n",
    "print(prob['c3.y'])"
   ]
  },
  {
   "cell_type": "code",
   "execution_count": null,
   "metadata": {
    "tags": [
     "remove-input",
     "remove-output"
    ]
   },
   "outputs": [],
   "source": [
    "from openmdao.utils.assert_utils import assert_near_equal\n",
    "\n",
    "assert_near_equal(prob['c3.y'], 29.0, 1e-6)"
   ]
  },
  {
   "cell_type": "markdown",
   "metadata": {},
   "source": [
    "In this example, components *c1* and *c2* will be executed in parallel, provided that the `ParallelGroup` is given two MPI processes.  If the name of the python file containing our example were `my_par_model.py`, we could run it under MPI and give it two processes using the following command:\n",
    "\n",
    "```\n",
    "    mpirun -n 2 python my_par_model.py\n",
    "```\n",
    "\n",
    "```{Note}\n",
    "This will only work if you've installed the mpi4py and petsc4py python packages, which are not installed by default in OpenMDAO.\n",
    "```\n",
    "\n",
    "In the previous example, both components in the `ParallelGroup` required just a single MPI process, but\n",
    "what happens if we want to add subsystems to a `ParallelGroup` that has other processor requirements?\n",
    "In OpenMDAO, we control process allocation behavior by setting the `min_procs` and/or `max_procs` or\n",
    "`proc_weight` args when we call the `add_subsystem` function to add a particular subsystem to\n",
    "a `ParallelGroup`.\n",
    "\n",
    "```{eval-rst}\n",
    "    .. autoclass:: openmdao.core.group.Group.add_subsystem\n",
    "        :noindex:\n",
    "```\n",
    "\n",
    "\n",
    "If you use both `min_procs/max_procs` and `proc_weight`, it can become less obvious what the\n",
    "resulting process allocation will be, so you may want to stick to just using one or the other.\n",
    "The algorithm used for the allocation starts, assuming that the number of processes is greater than or\n",
    "equal to the number of subsystems, by assigning the `min_procs` for each subsystem.  It then adds\n",
    "any remaining processes to subsystems based on their weights, being careful not to exceed their\n",
    "specified `max_procs`, if any.\n",
    "\n",
    "If the number of processes is less than the number of subsystems, then each subsystem, one at a\n",
    "time, starting with the one with the highest `proc_weight`, is allocated to the least-loaded process.\n",
    "An exception will be raised if any of the subsystems in this case have a `min_procs` value greater than one."
   ]
  },
  {
   "cell_type": "code",
   "execution_count": null,
   "metadata": {},
   "outputs": [],
   "source": []
  }
 ],
 "metadata": {
  "celltoolbar": "Tags",
  "kernelspec": {
   "display_name": "Python 3",
   "language": "python",
   "name": "python3"
  },
  "language_info": {
   "codemirror_mode": {
    "name": "ipython",
    "version": 3
   },
   "file_extension": ".py",
   "mimetype": "text/x-python",
   "name": "python",
   "nbconvert_exporter": "python",
   "pygments_lexer": "ipython3",
   "version": "3.8.5"
  }
 },
 "nbformat": 4,
 "nbformat_minor": 4
}
