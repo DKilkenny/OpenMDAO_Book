{
 "cells": [
  {
   "cell_type": "code",
   "execution_count": 1,
   "metadata": {
    "tags": [
     "remove-input",
     "remove-ouput"
    ]
   },
   "outputs": [
    {
     "name": "stdout",
     "output_type": "stream",
     "text": [
      "Populating the interactive namespace from numpy and matplotlib\n"
     ]
    },
    {
     "name": "stderr",
     "output_type": "stream",
     "text": [
      "/Users/dkilkenny/anaconda3/envs/openmdao_38/lib/python3.8/site-packages/ipyparallel/util.py:213: RuntimeWarning: IPython could not determine IPs for GRSLA17060172: [Errno 8] nodename nor servname provided, or not known\n",
      "  warnings.warn(\"IPython could not determine IPs for %s: %s\" % (host, e),\n"
     ]
    }
   ],
   "source": [
    "%pylab inline\n",
    "from ipyparallel import Client, error\n",
    "cluster=Client(profile=\"mpi\") \n",
    "view=cluster[:]\n",
    "view.block=True"
   ]
  },
  {
   "cell_type": "code",
   "execution_count": 2,
   "metadata": {
    "tags": [
     "remove-input",
     "active-ipynb",
     "remove-output"
    ]
   },
   "outputs": [],
   "source": [
    "try:\n",
    "    import openmdao.api as om\n",
    "except ImportError:\n",
    "    !python -m pip install openmdao[notebooks]\n",
    "    import openmdao.api as om"
   ]
  },
  {
   "cell_type": "markdown",
   "metadata": {},
   "source": [
    "# Using src_indices with Promoted Variables\n",
    "---\n",
    "\n",
    "Inputs and outputs can be connected by promoting them both to the same name, but what\n",
    "if your output is an array and you only want to connect part of it to your\n",
    "input?  \n",
    "\n",
    "If you connect variables via promotion, you must set `src_indices` either\n",
    "when you call `add_input` to add your input variable to its component or \n",
    "when you promote the input with the :ref:`promotes <group_promotes>` method.  Another\n",
    "argument, `flat_src_indices` is a boolean that determines whether the entries\n",
    "of the `src_indices` array are interpreted as indices into the flattened source\n",
    "or as tuples or lists of indices into the unflattened source.  The default\n",
    "of `flat_src_indices=False` assumes indices map into an unflattened source.\n",
    "\n",
    "Usage\n",
    "-----\n",
    "\n",
    "1: Connect an independent array variable to two different components where each component gets part of the array.  "
   ]
  },
  {
   "cell_type": "code",
   "execution_count": 3,
   "metadata": {},
   "outputs": [
    {
     "name": "stdout",
     "output_type": "stream",
     "text": [
      "[1. 1. 1.]\n",
      "[6.]\n",
      "[1. 1.]\n",
      "[8.]\n"
     ]
    },
    {
     "name": "stderr",
     "output_type": "stream",
     "text": [
      "/Users/dkilkenny/Desktop/OpenMDAO_Clone/openmdao/core/component.py:514: DeprecationWarning:'C1' <class MyComp1>: Passing `src_indices` as an arg to `add_input` isdeprecated and will become an error in a future release.  Add `src_indices` to a `promotes` or `connect` call instead.\n",
      "/Users/dkilkenny/Desktop/OpenMDAO_Clone/openmdao/core/component.py:514: DeprecationWarning:'C2' <class MyComp2>: Passing `src_indices` as an arg to `add_input` isdeprecated and will become an error in a future release.  Add `src_indices` to a `promotes` or `connect` call instead.\n"
     ]
    }
   ],
   "source": [
    "import numpy as np \n",
    "\n",
    "class MyComp1(om.ExplicitComponent):\n",
    "    def setup(self):\n",
    "        # this input will connect to entries 0, 1, and 2 of its source\n",
    "        self.add_input('x', np.ones(3), src_indices=[0, 1, 2])\n",
    "        self.add_output('y', 1.0)\n",
    "\n",
    "    def compute(self, inputs, outputs):\n",
    "        outputs['y'] = np.sum(inputs['x'])*2.0\n",
    "\n",
    "class MyComp2(om.ExplicitComponent):\n",
    "    def setup(self):\n",
    "        # this input will connect to entries 3 and 4 of its source\n",
    "        self.add_input('x', np.ones(2), src_indices=[3, 4])\n",
    "        self.add_output('y', 1.0)\n",
    "\n",
    "    def compute(self, inputs, outputs):\n",
    "        outputs['y'] = np.sum(inputs['x'])*4.0\n",
    "\n",
    "p = om.Problem()\n",
    "\n",
    "# by promoting the following output and inputs to 'x', they will\n",
    "# be automatically connected\n",
    "p.model.add_subsystem('indep', om.IndepVarComp('x', np.ones(5)),\n",
    "                      promotes_outputs=['x'])\n",
    "p.model.add_subsystem('C1', MyComp1(), promotes_inputs=['x'])\n",
    "p.model.add_subsystem('C2', MyComp2(), promotes_inputs=['x'])\n",
    "\n",
    "p.setup()\n",
    "p.run_model()\n",
    "\n",
    "print(p.get_val('C1.x'))\n",
    "print(p.get_val('C1.y'))\n",
    "print(p.get_val('C2.x'))\n",
    "print(p.get_val('C2.y'))"
   ]
  },
  {
   "cell_type": "code",
   "execution_count": 4,
   "metadata": {
    "tags": [
     "remove-input",
     "remove-output"
    ]
   },
   "outputs": [
    {
     "data": {
      "text/plain": [
       "0.0"
      ]
     },
     "execution_count": 4,
     "metadata": {},
     "output_type": "execute_result"
    }
   ],
   "source": [
    "from openmdao.utils.assert_utils import assert_near_equal\n",
    "\n",
    "assert_near_equal(p.get_val('C1.x'), np.ones(3))\n",
    "assert_near_equal(p.get_val('C1.y'), 6.)\n",
    "assert_near_equal(p.get_val('C2.x'), np.ones(2))\n",
    "assert_near_equal(p.get_val('C2.y'), 8.)"
   ]
  },
  {
   "cell_type": "markdown",
   "metadata": {},
   "source": [
    "2: A distributed component that promotes its input and receives certain entries of the source array based on its rank.  Note that negative indices are supported."
   ]
  },
  {
   "cell_type": "code",
   "execution_count": 12,
   "metadata": {},
   "outputs": [
    {
     "name": "stdout",
     "output_type": "stream",
     "text": [
      "[stdout:0] [0. 1. 2.]\n",
      "[stdout:1] [3. 4.]\n",
      "[stdout:2] [3. 4.]\n",
      "[stdout:3] [3. 4.]\n"
     ]
    },
    {
     "name": "stderr",
     "output_type": "stream",
     "text": [
      "[stderr:0] /Users/dkilkenny/Desktop/OpenMDAO_Clone/openmdao/core/component.py:514: DeprecationWarning:'C1' <class MyComp>: Passing `src_indices` as an arg to `add_input` isdeprecated and will become an error in a future release.  Add `src_indices` to a `promotes` or `connect` call instead.\n",
      "[stderr:1] /Users/dkilkenny/Desktop/OpenMDAO_Clone/openmdao/core/component.py:514: DeprecationWarning:'C1' <class MyComp>: Passing `src_indices` as an arg to `add_input` isdeprecated and will become an error in a future release.  Add `src_indices` to a `promotes` or `connect` call instead.\n",
      "[stderr:2] /Users/dkilkenny/Desktop/OpenMDAO_Clone/openmdao/core/component.py:514: DeprecationWarning:'C1' <class MyComp>: Passing `src_indices` as an arg to `add_input` isdeprecated and will become an error in a future release.  Add `src_indices` to a `promotes` or `connect` call instead.\n",
      "[stderr:3] /Users/dkilkenny/Desktop/OpenMDAO_Clone/openmdao/core/component.py:514: DeprecationWarning:'C1' <class MyComp>: Passing `src_indices` as an arg to `add_input` isdeprecated and will become an error in a future release.  Add `src_indices` to a `promotes` or `connect` call instead.\n"
     ]
    }
   ],
   "source": [
    "%%px\n",
    "\n",
    "import openmdao.api as om\n",
    "import numpy as np\n",
    "\n",
    "class MyComp(om.ExplicitComponent):\n",
    "    def setup(self):\n",
    "        # decide what parts of the array we want based on our rank\n",
    "        if self.comm.rank == 0:\n",
    "            idxs = [0, 1, 2]\n",
    "        else:\n",
    "            # use [3, -1] here rather than [3, 4] just to show that we\n",
    "            # can use negative indices.\n",
    "            idxs = [3, -1]\n",
    "\n",
    "        self.add_input('x', np.ones(len(idxs)), src_indices=idxs)\n",
    "        self.add_output('y', 1.0)\n",
    "\n",
    "    def compute(self, inputs, outputs):\n",
    "        outputs['y'] = np.sum(inputs['x'])*2.0\n",
    "\n",
    "p = om.Problem()\n",
    "\n",
    "p.model.add_subsystem('indep', om.IndepVarComp('x', np.arange(5, dtype=float)),\n",
    "                      promotes_outputs=['x'])\n",
    "\n",
    "p.model.add_subsystem('C1', MyComp(),\n",
    "                      promotes_inputs=['x'])\n",
    "\n",
    "p.setup()\n",
    "p.set_val('x', np.arange(5, dtype=float))\n",
    "p.run_model()\n",
    "\n",
    "# each rank holds the assigned portion of the input array\n",
    "print(p.get_val('C1.x'))"
   ]
  },
  {
   "cell_type": "code",
   "execution_count": 13,
   "metadata": {},
   "outputs": [
    {
     "name": "stdout",
     "output_type": "stream",
     "text": [
      "[6.]\n"
     ]
    }
   ],
   "source": [
    "# the output in each rank is based on the local inputs\n",
    "print(p.get_val('C1.y'))"
   ]
  },
  {
   "cell_type": "code",
   "execution_count": 21,
   "metadata": {
    "tags": [
     "remove-input",
     "remove-output"
    ]
   },
   "outputs": [
    {
     "data": {
      "text/plain": [
       "\u001b[0;31mOut[0:7]: \u001b[0m0.0"
      ]
     },
     "metadata": {
      "after": [],
      "completed": "2021-04-08T21:27:26.175463",
      "data": {},
      "engine_id": 0,
      "engine_uuid": "9a0e0ec9-f90bf09604b522037b90951d",
      "error": null,
      "execute_input": "from openmdao.utils.assert_utils import assert_near_equal\n\nassert_near_equal(p['C1.x'],\n                  np.arange(3, dtype=float) if p.model.C1.comm.rank == 0 else np.arange(3, 5, dtype=float))\n\n# the output in each rank is based on the local inputs\nassert_near_equal(p['C1.y'], 6. if p.model.C1.comm.rank == 0 else 14.)\n",
      "execute_result": {
       "data": {
        "text/plain": "0.0"
       },
       "execution_count": 7,
       "metadata": {}
      },
      "follow": [],
      "msg_id": "da1e4e4e-026670d2fc60b7ca29ba9831_25",
      "outputs": [],
      "received": "2021-04-08T21:27:26.181563",
      "started": "2021-04-08T21:27:26.164295",
      "status": "ok",
      "stderr": "",
      "stdout": "",
      "submitted": "2021-04-08T21:27:26.160717"
     },
     "output_type": "display_data"
    },
    {
     "data": {
      "text/plain": [
       "\u001b[0;31mOut[1:7]: \u001b[0m0.0"
      ]
     },
     "metadata": {
      "after": [],
      "completed": "2021-04-08T21:27:26.175286",
      "data": {},
      "engine_id": 1,
      "engine_uuid": "4b057362-137cae518895912fc6dfa5d4",
      "error": null,
      "execute_input": "from openmdao.utils.assert_utils import assert_near_equal\n\nassert_near_equal(p['C1.x'],\n                  np.arange(3, dtype=float) if p.model.C1.comm.rank == 0 else np.arange(3, 5, dtype=float))\n\n# the output in each rank is based on the local inputs\nassert_near_equal(p['C1.y'], 6. if p.model.C1.comm.rank == 0 else 14.)\n",
      "execute_result": {
       "data": {
        "text/plain": "0.0"
       },
       "execution_count": 7,
       "metadata": {}
      },
      "follow": [],
      "msg_id": "da1e4e4e-026670d2fc60b7ca29ba9831_26",
      "outputs": [],
      "received": "2021-04-08T21:27:26.179934",
      "started": "2021-04-08T21:27:26.164741",
      "status": "ok",
      "stderr": "",
      "stdout": "",
      "submitted": "2021-04-08T21:27:26.160890"
     },
     "output_type": "display_data"
    },
    {
     "data": {
      "text/plain": [
       "\u001b[0;31mOut[2:7]: \u001b[0m0.0"
      ]
     },
     "metadata": {
      "after": [],
      "completed": "2021-04-08T21:27:26.176747",
      "data": {},
      "engine_id": 2,
      "engine_uuid": "c5475cad-ce388db8e44e007bf9bb7010",
      "error": null,
      "execute_input": "from openmdao.utils.assert_utils import assert_near_equal\n\nassert_near_equal(p['C1.x'],\n                  np.arange(3, dtype=float) if p.model.C1.comm.rank == 0 else np.arange(3, 5, dtype=float))\n\n# the output in each rank is based on the local inputs\nassert_near_equal(p['C1.y'], 6. if p.model.C1.comm.rank == 0 else 14.)\n",
      "execute_result": {
       "data": {
        "text/plain": "0.0"
       },
       "execution_count": 7,
       "metadata": {}
      },
      "follow": [],
      "msg_id": "da1e4e4e-026670d2fc60b7ca29ba9831_27",
      "outputs": [],
      "received": "2021-04-08T21:27:26.183763",
      "started": "2021-04-08T21:27:26.165030",
      "status": "ok",
      "stderr": "",
      "stdout": "",
      "submitted": "2021-04-08T21:27:26.161001"
     },
     "output_type": "display_data"
    },
    {
     "data": {
      "text/plain": [
       "\u001b[0;31mOut[3:7]: \u001b[0m0.0"
      ]
     },
     "metadata": {
      "after": [],
      "completed": "2021-04-08T21:27:26.176210",
      "data": {},
      "engine_id": 3,
      "engine_uuid": "648dae7e-215fea630e8aa4346e5f4773",
      "error": null,
      "execute_input": "from openmdao.utils.assert_utils import assert_near_equal\n\nassert_near_equal(p['C1.x'],\n                  np.arange(3, dtype=float) if p.model.C1.comm.rank == 0 else np.arange(3, 5, dtype=float))\n\n# the output in each rank is based on the local inputs\nassert_near_equal(p['C1.y'], 6. if p.model.C1.comm.rank == 0 else 14.)\n",
      "execute_result": {
       "data": {
        "text/plain": "0.0"
       },
       "execution_count": 7,
       "metadata": {}
      },
      "follow": [],
      "msg_id": "da1e4e4e-026670d2fc60b7ca29ba9831_28",
      "outputs": [],
      "received": "2021-04-08T21:27:26.182869",
      "started": "2021-04-08T21:27:26.165246",
      "status": "ok",
      "stderr": "",
      "stdout": "",
      "submitted": "2021-04-08T21:27:26.161106"
     },
     "output_type": "display_data"
    }
   ],
   "source": [
    "%%px\n",
    "from openmdao.utils.assert_utils import assert_near_equal\n",
    "\n",
    "assert_near_equal(p['C1.x'],\n",
    "                  np.arange(3, dtype=float) if p.model.C1.comm.rank == 0 else np.arange(3, 5, dtype=float))\n",
    "\n",
    "# the output in each rank is based on the local inputs\n",
    "assert_near_equal(p['C1.y'], 6. if p.model.C1.comm.rank == 0 else 14.)"
   ]
  },
  {
   "cell_type": "markdown",
   "metadata": {},
   "source": [
    "3: The source array is shape (4,3) and the input array is shape (2,2)\n"
   ]
  },
  {
   "cell_type": "code",
   "execution_count": 22,
   "metadata": {},
   "outputs": [
    {
     "name": "stdout",
     "output_type": "stream",
     "text": [
      "[[ 0. 10.]\n",
      " [ 7.  4.]]\n",
      "[21.]\n"
     ]
    },
    {
     "name": "stderr",
     "output_type": "stream",
     "text": [
      "/Users/dkilkenny/Desktop/OpenMDAO_Clone/openmdao/core/component.py:514: DeprecationWarning:'C1' <class MyComp>: Passing `src_indices` as an arg to `add_input` isdeprecated and will become an error in a future release.  Add `src_indices` to a `promotes` or `connect` call instead.\n"
     ]
    }
   ],
   "source": [
    "class MyComp(om.ExplicitComponent):\n",
    "    def setup(self):\n",
    "        # We want to pull the following 4 values out of the source:\n",
    "        # [(0,0), (3,1), (2,1), (1,1)].\n",
    "        # Because our input is also non-flat we arrange the\n",
    "        # source index tuples into an array having the same shape\n",
    "        # as our input.  If we didn't set flat_src_indices to False,\n",
    "        # we could specify src_indices as a 1D array of indices into\n",
    "        # the flattened source.\n",
    "        self.add_input('x', np.ones((2, 2)),\n",
    "                       src_indices=[[(0, 0), (3, 1)],\n",
    "                                    [(2, 1), (1, 1)]],\n",
    "                       flat_src_indices=False)\n",
    "        self.add_output('y', 1.0)\n",
    "\n",
    "    def compute(self, inputs, outputs):\n",
    "        outputs['y'] = np.sum(inputs['x'])\n",
    "\n",
    "p = om.Problem()\n",
    "\n",
    "# by promoting the following output and inputs to 'x', they will\n",
    "# be automatically connected\n",
    "p.model.add_subsystem('indep',\n",
    "                      om.IndepVarComp('x', np.arange(12).reshape((4, 3))),\n",
    "                      promotes_outputs=['x'])\n",
    "p.model.add_subsystem('C1', MyComp(),\n",
    "                      promotes_inputs=['x'])\n",
    "\n",
    "p.setup()\n",
    "p.run_model()\n",
    "\n",
    "print(p.get_val('C1.x'))\n",
    "print(p.get_val('C1.y'))"
   ]
  },
  {
   "cell_type": "code",
   "execution_count": 23,
   "metadata": {
    "tags": [
     "remove-input",
     "remove-output"
    ]
   },
   "outputs": [
    {
     "data": {
      "text/plain": [
       "0.0"
      ]
     },
     "execution_count": 23,
     "metadata": {},
     "output_type": "execute_result"
    }
   ],
   "source": [
    "assert_near_equal(p.get_val('C1.x'),\n",
    "                 np.array([[0., 10.],\n",
    "                           [7., 4.]]))\n",
    "assert_near_equal(p.get_val('C1.y'), 21.)"
   ]
  },
  {
   "cell_type": "markdown",
   "metadata": {},
   "source": [
    "4: If the source array is shape (4,3), the input is scalar, and we want to\n",
    "connect it to the (3, 1) entry of the source, then the `add_input`\n",
    "call might look like the following if we use `flat_src_indices`:\n",
    "\n",
    "```\n",
    "    self.add_input('x', 1.0, src_indices=[10], shape=1, flat_src_indices=True)\n",
    "```\n",
    "\n",
    "If we instead use the default setting of `flat_src_indices=False`, we must specify\n",
    "the input shape since a scalar input value alone doesn't necessarily indicate that\n",
    "the input variable is scalar.  For example, in the case below, if we didn't know the\n",
    "input shape, we wouldn't know if it was scalar and connected to a 2-D source\n",
    "array, or if it was shape (1,2) and connected to a flat source array.\n",
    "\n",
    "```\n",
    "    self.add_input('x', 1.0, src_indices=np.array([[3,1]]), shape=1)\n",
    "```"
   ]
  },
  {
   "cell_type": "markdown",
   "metadata": {},
   "source": [
    "5: If the source array is flat and the input is shape (2,2), the `add_input` call might look like this:\n",
    "```\n",
    "    self.add_input('x', src_indices=[[0, 10], [7, 4]], shape=(2,2))\n",
    "```"
   ]
  },
  {
   "cell_type": "markdown",
   "metadata": {},
   "source": [
    "6: Indices can also be specified when an input is promoted via the :ref:`promotes <group_promotes>` \n",
    "method."
   ]
  },
  {
   "cell_type": "code",
   "execution_count": 24,
   "metadata": {},
   "outputs": [
    {
     "name": "stdout",
     "output_type": "stream",
     "text": [
      "[0.03205746 0.29239725 0.36208276]\n",
      "[0.96858973 0.42584458]\n",
      "[1.37307492]\n",
      "[5.57773722]\n"
     ]
    }
   ],
   "source": [
    "class MyComp1(om.ExplicitComponent):\n",
    "    \"\"\" multiplies input array by 2. \"\"\"\n",
    "    def setup(self):\n",
    "        self.add_input('x', np.ones(3))\n",
    "        self.add_output('y', 1.0)\n",
    "\n",
    "    def compute(self, inputs, outputs):\n",
    "        outputs['y'] = np.sum(inputs['x'])*2.0\n",
    "\n",
    "class MyComp2(om.ExplicitComponent):\n",
    "    \"\"\" multiplies input array by 4. \"\"\"\n",
    "    def setup(self):\n",
    "        self.add_input('x', np.ones(2))\n",
    "        self.add_output('y', 1.0)\n",
    "\n",
    "    def compute(self, inputs, outputs):\n",
    "        outputs['y'] = np.sum(inputs['x'])*4.0\n",
    "\n",
    "class MyGroup(om.Group):\n",
    "    def setup(self):\n",
    "        self.add_subsystem('comp1', MyComp1())\n",
    "        self.add_subsystem('comp2', MyComp2())\n",
    "\n",
    "    def configure(self):\n",
    "        # splits input via promotes using src_indices\n",
    "        self.promotes('comp1', inputs=['x'], src_indices=[0, 1, 2])\n",
    "        self.promotes('comp2', inputs=['x'], src_indices=[3, 4])\n",
    "\n",
    "p = om.Problem()\n",
    "\n",
    "p.model.set_input_defaults('x', np.ones(5))\n",
    "p.model.add_subsystem('G1', MyGroup(), promotes_inputs=['x'])\n",
    "\n",
    "p.setup()\n",
    "inp = np.random.random(5)\n",
    "p.set_val('x', inp)\n",
    "p.run_model()\n",
    "\n",
    "print(p.get_val('G1.comp1.x'))\n",
    "print(p.get_val('G1.comp2.x'))\n",
    "print(p.get_val('G1.comp1.y'))\n",
    "print(p.get_val('G1.comp2.y'))"
   ]
  },
  {
   "cell_type": "code",
   "execution_count": 25,
   "metadata": {
    "tags": [
     "remove-input",
     "remove-output"
    ]
   },
   "outputs": [
    {
     "data": {
      "text/plain": [
       "0.0"
      ]
     },
     "execution_count": 25,
     "metadata": {},
     "output_type": "execute_result"
    }
   ],
   "source": [
    "assert_near_equal(p.get_val('G1.comp1.x'), inp[:3])\n",
    "assert_near_equal(p.get_val('G1.comp2.x'), inp[3:])\n",
    "assert_near_equal(p.get_val('G1.comp1.y'), np.sum(inp[:3]*2))\n",
    "assert_near_equal(p.get_val('G1.comp2.y'), np.sum(inp[3:]*4))"
   ]
  },
  {
   "cell_type": "markdown",
   "metadata": {},
   "source": [
    "```{note}\n",
    "If the source array is flat, we allow the use of flat src_indices even\n",
    "without setting `flat_src_indices=True`.\n",
    "```"
   ]
  }
 ],
 "metadata": {
  "celltoolbar": "Tags",
  "kernelspec": {
   "display_name": "Python 3",
   "language": "python",
   "name": "python3"
  },
  "language_info": {
   "codemirror_mode": {
    "name": "ipython",
    "version": 3
   },
   "file_extension": ".py",
   "mimetype": "text/x-python",
   "name": "python",
   "nbconvert_exporter": "python",
   "pygments_lexer": "ipython3",
   "version": "3.8.1"
  }
 },
 "nbformat": 4,
 "nbformat_minor": 4
}
