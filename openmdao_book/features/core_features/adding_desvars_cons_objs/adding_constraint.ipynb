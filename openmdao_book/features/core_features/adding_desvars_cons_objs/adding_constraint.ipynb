{
 "cells": [
  {
   "cell_type": "code",
   "execution_count": 1,
   "metadata": {
    "collapsed": false,
    "jupyter": {
     "outputs_hidden": false
    },
    "pycharm": {
     "name": "#%%\n"
    },
    "tags": [
     "remove-input",
     "remove-output",
     "active-ipynb"
    ]
   },
   "outputs": [
    {
     "name": "stdout",
     "output_type": "stream",
     "text": [
      "Populating the interactive namespace from numpy and matplotlib\n"
     ]
    }
   ],
   "source": [
    "%pylab inline\n",
    "from ipyparallel import Client, error\n",
    "cluster=Client(profile=\"mpi\") \n",
    "view=cluster[:]\n",
    "view.block=True\n",
    "\n",
    "try:\n",
    "    import openmdao.api as om\n",
    "except ImportError:\n",
    "    !python -m pip install openmdao[notebooks]\n",
    "    import openmdao.api as om"
   ]
  },
  {
   "cell_type": "markdown",
   "metadata": {},
   "source": [
    "```{note}\n",
    "This feature requires MPI, and may not be able to be run on Colab.\n",
    "```"
   ]
  },
  {
   "cell_type": "markdown",
   "metadata": {},
   "source": [
    "# Adding Constraints\n",
    "\n",
    "To add a constraint to an optimization, use the `add_constraint` method on System."
   ]
  },
  {
   "cell_type": "markdown",
   "metadata": {},
   "source": [
    "```{eval-rst}\n",
    "    .. autoclass:: openmdao.core.system.System.add_constraint\n",
    "        :noindex:\n",
    "```"
   ]
  },
  {
   "cell_type": "markdown",
   "metadata": {},
   "source": [
    "## Specifying units\n",
    "\n",
    "You can specify units when adding a constraint. When this is done, the constraint value is converted from the target output’s units to the desired unit before giving it to the optimizer. If you also specify scaling, that scaling is applied after the unit conversion. Moreover, the upper and lower limits in the constraint definition should be specified using these units.\n",
    "\n"
   ]
  },
  {
   "cell_type": "code",
   "execution_count": 2,
   "metadata": {
    "collapsed": false,
    "jupyter": {
     "outputs_hidden": false
    },
    "pycharm": {
     "name": "#%%\n"
    },
    "tags": [
     "remove-output"
    ]
   },
   "outputs": [
    {
     "data": {
      "text/plain": [
       "False"
      ]
     },
     "execution_count": 2,
     "metadata": {},
     "output_type": "execute_result"
    }
   ],
   "source": [
    "import openmdao.api as om\n",
    "\n",
    "prob = om.Problem()\n",
    "model = prob.model\n",
    "\n",
    "model.add_subsystem('comp1', om.ExecComp('y1 = 2.0*x',\n",
    "                                         x={'value': 2.0, 'units': 'degF'},\n",
    "                                         y1={'value': 2.0, 'units': 'degF'}),\n",
    "                    promotes=['x', 'y1'])\n",
    "\n",
    "model.add_subsystem('comp2', om.ExecComp('y2 = 3.0*x',\n",
    "                                         x={'value': 2.0, 'units': 'degF'},\n",
    "                                         y2={'value': 2.0, 'units': 'degF'}),\n",
    "                    promotes=['x', 'y2'])\n",
    "\n",
    "model.set_input_defaults('x', 35.0, units='degF')\n",
    "\n",
    "model.add_design_var('x', units='degC', lower=0.0, upper=100.0)\n",
    "model.add_constraint('y1', units='degC', lower=0.0, upper=100.0)\n",
    "model.add_objective('y2', units='degC')\n",
    "\n",
    "prob.setup()\n",
    "prob.run_driver()"
   ]
  },
  {
   "cell_type": "code",
   "execution_count": 3,
   "metadata": {
    "collapsed": false,
    "jupyter": {
     "outputs_hidden": false
    },
    "pycharm": {
     "name": "#%%\n"
    }
   },
   "outputs": [
    {
     "name": "stdout",
     "output_type": "stream",
     "text": [
      "Model variables\n",
      "[35.]\n"
     ]
    }
   ],
   "source": [
    "print('Model variables')\n",
    "print(prob.get_val('x', indices=[0]))"
   ]
  },
  {
   "cell_type": "code",
   "execution_count": 4,
   "metadata": {
    "collapsed": false,
    "jupyter": {
     "outputs_hidden": false
    },
    "pycharm": {
     "name": "#%%\n"
    }
   },
   "outputs": [
    {
     "name": "stdout",
     "output_type": "stream",
     "text": [
      "[105.]\n"
     ]
    }
   ],
   "source": [
    "print(prob.get_val('comp2.y2', indices=[0]))"
   ]
  },
  {
   "cell_type": "code",
   "execution_count": 5,
   "metadata": {
    "collapsed": false,
    "jupyter": {
     "outputs_hidden": false
    },
    "pycharm": {
     "name": "#%%\n"
    }
   },
   "outputs": [
    {
     "name": "stdout",
     "output_type": "stream",
     "text": [
      "[70.]\n"
     ]
    }
   ],
   "source": [
    "print(prob.get_val('comp1.y1', indices=[0]))"
   ]
  },
  {
   "cell_type": "code",
   "execution_count": 6,
   "metadata": {
    "collapsed": false,
    "jupyter": {
     "outputs_hidden": false
    },
    "pycharm": {
     "name": "#%%\n"
    }
   },
   "outputs": [
    {
     "name": "stdout",
     "output_type": "stream",
     "text": [
      "Driver variables\n",
      "1.6666666666666983\n"
     ]
    }
   ],
   "source": [
    "print('Driver variables')\n",
    "dv = prob.driver.get_design_var_values()\n",
    "print(dv['x'][0])"
   ]
  },
  {
   "cell_type": "code",
   "execution_count": 7,
   "metadata": {
    "collapsed": false,
    "jupyter": {
     "outputs_hidden": false
    },
    "pycharm": {
     "name": "#%%\n"
    }
   },
   "outputs": [
    {
     "name": "stdout",
     "output_type": "stream",
     "text": [
      "40.555555555555586\n"
     ]
    }
   ],
   "source": [
    "obj = prob.driver.get_objective_values(driver_scaling=True)\n",
    "print(obj['comp2.y2'][0])"
   ]
  },
  {
   "cell_type": "code",
   "execution_count": 8,
   "metadata": {
    "collapsed": false,
    "jupyter": {
     "outputs_hidden": false
    },
    "pycharm": {
     "name": "#%%\n"
    }
   },
   "outputs": [
    {
     "name": "stdout",
     "output_type": "stream",
     "text": [
      "21.111111111111143\n"
     ]
    }
   ],
   "source": [
    "con = prob.driver.get_constraint_values(driver_scaling=True)\n",
    "print(con['comp1.y1'][0])"
   ]
  },
  {
   "cell_type": "code",
   "execution_count": 9,
   "metadata": {
    "collapsed": false,
    "jupyter": {
     "outputs_hidden": false
    },
    "pycharm": {
     "name": "#%%\n"
    },
    "tags": [
     "remove-input",
     "remove-output"
    ]
   },
   "outputs": [
    {
     "data": {
      "text/plain": [
       "0.0"
      ]
     },
     "execution_count": 9,
     "metadata": {},
     "output_type": "execute_result"
    }
   ],
   "source": [
    "import numpy as np\n",
    "from openmdao.utils.assert_utils import assert_near_equal\n",
    "\n",
    "assert_near_equal(prob.get_val('x', indices=[0]), 35.)\n",
    "assert_near_equal(prob.get_val('comp2.y2', indices=[0]), 105.)\n",
    "assert_near_equal(prob.get_val('comp1.y1', indices=[0]), 70.)\n",
    "assert_near_equal(dv['x'][0], 1.6666666666666983)\n",
    "assert_near_equal(obj['comp2.y2'][0], 40.555555555555586)\n",
    "assert_near_equal(con['comp1.y1'][0], 21.111111111111143)"
   ]
  },
  {
   "cell_type": "markdown",
   "metadata": {},
   "source": [
    "## Using the output of a distributed component as a constraint\n",
    "\n",
    "You can use an output of a distributed component as a constraint or an objective. OpenMDAO automatically collects the values from all processors and provides them to the driver.\n",
    "\n",
    "Here is an example where we perform optimization on a model that contains a `DistParabFeature` component that is distributed. The output is declared as a inequality constraint."
   ]
  },
  {
   "cell_type": "code",
   "execution_count": 10,
   "metadata": {},
   "outputs": [
    {
     "name": "stdout",
     "output_type": "stream",
     "text": [
      "[stdout:0] \n",
      "\n",
      "Optimization Problem -- Optimization using pyOpt_sparse\n",
      "================================================================================\n",
      "    Objective Function: _objfunc\n",
      "\n",
      "    Solution: \n",
      "--------------------------------------------------------------------------------\n",
      "    Total Time:                    0.0267\n",
      "       User Objective Time :       0.0038\n",
      "       User Sensitivity Time :     0.0145\n",
      "       Interface Time :            0.0077\n",
      "       Opt Solver Time:            0.0008\n",
      "    Calls to Objective Function :       7\n",
      "    Calls to Sens Function :            7\n",
      "\n",
      "\n",
      "   Objectives\n",
      "      Index  Name                 Value          Optimum\n",
      "          0  sum.f_sum     1.150150E+01     0.000000E+00\n",
      "\n",
      "   Variables (c - continuous, i - integer, d - discrete)\n",
      "      Index  Name    Type      Lower Bound            Value      Upper Bound     Status\n",
      "          0  p.x_0      c    -5.000000E+01     2.657527E+00     5.000000E+01           \n",
      "          1  p.x_1      c    -5.000000E+01     2.604332E+00     5.000000E+01           \n",
      "          2  p.x_2      c    -5.000000E+01     2.510060E+00     5.000000E+01           \n",
      "          3  p.x_3      c    -5.000000E+01     1.910213E+00     5.000000E+01           \n",
      "          4  p.x_4      c    -5.000000E+01     1.310076E+00     5.000000E+01           \n",
      "          5  p.x_5      c    -5.000000E+01     7.099286E-01     5.000000E+01           \n",
      "          6  p.x_6      c    -5.000000E+01     1.097810E-01     5.000000E+01           \n",
      "\n",
      "   Constraints (i - inequality, e - equality)\n",
      "      Index  Name       Type          Lower           Value           Upper    Status  Lagrange Multiplier (N/A)\n",
      "          0  parab.f_xy    i   0.000000E+00    1.598721E-14    1.000000E+30         l    9.00000E+100\n",
      "          1  parab.f_xy    i   0.000000E+00    3.108624E-14    1.000000E+30         l    9.00000E+100\n",
      "          2  parab.f_xy    i   0.000000E+00    5.963000E-01    1.000000E+30              9.00000E+100\n",
      "          3  parab.f_xy    i   0.000000E+00    1.448300E+00    1.000000E+30              9.00000E+100\n",
      "          4  parab.f_xy    i   0.000000E+00    2.300300E+00    1.000000E+30              9.00000E+100\n",
      "          5  parab.f_xy    i   0.000000E+00    3.152300E+00    1.000000E+30              9.00000E+100\n",
      "          6  parab.f_xy    i   0.000000E+00    4.004300E+00    1.000000E+30              9.00000E+100\n",
      "\n",
      "--------------------------------------------------------------------------------\n",
      "\n",
      "[stdout:1] \n",
      "\n",
      "Optimization Problem -- Optimization using pyOpt_sparse\n",
      "================================================================================\n",
      "    Objective Function: _objfunc\n",
      "\n",
      "    Solution: \n",
      "--------------------------------------------------------------------------------\n",
      "    Total Time:                    0.0284\n",
      "       User Objective Time :       0.0040\n",
      "       User Sensitivity Time :     0.0145\n",
      "       Interface Time :            0.0082\n",
      "       Opt Solver Time:            0.0016\n",
      "    Calls to Objective Function :       7\n",
      "    Calls to Sens Function :            7\n",
      "\n",
      "\n",
      "   Objectives\n",
      "      Index  Name                 Value          Optimum\n",
      "          0  sum.f_sum     1.150150E+01     0.000000E+00\n",
      "\n",
      "   Variables (c - continuous, i - integer, d - discrete)\n",
      "      Index  Name    Type      Lower Bound            Value      Upper Bound     Status\n",
      "          0  p.x_0      c    -5.000000E+01     2.657527E+00     5.000000E+01           \n",
      "          1  p.x_1      c    -5.000000E+01     2.604332E+00     5.000000E+01           \n",
      "          2  p.x_2      c    -5.000000E+01     2.510060E+00     5.000000E+01           \n",
      "          3  p.x_3      c    -5.000000E+01     1.910213E+00     5.000000E+01           \n",
      "          4  p.x_4      c    -5.000000E+01     1.310076E+00     5.000000E+01           \n",
      "          5  p.x_5      c    -5.000000E+01     7.099286E-01     5.000000E+01           \n",
      "          6  p.x_6      c    -5.000000E+01     1.097810E-01     5.000000E+01           \n",
      "\n",
      "   Constraints (i - inequality, e - equality)\n",
      "      Index  Name       Type          Lower           Value           Upper    Status  Lagrange Multiplier (N/A)\n",
      "          0  parab.f_xy    i   0.000000E+00    1.598721E-14    1.000000E+30         l    9.00000E+100\n",
      "          1  parab.f_xy    i   0.000000E+00    3.108624E-14    1.000000E+30         l    9.00000E+100\n",
      "          2  parab.f_xy    i   0.000000E+00    5.963000E-01    1.000000E+30              9.00000E+100\n",
      "          3  parab.f_xy    i   0.000000E+00    1.448300E+00    1.000000E+30              9.00000E+100\n",
      "          4  parab.f_xy    i   0.000000E+00    2.300300E+00    1.000000E+30              9.00000E+100\n",
      "          5  parab.f_xy    i   0.000000E+00    3.152300E+00    1.000000E+30              9.00000E+100\n",
      "          6  parab.f_xy    i   0.000000E+00    4.004300E+00    1.000000E+30              9.00000E+100\n",
      "\n",
      "--------------------------------------------------------------------------------\n",
      "\n"
     ]
    },
    {
     "name": "stderr",
     "output_type": "stream",
     "text": [
      "[stderr:0] \n",
      "/Users/hschilli/Documents/OpenMDAO/dev/OpenMDAO/openmdao/core/component.py:522: DeprecationWarning:'parab' <class DistParabFeature>: Passing `src_indices` as an arg to `add_input` isdeprecated and will become an error in a future release.  Add `src_indices` to a `promotes` or `connect` call instead.\n",
      "/Users/hschilli/Documents/OpenMDAO/dev/OpenMDAO/openmdao/core/component.py:522: DeprecationWarning:'parab' <class DistParabFeature>: Passing `src_indices` as an arg to `add_input` isdeprecated and will become an error in a future release.  Add `src_indices` to a `promotes` or `connect` call instead.\n",
      "/Users/hschilli/Documents/OpenMDAO/dev/OpenMDAO/openmdao/core/component.py:522: DeprecationWarning:'parab' <class DistParabFeature>: Passing `src_indices` as an arg to `add_input` isdeprecated and will become an error in a future release.  Add `src_indices` to a `promotes` or `connect` call instead.\n",
      "[stderr:1] \n",
      "/Users/hschilli/Documents/OpenMDAO/dev/OpenMDAO/openmdao/core/component.py:522: DeprecationWarning:'parab' <class DistParabFeature>: Passing `src_indices` as an arg to `add_input` isdeprecated and will become an error in a future release.  Add `src_indices` to a `promotes` or `connect` call instead.\n",
      "/Users/hschilli/Documents/OpenMDAO/dev/OpenMDAO/openmdao/core/component.py:522: DeprecationWarning:'parab' <class DistParabFeature>: Passing `src_indices` as an arg to `add_input` isdeprecated and will become an error in a future release.  Add `src_indices` to a `promotes` or `connect` call instead.\n",
      "/Users/hschilli/Documents/OpenMDAO/dev/OpenMDAO/openmdao/core/component.py:522: DeprecationWarning:'parab' <class DistParabFeature>: Passing `src_indices` as an arg to `add_input` isdeprecated and will become an error in a future release.  Add `src_indices` to a `promotes` or `connect` call instead.\n"
     ]
    },
    {
     "data": {
      "text/plain": [
       "\u001B[0;31mOut[0:99]: \u001B[0mFalse"
      ]
     },
     "metadata": {
      "after": [],
      "completed": "2021-04-16T01:35:33.184567",
      "data": {},
      "engine_id": 0,
      "engine_uuid": "27690296-437506899b7044052b7c5b20",
      "error": null,
      "execute_input": "\nimport numpy as np\nimport openmdao.api as om\n\nfrom openmdao.test_suite.components.paraboloid_distributed import DistParabFeature\n\nsize = 7\n\nprob = om.Problem()\nmodel = prob.model\n\nivc = om.IndepVarComp()\nivc.add_output('x', np.ones((size, )))\nivc.add_output('y', -1.42 * np.ones((size, )))\nivc.add_output('offset', -3.0 + 0.6 * np.arange(size))\n\nmodel.add_subsystem('p', ivc, promotes=['*'])\nmodel.add_subsystem(\"parab\", DistParabFeature(arr_size=size),\n                    promotes=['*'])\nmodel.add_subsystem('sum', om.ExecComp('f_sum = sum(f_xy)',\n                                       f_sum=np.ones(1),\n                                       f_xy=np.ones(size)),\n                    promotes=['*'])\n\nmodel.add_design_var('x', lower=-50.0, upper=50.0)\nmodel.add_constraint('f_xy', lower=0.0)\nmodel.add_objective('f_sum', index=-1)\n\nprob.driver = om.pyOptSparseDriver(optimizer='SLSQP')\nprob.setup(force_alloc_complex=True)\n\nprob.run_driver()\n",
      "execute_result": {
       "data": {
        "text/plain": "False"
       },
       "execution_count": 99,
       "metadata": {}
      },
      "follow": [],
      "msg_id": "ac05289d-086935ab700771710b1c7f0e_1",
      "outputs": [],
      "received": "2021-04-16T01:35:33.187048",
      "started": "2021-04-16T01:35:33.136520",
      "status": "ok",
      "stderr": "/Users/hschilli/Documents/OpenMDAO/dev/OpenMDAO/openmdao/core/component.py:522: DeprecationWarning:'parab' <class DistParabFeature>: Passing `src_indices` as an arg to `add_input` isdeprecated and will become an error in a future release.  Add `src_indices` to a `promotes` or `connect` call instead.\n/Users/hschilli/Documents/OpenMDAO/dev/OpenMDAO/openmdao/core/component.py:522: DeprecationWarning:'parab' <class DistParabFeature>: Passing `src_indices` as an arg to `add_input` isdeprecated and will become an error in a future release.  Add `src_indices` to a `promotes` or `connect` call instead.\n/Users/hschilli/Documents/OpenMDAO/dev/OpenMDAO/openmdao/core/component.py:522: DeprecationWarning:'parab' <class DistParabFeature>: Passing `src_indices` as an arg to `add_input` isdeprecated and will become an error in a future release.  Add `src_indices` to a `promotes` or `connect` call instead.\n",
      "stdout": "\n\nOptimization Problem -- Optimization using pyOpt_sparse\n================================================================================\n    Objective Function: _objfunc\n\n    Solution: \n--------------------------------------------------------------------------------\n    Total Time:                    0.0267\n       User Objective Time :       0.0038\n       User Sensitivity Time :     0.0145\n       Interface Time :            0.0077\n       Opt Solver Time:            0.0008\n    Calls to Objective Function :       7\n    Calls to Sens Function :            7\n\n\n   Objectives\n      Index  Name                 Value          Optimum\n          0  sum.f_sum     1.150150E+01     0.000000E+00\n\n   Variables (c - continuous, i - integer, d - discrete)\n      Index  Name    Type      Lower Bound            Value      Upper Bound     Status\n          0  p.x_0      c    -5.000000E+01     2.657527E+00     5.000000E+01           \n          1  p.x_1      c    -5.000000E+01     2.604332E+00     5.000000E+01           \n          2  p.x_2      c    -5.000000E+01     2.510060E+00     5.000000E+01           \n          3  p.x_3      c    -5.000000E+01     1.910213E+00     5.000000E+01           \n          4  p.x_4      c    -5.000000E+01     1.310076E+00     5.000000E+01           \n          5  p.x_5      c    -5.000000E+01     7.099286E-01     5.000000E+01           \n          6  p.x_6      c    -5.000000E+01     1.097810E-01     5.000000E+01           \n\n   Constraints (i - inequality, e - equality)\n      Index  Name       Type          Lower           Value           Upper    Status  Lagrange Multiplier (N/A)\n          0  parab.f_xy    i   0.000000E+00    1.598721E-14    1.000000E+30         l    9.00000E+100\n          1  parab.f_xy    i   0.000000E+00    3.108624E-14    1.000000E+30         l    9.00000E+100\n          2  parab.f_xy    i   0.000000E+00    5.963000E-01    1.000000E+30              9.00000E+100\n          3  parab.f_xy    i   0.000000E+00    1.448300E+00    1.000000E+30              9.00000E+100\n          4  parab.f_xy    i   0.000000E+00    2.300300E+00    1.000000E+30              9.00000E+100\n          5  parab.f_xy    i   0.000000E+00    3.152300E+00    1.000000E+30              9.00000E+100\n          6  parab.f_xy    i   0.000000E+00    4.004300E+00    1.000000E+30              9.00000E+100\n\n--------------------------------------------------------------------------------\n\n",
      "submitted": "2021-04-16T01:35:33.133477"
     },
     "output_type": "display_data"
    },
    {
     "data": {
      "text/plain": [
       "\u001B[0;31mOut[1:99]: \u001B[0mFalse"
      ]
     },
     "metadata": {
      "after": [],
      "completed": "2021-04-16T01:35:33.186932",
      "data": {},
      "engine_id": 1,
      "engine_uuid": "2ad50836-806cbefaca9252c955035934",
      "error": null,
      "execute_input": "\nimport numpy as np\nimport openmdao.api as om\n\nfrom openmdao.test_suite.components.paraboloid_distributed import DistParabFeature\n\nsize = 7\n\nprob = om.Problem()\nmodel = prob.model\n\nivc = om.IndepVarComp()\nivc.add_output('x', np.ones((size, )))\nivc.add_output('y', -1.42 * np.ones((size, )))\nivc.add_output('offset', -3.0 + 0.6 * np.arange(size))\n\nmodel.add_subsystem('p', ivc, promotes=['*'])\nmodel.add_subsystem(\"parab\", DistParabFeature(arr_size=size),\n                    promotes=['*'])\nmodel.add_subsystem('sum', om.ExecComp('f_sum = sum(f_xy)',\n                                       f_sum=np.ones(1),\n                                       f_xy=np.ones(size)),\n                    promotes=['*'])\n\nmodel.add_design_var('x', lower=-50.0, upper=50.0)\nmodel.add_constraint('f_xy', lower=0.0)\nmodel.add_objective('f_sum', index=-1)\n\nprob.driver = om.pyOptSparseDriver(optimizer='SLSQP')\nprob.setup(force_alloc_complex=True)\n\nprob.run_driver()\n",
      "execute_result": {
       "data": {
        "text/plain": "False"
       },
       "execution_count": 99,
       "metadata": {}
      },
      "follow": [],
      "msg_id": "ac05289d-086935ab700771710b1c7f0e_2",
      "outputs": [],
      "received": "2021-04-16T01:35:33.188915",
      "started": "2021-04-16T01:35:33.136729",
      "status": "ok",
      "stderr": "/Users/hschilli/Documents/OpenMDAO/dev/OpenMDAO/openmdao/core/component.py:522: DeprecationWarning:'parab' <class DistParabFeature>: Passing `src_indices` as an arg to `add_input` isdeprecated and will become an error in a future release.  Add `src_indices` to a `promotes` or `connect` call instead.\n/Users/hschilli/Documents/OpenMDAO/dev/OpenMDAO/openmdao/core/component.py:522: DeprecationWarning:'parab' <class DistParabFeature>: Passing `src_indices` as an arg to `add_input` isdeprecated and will become an error in a future release.  Add `src_indices` to a `promotes` or `connect` call instead.\n/Users/hschilli/Documents/OpenMDAO/dev/OpenMDAO/openmdao/core/component.py:522: DeprecationWarning:'parab' <class DistParabFeature>: Passing `src_indices` as an arg to `add_input` isdeprecated and will become an error in a future release.  Add `src_indices` to a `promotes` or `connect` call instead.\n",
      "stdout": "\n\nOptimization Problem -- Optimization using pyOpt_sparse\n================================================================================\n    Objective Function: _objfunc\n\n    Solution: \n--------------------------------------------------------------------------------\n    Total Time:                    0.0284\n       User Objective Time :       0.0040\n       User Sensitivity Time :     0.0145\n       Interface Time :            0.0082\n       Opt Solver Time:            0.0016\n    Calls to Objective Function :       7\n    Calls to Sens Function :            7\n\n\n   Objectives\n      Index  Name                 Value          Optimum\n          0  sum.f_sum     1.150150E+01     0.000000E+00\n\n   Variables (c - continuous, i - integer, d - discrete)\n      Index  Name    Type      Lower Bound            Value      Upper Bound     Status\n          0  p.x_0      c    -5.000000E+01     2.657527E+00     5.000000E+01           \n          1  p.x_1      c    -5.000000E+01     2.604332E+00     5.000000E+01           \n          2  p.x_2      c    -5.000000E+01     2.510060E+00     5.000000E+01           \n          3  p.x_3      c    -5.000000E+01     1.910213E+00     5.000000E+01           \n          4  p.x_4      c    -5.000000E+01     1.310076E+00     5.000000E+01           \n          5  p.x_5      c    -5.000000E+01     7.099286E-01     5.000000E+01           \n          6  p.x_6      c    -5.000000E+01     1.097810E-01     5.000000E+01           \n\n   Constraints (i - inequality, e - equality)\n      Index  Name       Type          Lower           Value           Upper    Status  Lagrange Multiplier (N/A)\n          0  parab.f_xy    i   0.000000E+00    1.598721E-14    1.000000E+30         l    9.00000E+100\n          1  parab.f_xy    i   0.000000E+00    3.108624E-14    1.000000E+30         l    9.00000E+100\n          2  parab.f_xy    i   0.000000E+00    5.963000E-01    1.000000E+30              9.00000E+100\n          3  parab.f_xy    i   0.000000E+00    1.448300E+00    1.000000E+30              9.00000E+100\n          4  parab.f_xy    i   0.000000E+00    2.300300E+00    1.000000E+30              9.00000E+100\n          5  parab.f_xy    i   0.000000E+00    3.152300E+00    1.000000E+30              9.00000E+100\n          6  parab.f_xy    i   0.000000E+00    4.004300E+00    1.000000E+30              9.00000E+100\n\n--------------------------------------------------------------------------------\n\n",
      "submitted": "2021-04-16T01:35:33.133684"
     },
     "output_type": "display_data"
    }
   ],
   "source": [
    "%%px\n",
    "\n",
    "import numpy as np\n",
    "import openmdao.api as om\n",
    "\n",
    "from openmdao.test_suite.components.paraboloid_distributed import DistParabFeature\n",
    "\n",
    "size = 7\n",
    "\n",
    "prob = om.Problem()\n",
    "model = prob.model\n",
    "\n",
    "ivc = om.IndepVarComp()\n",
    "ivc.add_output('x', np.ones((size, )))\n",
    "ivc.add_output('y', -1.42 * np.ones((size, )))\n",
    "ivc.add_output('offset', -3.0 + 0.6 * np.arange(size))\n",
    "\n",
    "model.add_subsystem('p', ivc, promotes=['*'])\n",
    "model.add_subsystem(\"parab\", DistParabFeature(arr_size=size),\n",
    "                    promotes=['*'])\n",
    "model.add_subsystem('sum', om.ExecComp('f_sum = sum(f_xy)',\n",
    "                                       f_sum=np.ones(1),\n",
    "                                       f_xy=np.ones(size)),\n",
    "                    promotes=['*'])\n",
    "\n",
    "model.add_design_var('x', lower=-50.0, upper=50.0)\n",
    "model.add_constraint('f_xy', lower=0.0)\n",
    "model.add_objective('f_sum', index=-1)\n",
    "\n",
    "prob.driver = om.pyOptSparseDriver(optimizer='SLSQP')\n",
    "prob.setup(force_alloc_complex=True)\n",
    "\n",
    "prob.run_driver()"
   ]
  },
  {
   "cell_type": "code",
   "execution_count": 11,
   "metadata": {},
   "outputs": [
    {
     "name": "stdout",
     "output_type": "stream",
     "text": [
      "[stdout:0] \n",
      "[2.65752672 2.60433212 2.51005989 1.91021257 1.3100763  0.70992863\n",
      " 0.10978096]\n",
      "[stdout:1] \n",
      "[2.65752672 2.60433212 2.51005989 1.91021257 1.3100763  0.70992863\n",
      " 0.10978096]\n"
     ]
    }
   ],
   "source": [
    "%%px\n",
    "\n",
    "desvar = prob.get_val('p.x', get_remote=True)\n",
    "obj = prob.get_val('f_sum', get_remote=True)\n",
    "\n",
    "print(desvar)"
   ]
  },
  {
   "cell_type": "code",
   "execution_count": 12,
   "metadata": {},
   "outputs": [
    {
     "name": "stdout",
     "output_type": "stream",
     "text": [
      "[stdout:0] [11.50150011]\n",
      "[stdout:1] [11.50150011]\n"
     ]
    }
   ],
   "source": [
    "%%px\n",
    "\n",
    "print(obj)"
   ]
  },
  {
   "cell_type": "code",
   "execution_count": 13,
   "metadata": {
    "tags": [
     "remove-input",
     "remove-output"
    ]
   },
   "outputs": [
    {
     "data": {
      "text/plain": [
       "\u001B[0;31mOut[0:102]: \u001B[0m2.0289233637542958e-10"
      ]
     },
     "metadata": {
      "after": [],
      "completed": "2021-04-16T01:35:55.094790",
      "data": {},
      "engine_id": 0,
      "engine_uuid": "27690296-437506899b7044052b7c5b20",
      "error": null,
      "execute_input": "\nfrom openmdao.utils.assert_utils import assert_near_equal\n\nassert_near_equal(prob.get_val('p.x'), np.array([2.65752672, 2.60433212, 2.51005989, 1.91021257, 1.3100763,  0.70992863, 0.10978096]), 1e-6 )\nassert_near_equal(prob.get_val('f_sum'),11.50150011, 1e-6 )\n",
      "execute_result": {
       "data": {
        "text/plain": "2.0289233637542958e-10"
       },
       "execution_count": 102,
       "metadata": {}
      },
      "follow": [],
      "msg_id": "ac05289d-086935ab700771710b1c7f0e_7",
      "outputs": [],
      "received": "2021-04-16T01:35:55.097521",
      "started": "2021-04-16T01:35:55.089258",
      "status": "ok",
      "stderr": "",
      "stdout": "",
      "submitted": "2021-04-16T01:35:55.086306"
     },
     "output_type": "display_data"
    },
    {
     "data": {
      "text/plain": [
       "\u001B[0;31mOut[1:102]: \u001B[0m2.0289233637542958e-10"
      ]
     },
     "metadata": {
      "after": [],
      "completed": "2021-04-16T01:35:55.095021",
      "data": {},
      "engine_id": 1,
      "engine_uuid": "2ad50836-806cbefaca9252c955035934",
      "error": null,
      "execute_input": "\nfrom openmdao.utils.assert_utils import assert_near_equal\n\nassert_near_equal(prob.get_val('p.x'), np.array([2.65752672, 2.60433212, 2.51005989, 1.91021257, 1.3100763,  0.70992863, 0.10978096]), 1e-6 )\nassert_near_equal(prob.get_val('f_sum'),11.50150011, 1e-6 )\n",
      "execute_result": {
       "data": {
        "text/plain": "2.0289233637542958e-10"
       },
       "execution_count": 102,
       "metadata": {}
      },
      "follow": [],
      "msg_id": "ac05289d-086935ab700771710b1c7f0e_8",
      "outputs": [],
      "received": "2021-04-16T01:35:55.098645",
      "started": "2021-04-16T01:35:55.089571",
      "status": "ok",
      "stderr": "",
      "stdout": "",
      "submitted": "2021-04-16T01:35:55.086662"
     },
     "output_type": "display_data"
    }
   ],
   "source": [
    "%%px\n",
    "\n",
    "from openmdao.utils.assert_utils import assert_near_equal\n",
    "\n",
    "assert_near_equal(prob.get_val('p.x'), np.array([2.65752672, 2.60433212, 2.51005989, 1.91021257, 1.3100763,  0.70992863, 0.10978096]), 1e-6 )\n",
    "assert_near_equal(prob.get_val('f_sum'),11.50150011, 1e-6 )"
   ]
  },
  {
   "cell_type": "code",
   "execution_count": null,
   "outputs": [],
   "source": [],
   "metadata": {
    "collapsed": false,
    "pycharm": {
     "name": "#%%\n"
    }
   }
  },
  {
   "cell_type": "code",
   "execution_count": null,
   "metadata": {},
   "outputs": [],
   "source": []
  }
 ],
 "metadata": {
  "celltoolbar": "Tags",
  "kernelspec": {
   "display_name": "Python 3",
   "language": "python",
   "name": "python3"
  },
  "language_info": {
   "codemirror_mode": {
    "name": "ipython",
    "version": 3
   },
   "file_extension": ".py",
   "mimetype": "text/x-python",
   "name": "python",
   "nbconvert_exporter": "python",
   "pygments_lexer": "ipython3",
   "version": "3.8.5"
  }
 },
 "nbformat": 4,
 "nbformat_minor": 4
}