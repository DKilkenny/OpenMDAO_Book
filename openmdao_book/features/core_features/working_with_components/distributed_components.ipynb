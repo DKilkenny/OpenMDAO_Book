{
 "cells": [
  {
   "cell_type": "code",
   "execution_count": 1,
   "metadata": {
    "tags": [
     "remove-input",
     "active-ipynb",
     "remove-output"
    ]
   },
   "outputs": [
    {
     "name": "stdout",
     "output_type": "stream",
     "text": [
      "Populating the interactive namespace from numpy and matplotlib\n"
     ]
    }
   ],
   "source": [
    "%pylab inline\n",
    "from ipyparallel import Client, error\n",
    "cluster=Client(profile=\"mpi\") \n",
    "view=cluster[:]\n",
    "view.block=True\n",
    "\n",
    "try:\n",
    "    import openmdao.api as om\n",
    "except ImportError:\n",
    "    !python -m pip install openmdao[notebooks]\n",
    "    import openmdao.api as om"
   ]
  },
  {
   "cell_type": "markdown",
   "metadata": {},
   "source": [
    "# Distributed Components\n",
    "\n",
    "At times when you need to perform a computation using large input arrays, you may want to perform that computation in multiple processes, where each process operates on some subset of the input values. This may be done purely for performance reasons, or it may be necessary because the entire input will not fit in the memory of a single machine. In any case, this can be accomplished in OpenMDAO using a distributed component. A distributed component is a component that operates on distributed variables. A variable is distributed if each process contains only a part of the whole variable.\n",
    "\n",
    "We’ve already seen that by using :ref:`src_indices <connect_src_indices>` we can connect an input to only a subset of an output variable. By giving different values for src_indices in each MPI process, we can distribute computations on a distributed output across the processes.\n",
    "\n",
    "You tell the framework that a Component is a distributed component by setting its `distributed` option to True:\n",
    "\n",
    "## Component Options"
   ]
  },
  {
   "cell_type": "code",
   "execution_count": 2,
   "metadata": {
    "tags": [
     "remove-input"
    ]
   },
   "outputs": [
    {
     "data": {
      "text/html": [
       "<table>\n",
       "<thead>\n",
       "<tr><th>Option            </th><th>Default  </th><th>Acceptable Values  </th><th>Acceptable Types  </th><th>Description                                                                        </th></tr>\n",
       "</thead>\n",
       "<tbody>\n",
       "<tr><td>assembled_jac_type</td><td>csc      </td><td>[&#x27;csc&#x27;, &#x27;dense&#x27;]   </td><td>N/A               </td><td>Linear solver(s) in this group, if using an assembled jacobian, will use this type.</td></tr>\n",
       "<tr><td>distributed       </td><td>False    </td><td>[True, False]      </td><td>[&#x27;bool&#x27;]          </td><td>True if the component has variables that are distributed across multiple processes.</td></tr>\n",
       "</tbody>\n",
       "</table>"
      ],
      "text/plain": [
       "<IPython.core.display.HTML object>"
      ]
     },
     "metadata": {},
     "output_type": "display_data"
    }
   ],
   "source": [
    "om.show_options_table(\"openmdao.core.component.Component\")"
   ]
  },
  {
   "cell_type": "markdown",
   "metadata": {},
   "source": [
    "```{note}\n",
    "If a Component is distributed then all of its outputs are distributed.\n",
    "```\n",
    "\n",
    "## Distributed Component Example\n",
    "\n",
    "The following example shows how to create a distributed component, *DistribComp*, that distributes its computation evenly across the available processes. A second component, *Summer*, sums the values from the distributed component into a scalar output value.\n",
    "\n",
    "These components can found in the OpenMDAO test suite:"
   ]
  },
  {
   "cell_type": "code",
   "execution_count": 2,
   "metadata": {},
   "outputs": [],
   "source": [
    "class DistribComp(om.ExplicitComponent):\n",
    "    \"\"\"Simple Distributed Component.\"\"\"\n",
    "\n",
    "    def initialize(self):\n",
    "        self.options['distributed'] = True\n",
    "\n",
    "        self.options.declare('size', types=int, default=1,\n",
    "                             desc=\"Size of input and output vectors.\")\n",
    "\n",
    "    def setup(self):\n",
    "        comm = self.comm\n",
    "        rank = comm.rank\n",
    "\n",
    "        size = self.options['size']\n",
    "\n",
    "        # if comm.size is 2 and size is 15, this results in\n",
    "        # 8 entries for proc 0 and 7 entries for proc 1\n",
    "        sizes, offsets = evenly_distrib_idxs(comm.size, size)\n",
    "        mysize = sizes[rank]\n",
    "        start = offsets[rank]\n",
    "        end = start + mysize\n",
    "\n",
    "        self.add_input('invec', np.ones(mysize, float),\n",
    "                       src_indices=np.arange(start, end, dtype=int))\n",
    "\n",
    "        self.add_output('outvec', np.ones(mysize, float))\n",
    "\n",
    "    def compute(self, inputs, outputs):\n",
    "        if self.comm.rank == 0:\n",
    "            outputs['outvec'] = inputs['invec'] * 2.0\n",
    "        else:\n",
    "            outputs['outvec'] = inputs['invec'] * -3.0"
   ]
  },
  {
   "cell_type": "markdown",
   "metadata": {},
   "source": [
    "```{note}\n",
    "In this example component, we have explicitly specified *src_indices* when adding the input. This is not really necessary in this case, because it replicates the default behavior. If no *src_indices* are specified, OpenMDAO will assume an offset that is the sum of the sizes in all ranks up to the current rank and a range equal to the specified size (the size is given per the usual arguments to `add_input`).\n",
    "```"
   ]
  },
  {
   "cell_type": "code",
   "execution_count": 3,
   "metadata": {},
   "outputs": [],
   "source": [
    "class Summer(om.ExplicitComponent):\n",
    "    \"\"\"Sums an input array.\"\"\"\n",
    "\n",
    "    def initialize(self):\n",
    "        self.options.declare('size', types=int, default=1,\n",
    "                             desc=\"Size of input and output vectors.\")\n",
    "\n",
    "    def setup(self):\n",
    "        self.add_input('invec', np.ones(self.options['size'], float))\n",
    "\n",
    "        self.add_output('sum', 0.0, shape=1)\n",
    "\n",
    "    def compute(self, inputs, outputs):\n",
    "        outputs['sum'] = np.sum(inputs['invec'])"
   ]
  },
  {
   "cell_type": "markdown",
   "metadata": {},
   "source": [
    "```{note}\n",
    "A component that takes a distributed output as input does not need to do anything special as OpenMDAO performs the required MPI operations to make the full value available.\n",
    "```\n",
    "This example is run with two processes and a size of 15:"
   ]
  },
  {
   "cell_type": "code",
   "execution_count": 4,
   "metadata": {},
   "outputs": [
    {
     "name": "stderr",
     "output_type": "stream",
     "text": [
      "[stderr:0] /home/kmoore/Work/OpenMDAO/OpenMDAO/openmdao/core/component.py:522: DeprecationWarning:'C2' <class DistribComp>: Passing `src_indices` as an arg to `add_input` isdeprecated and will become an error in a future release.  Add `src_indices` to a `promotes` or `connect` call instead.\n",
      "[stderr:1] /home/kmoore/Work/OpenMDAO/OpenMDAO/openmdao/core/component.py:522: DeprecationWarning:'C2' <class DistribComp>: Passing `src_indices` as an arg to `add_input` isdeprecated and will become an error in a future release.  Add `src_indices` to a `promotes` or `connect` call instead.\n"
     ]
    },
    {
     "data": {
      "text/plain": [
       "\u001b[0;31mOut[0:8]: \u001b[0m<openmdao.core.problem.Problem at 0x7fdb16ac1eb0>"
      ]
     },
     "metadata": {
      "after": [],
      "completed": "2021-04-06T16:26:35.461705",
      "data": {},
      "engine_id": 0,
      "engine_uuid": "06babc0a-2d53a9ea68eff944d9af90b7",
      "error": null,
      "execute_input": "\nimport numpy as np\nimport openmdao.api as om\nfrom openmdao.test_suite.components.distributed_components import DistribComp, Summer\n\nsize = 15\n\nmodel = om.Group()\n\n# Distributed component \"C2\" requires an IndepVarComp to supply inputs.\nmodel.add_subsystem(\"indep\", om.IndepVarComp('x', np.zeros(size)))\nmodel.add_subsystem(\"C2\", DistribComp(size=size))\nmodel.add_subsystem(\"C3\", Summer(size=size))\n\nmodel.connect('indep.x', 'C2.invec')\nmodel.connect('C2.outvec', 'C3.invec')\n\nprob = om.Problem(model)\nprob.setup()\n",
      "execute_result": {
       "data": {
        "text/plain": "<openmdao.core.problem.Problem at 0x7fdb16ac1eb0>"
       },
       "execution_count": 8,
       "metadata": {}
      },
      "follow": [],
      "msg_id": "9491a921-3403713de10f29a9b9ab42fd_1",
      "outputs": [],
      "received": "2021-04-06T16:26:35.463673",
      "started": "2021-04-06T16:26:35.456389",
      "status": "ok",
      "stderr": "/home/kmoore/Work/OpenMDAO/OpenMDAO/openmdao/core/component.py:522: DeprecationWarning:'C2' <class DistribComp>: Passing `src_indices` as an arg to `add_input` isdeprecated and will become an error in a future release.  Add `src_indices` to a `promotes` or `connect` call instead.\n",
      "stdout": "",
      "submitted": "2021-04-06T16:26:35.454793"
     },
     "output_type": "display_data"
    },
    {
     "data": {
      "text/plain": [
       "\u001b[0;31mOut[1:8]: \u001b[0m<openmdao.core.problem.Problem at 0x7f4f5599fd00>"
      ]
     },
     "metadata": {
      "after": [],
      "completed": "2021-04-06T16:26:35.461655",
      "data": {},
      "engine_id": 1,
      "engine_uuid": "9d7124ea-3947cb4c2e7ff8312cb4ee1b",
      "error": null,
      "execute_input": "\nimport numpy as np\nimport openmdao.api as om\nfrom openmdao.test_suite.components.distributed_components import DistribComp, Summer\n\nsize = 15\n\nmodel = om.Group()\n\n# Distributed component \"C2\" requires an IndepVarComp to supply inputs.\nmodel.add_subsystem(\"indep\", om.IndepVarComp('x', np.zeros(size)))\nmodel.add_subsystem(\"C2\", DistribComp(size=size))\nmodel.add_subsystem(\"C3\", Summer(size=size))\n\nmodel.connect('indep.x', 'C2.invec')\nmodel.connect('C2.outvec', 'C3.invec')\n\nprob = om.Problem(model)\nprob.setup()\n",
      "execute_result": {
       "data": {
        "text/plain": "<openmdao.core.problem.Problem at 0x7f4f5599fd00>"
       },
       "execution_count": 8,
       "metadata": {}
      },
      "follow": [],
      "msg_id": "9491a921-3403713de10f29a9b9ab42fd_2",
      "outputs": [],
      "received": "2021-04-06T16:26:35.462957",
      "started": "2021-04-06T16:26:35.456550",
      "status": "ok",
      "stderr": "/home/kmoore/Work/OpenMDAO/OpenMDAO/openmdao/core/component.py:522: DeprecationWarning:'C2' <class DistribComp>: Passing `src_indices` as an arg to `add_input` isdeprecated and will become an error in a future release.  Add `src_indices` to a `promotes` or `connect` call instead.\n",
      "stdout": "",
      "submitted": "2021-04-06T16:26:35.454984"
     },
     "output_type": "display_data"
    }
   ],
   "source": [
    "%%px\n",
    "\n",
    "import numpy as np\n",
    "import openmdao.api as om\n",
    "from openmdao.test_suite.components.distributed_components import DistribComp, Summer\n",
    "\n",
    "size = 15\n",
    "\n",
    "model = om.Group()\n",
    "\n",
    "# Distributed component \"C2\" requires an IndepVarComp to supply inputs.\n",
    "model.add_subsystem(\"indep\", om.IndepVarComp('x', np.zeros(size)))\n",
    "model.add_subsystem(\"C2\", DistribComp(size=size))\n",
    "model.add_subsystem(\"C3\", Summer(size=size))\n",
    "\n",
    "model.connect('indep.x', 'C2.invec')\n",
    "model.connect('C2.outvec', 'C3.invec')\n",
    "\n",
    "prob = om.Problem(model)\n",
    "prob.setup()"
   ]
  },
  {
   "cell_type": "code",
   "execution_count": 5,
   "metadata": {},
   "outputs": [
    {
     "name": "stdout",
     "output_type": "stream",
     "text": [
      "[stdout:0] [1. 1. 1. 1. 1. 1. 1. 1.]\n",
      "[stdout:1] [1. 1. 1. 1. 1. 1. 1.]\n"
     ]
    }
   ],
   "source": [
    "%%px\n",
    "\n",
    "prob.set_val('indep.x', np.ones(size))\n",
    "prob.run_model()\n",
    "\n",
    "print(prob.get_val('C2.invec'))"
   ]
  },
  {
   "cell_type": "code",
   "execution_count": 6,
   "metadata": {},
   "outputs": [
    {
     "name": "stdout",
     "output_type": "stream",
     "text": [
      "[stdout:0] [2. 2. 2. 2. 2. 2. 2. 2.]\n",
      "[stdout:1] [-3. -3. -3. -3. -3. -3. -3.]\n"
     ]
    }
   ],
   "source": [
    "%%px\n",
    "\n",
    "print(prob.get_val('C2.outvec'))"
   ]
  },
  {
   "cell_type": "code",
   "execution_count": 7,
   "metadata": {},
   "outputs": [
    {
     "name": "stdout",
     "output_type": "stream",
     "text": [
      "[stdout:0] [-5.]\n",
      "[stdout:1] [-5.]\n"
     ]
    }
   ],
   "source": [
    "%%px\n",
    "\n",
    "print(prob.get_val('C3.sum'))"
   ]
  },
  {
   "cell_type": "code",
   "execution_count": 8,
   "metadata": {
    "tags": [
     "remove-output",
     "remove-input"
    ]
   },
   "outputs": [
    {
     "data": {
      "text/plain": [
       "\u001b[0;31mOut[0:12]: \u001b[0m0.0"
      ]
     },
     "metadata": {
      "after": [],
      "completed": "2021-04-06T16:26:45.328174",
      "data": {},
      "engine_id": 0,
      "engine_uuid": "06babc0a-2d53a9ea68eff944d9af90b7",
      "error": null,
      "execute_input": "\nfrom openmdao.utils.assert_utils import assert_near_equal\n\nassert_near_equal(prob.get_val('C2.invec'),\n                  np.ones((8,)) if model.comm.rank == 0 else np.ones((7,)))\nassert_near_equal(prob.get_val('C2.outvec'),\n                  2*np.ones((8,)) if model.comm.rank == 0 else -3*np.ones((7,)))\nassert_near_equal(prob.get_val('C3.sum'), -5.)\n",
      "execute_result": {
       "data": {
        "text/plain": "0.0"
       },
       "execution_count": 12,
       "metadata": {}
      },
      "follow": [],
      "msg_id": "9491a921-3403713de10f29a9b9ab42fd_9",
      "outputs": [],
      "received": "2021-04-06T16:26:45.329384",
      "started": "2021-04-06T16:26:45.323373",
      "status": "ok",
      "stderr": "",
      "stdout": "",
      "submitted": "2021-04-06T16:26:45.321112"
     },
     "output_type": "display_data"
    },
    {
     "data": {
      "text/plain": [
       "\u001b[0;31mOut[1:12]: \u001b[0m0.0"
      ]
     },
     "metadata": {
      "after": [],
      "completed": "2021-04-06T16:26:45.332047",
      "data": {},
      "engine_id": 1,
      "engine_uuid": "9d7124ea-3947cb4c2e7ff8312cb4ee1b",
      "error": null,
      "execute_input": "\nfrom openmdao.utils.assert_utils import assert_near_equal\n\nassert_near_equal(prob.get_val('C2.invec'),\n                  np.ones((8,)) if model.comm.rank == 0 else np.ones((7,)))\nassert_near_equal(prob.get_val('C2.outvec'),\n                  2*np.ones((8,)) if model.comm.rank == 0 else -3*np.ones((7,)))\nassert_near_equal(prob.get_val('C3.sum'), -5.)\n",
      "execute_result": {
       "data": {
        "text/plain": "0.0"
       },
       "execution_count": 12,
       "metadata": {}
      },
      "follow": [],
      "msg_id": "9491a921-3403713de10f29a9b9ab42fd_10",
      "outputs": [],
      "received": "2021-04-06T16:26:45.333506",
      "started": "2021-04-06T16:26:45.323372",
      "status": "ok",
      "stderr": "",
      "stdout": "",
      "submitted": "2021-04-06T16:26:45.321228"
     },
     "output_type": "display_data"
    }
   ],
   "source": [
    "%%px\n",
    "\n",
    "from openmdao.utils.assert_utils import assert_near_equal\n",
    "\n",
    "assert_near_equal(prob.get_val('C2.invec'),\n",
    "                  np.ones((8,)) if model.comm.rank == 0 else np.ones((7,)))\n",
    "assert_near_equal(prob.get_val('C2.outvec'),\n",
    "                  2*np.ones((8,)) if model.comm.rank == 0 else -3*np.ones((7,)))\n",
    "assert_near_equal(prob.get_val('C3.sum'), -5.)"
   ]
  },
  {
   "cell_type": "markdown",
   "metadata": {},
   "source": [
    "```{note}\n",
    "In this example, we introduce a new component called an :ref:`IndepVarComp<comp-type-1-indepvarcomp>`. If you used OpenMDAO prior to version 3.2, then you are familiar with this component. It is used to define an independent variable.\n",
    "\n",
    "You usually do not have to define these because OpenMDAO defines and uses them automatically for all unconnected inputs in your model. However, when we define a distributed input, we often use the “src_indices” attribute to determine the allocation of that input to the processors that the component sees. For some sets of these indices, it isn’t possible to easily determine the full size of the corresponding independent variable, and the *IndepVarComp* cannot be created automatically. So, for unconnected inputs on a distributed component, you must manually create one, as we did in this example.\n",
    "```\n",
    "\n",
    "## Distributed Component with Derivatives\n",
    "\n",
    "Derivatives can be computed for distributed components as shown in the following variation on the example. Also, in this version, we have taken advantage of the automatic determination of *src_indices*."
   ]
  },
  {
   "cell_type": "code",
   "execution_count": 9,
   "metadata": {},
   "outputs": [],
   "source": [
    "class DistribCompDerivs(om.ExplicitComponent):\n",
    "    \"\"\"Simple Distributed Component with Derivatives.\"\"\"\n",
    "\n",
    "    def initialize(self):\n",
    "        self.options['distributed'] = True\n",
    "\n",
    "        self.options.declare('size', types=int, default=1,\n",
    "                             desc=\"Size of input and output vectors.\")\n",
    "\n",
    "    def setup(self):\n",
    "        comm = self.comm\n",
    "        rank = comm.rank\n",
    "\n",
    "        size = self.options['size']\n",
    "\n",
    "        # if comm.size is 2 and size is 15, this results in\n",
    "        # 8 entries for proc 0 and 7 entries for proc 1\n",
    "        sizes, _ = evenly_distrib_idxs(comm.size, size)\n",
    "        self.mysize = mysize = sizes[rank]\n",
    "\n",
    "        # don't set src_indices on the input, just use default behavior\n",
    "        self.add_input('invec', np.ones(mysize, float))\n",
    "        self.add_output('outvec', np.ones(mysize, float))\n",
    "\n",
    "    def setup_partials(self):\n",
    "        # declare partial derivatives (diagonal of mysize)\n",
    "        self.declare_partials('outvec', 'invec',\n",
    "                              rows=np.arange(0, self.mysize),\n",
    "                              cols=np.arange(0, self.mysize))\n",
    "\n",
    "    def compute(self, inputs, outputs):\n",
    "        if self.comm.rank == 0:\n",
    "            outputs['outvec'] = inputs['invec'] * 2.0\n",
    "        else:\n",
    "            outputs['outvec'] = inputs['invec'] * -3.0\n",
    "\n",
    "    def compute_partials(self, inputs, J):\n",
    "        # get mysize from the input vector for this process\n",
    "        mysize = inputs['invec'].size\n",
    "\n",
    "        if self.comm.rank == 0:\n",
    "            J['outvec', 'invec'] = np.ones((mysize,)) * 2.0\n",
    "        else:\n",
    "            J['outvec', 'invec'] = np.ones((mysize,)) * -3.0"
   ]
  },
  {
   "cell_type": "code",
   "execution_count": 10,
   "metadata": {},
   "outputs": [],
   "source": [
    "class SummerDerivs(om.ExplicitComponent):\n",
    "    \"\"\"Sums an input array.\"\"\"\n",
    "\n",
    "    def initialize(self):\n",
    "        self.options.declare('size', types=int, default=1,\n",
    "                             desc=\"Size of input and output vectors.\")\n",
    "\n",
    "    def setup(self):\n",
    "        self.add_input('invec', np.ones(self.options['size'], float))\n",
    "\n",
    "        self.add_output('sum', 0.0, shape=1)\n",
    "\n",
    "    def setup_partials(self):\n",
    "        # the derivative is constant\n",
    "        self.declare_partials('sum', 'invec', val=1.)\n",
    "\n",
    "    def compute(self, inputs, outputs):\n",
    "        outputs['sum'] = np.sum(inputs['invec'])"
   ]
  },
  {
   "cell_type": "markdown",
   "metadata": {},
   "source": [
    "This example is again run with two processes and a `size` of 15. We can use :ref:`assert_check_partials<feature_unit_testing_partials>` to verify that the partial derivatives are calculated correctly."
   ]
  },
  {
   "cell_type": "code",
   "execution_count": 11,
   "metadata": {},
   "outputs": [
    {
     "name": "stderr",
     "output_type": "stream",
     "text": [
      "[stderr:0] /home/kmoore/Work/OpenMDAO/OpenMDAO/openmdao/core/component.py:913: UserWarning:'C2' <class DistribCompDerivs>: Component is distributed but input 'C2.invec' was added without src_indices. Setting src_indices to np.arange(0, 8, dtype=INT_DTYPE).reshape((8,)).\n",
      "[stderr:1] /home/kmoore/Work/OpenMDAO/OpenMDAO/openmdao/core/component.py:913: UserWarning:'C2' <class DistribCompDerivs>: Component is distributed but input 'C2.invec' was added without src_indices. Setting src_indices to np.arange(8, 15, dtype=INT_DTYPE).reshape((7,)).\n"
     ]
    },
    {
     "data": {
      "text/plain": [
       "\u001b[0;31mOut[0:13]: \u001b[0m<openmdao.core.problem.Problem at 0x7fdb169ac5e0>"
      ]
     },
     "metadata": {
      "after": [],
      "completed": "2021-04-06T16:30:05.420130",
      "data": {},
      "engine_id": 0,
      "engine_uuid": "06babc0a-2d53a9ea68eff944d9af90b7",
      "error": null,
      "execute_input": "\nimport numpy as np\nimport openmdao.api as om\nfrom openmdao.test_suite.components.distributed_components import DistribCompDerivs, SummerDerivs\nfrom openmdao.utils.assert_utils import assert_check_partials\n\nsize = 15\n\nmodel = om.Group()\n\n# Distributed component \"C2\" requires an IndepVarComp to supply inputs.\nmodel.add_subsystem(\"indep\", om.IndepVarComp('x', np.zeros(size)))\nmodel.add_subsystem(\"C2\", DistribCompDerivs(size=size))\nmodel.add_subsystem(\"C3\", SummerDerivs(size=size))\n\nmodel.connect('indep.x', 'C2.invec')\nmodel.connect('C2.outvec', 'C3.invec')\n\nprob = om.Problem(model)\nprob.setup()\n",
      "execute_result": {
       "data": {
        "text/plain": "<openmdao.core.problem.Problem at 0x7fdb169ac5e0>"
       },
       "execution_count": 13,
       "metadata": {}
      },
      "follow": [],
      "msg_id": "9491a921-3403713de10f29a9b9ab42fd_11",
      "outputs": [],
      "received": "2021-04-06T16:30:05.421559",
      "started": "2021-04-06T16:30:05.411592",
      "status": "ok",
      "stderr": "/home/kmoore/Work/OpenMDAO/OpenMDAO/openmdao/core/component.py:913: UserWarning:'C2' <class DistribCompDerivs>: Component is distributed but input 'C2.invec' was added without src_indices. Setting src_indices to np.arange(0, 8, dtype=INT_DTYPE).reshape((8,)).\n",
      "stdout": "",
      "submitted": "2021-04-06T16:30:05.410170"
     },
     "output_type": "display_data"
    },
    {
     "data": {
      "text/plain": [
       "\u001b[0;31mOut[1:13]: \u001b[0m<openmdao.core.problem.Problem at 0x7f4f559832b0>"
      ]
     },
     "metadata": {
      "after": [],
      "completed": "2021-04-06T16:30:05.419894",
      "data": {},
      "engine_id": 1,
      "engine_uuid": "9d7124ea-3947cb4c2e7ff8312cb4ee1b",
      "error": null,
      "execute_input": "\nimport numpy as np\nimport openmdao.api as om\nfrom openmdao.test_suite.components.distributed_components import DistribCompDerivs, SummerDerivs\nfrom openmdao.utils.assert_utils import assert_check_partials\n\nsize = 15\n\nmodel = om.Group()\n\n# Distributed component \"C2\" requires an IndepVarComp to supply inputs.\nmodel.add_subsystem(\"indep\", om.IndepVarComp('x', np.zeros(size)))\nmodel.add_subsystem(\"C2\", DistribCompDerivs(size=size))\nmodel.add_subsystem(\"C3\", SummerDerivs(size=size))\n\nmodel.connect('indep.x', 'C2.invec')\nmodel.connect('C2.outvec', 'C3.invec')\n\nprob = om.Problem(model)\nprob.setup()\n",
      "execute_result": {
       "data": {
        "text/plain": "<openmdao.core.problem.Problem at 0x7f4f559832b0>"
       },
       "execution_count": 13,
       "metadata": {}
      },
      "follow": [],
      "msg_id": "9491a921-3403713de10f29a9b9ab42fd_12",
      "outputs": [],
      "received": "2021-04-06T16:30:05.421022",
      "started": "2021-04-06T16:30:05.414047",
      "status": "ok",
      "stderr": "/home/kmoore/Work/OpenMDAO/OpenMDAO/openmdao/core/component.py:913: UserWarning:'C2' <class DistribCompDerivs>: Component is distributed but input 'C2.invec' was added without src_indices. Setting src_indices to np.arange(8, 15, dtype=INT_DTYPE).reshape((7,)).\n",
      "stdout": "",
      "submitted": "2021-04-06T16:30:05.410287"
     },
     "output_type": "display_data"
    }
   ],
   "source": [
    "%%px\n",
    "\n",
    "import numpy as np\n",
    "import openmdao.api as om\n",
    "from openmdao.test_suite.components.distributed_components import DistribCompDerivs, SummerDerivs\n",
    "from openmdao.utils.assert_utils import assert_check_partials\n",
    "\n",
    "size = 15\n",
    "\n",
    "model = om.Group()\n",
    "\n",
    "# Distributed component \"C2\" requires an IndepVarComp to supply inputs.\n",
    "model.add_subsystem(\"indep\", om.IndepVarComp('x', np.zeros(size)))\n",
    "model.add_subsystem(\"C2\", DistribCompDerivs(size=size))\n",
    "model.add_subsystem(\"C3\", SummerDerivs(size=size))\n",
    "\n",
    "model.connect('indep.x', 'C2.invec')\n",
    "model.connect('C2.outvec', 'C3.invec')\n",
    "\n",
    "prob = om.Problem(model)\n",
    "prob.setup()"
   ]
  },
  {
   "cell_type": "code",
   "execution_count": 12,
   "metadata": {},
   "outputs": [
    {
     "name": "stdout",
     "output_type": "stream",
     "text": [
      "[stdout:0] [1. 1. 1. 1. 1. 1. 1. 1.]\n",
      "[stdout:1] [1. 1. 1. 1. 1. 1. 1.]\n"
     ]
    }
   ],
   "source": [
    "%%px\n",
    "\n",
    "prob.set_val('indep.x', np.ones(size))\n",
    "prob.run_model()\n",
    "\n",
    "print(prob.get_val('C2.invec'))"
   ]
  },
  {
   "cell_type": "code",
   "execution_count": 13,
   "metadata": {},
   "outputs": [
    {
     "name": "stdout",
     "output_type": "stream",
     "text": [
      "[stdout:0] [2. 2. 2. 2. 2. 2. 2. 2.]\n",
      "[stdout:1] [-3. -3. -3. -3. -3. -3. -3.]\n"
     ]
    }
   ],
   "source": [
    "%%px\n",
    "\n",
    "print(prob.get_val('C2.outvec'))"
   ]
  },
  {
   "cell_type": "code",
   "execution_count": 14,
   "metadata": {},
   "outputs": [
    {
     "name": "stdout",
     "output_type": "stream",
     "text": [
      "[stdout:0] [-5.]\n",
      "[stdout:1] [-5.]\n"
     ]
    }
   ],
   "source": [
    "%%px\n",
    "\n",
    "print(prob.get_val('C3.sum'))"
   ]
  },
  {
   "cell_type": "code",
   "execution_count": 15,
   "metadata": {},
   "outputs": [
    {
     "name": "stdout",
     "output_type": "stream",
     "text": [
      "[stdout:0] \n",
      "---------------------------------\n",
      "Component: DistribCompDerivs 'C2'\n",
      "---------------------------------\n",
      "  C2: 'outvec' wrt 'invec'\n",
      "    Analytic Magnitude : 5.656854e+00\n",
      "          Fd Magnitude : 5.656854e+00 (fd:forward)\n",
      "    Absolute Error (Jan - Jfd) : 4.653704e-10\n",
      "\n",
      "    Relative Error (Jan - Jfd) / Jfd : 8.226664e-11\n",
      "    MPI Rank 0\n",
      "\n",
      "    Raw Analytic Derivative (Jfor)\n",
      "[[2. 0. 0. 0. 0. 0. 0. 0.]\n",
      " [0. 2. 0. 0. 0. 0. 0. 0.]\n",
      " [0. 0. 2. 0. 0. 0. 0. 0.]\n",
      " [0. 0. 0. 2. 0. 0. 0. 0.]\n",
      " [0. 0. 0. 0. 2. 0. 0. 0.]\n",
      " [0. 0. 0. 0. 0. 2. 0. 0.]\n",
      " [0. 0. 0. 0. 0. 0. 2. 0.]\n",
      " [0. 0. 0. 0. 0. 0. 0. 2.]]\n",
      "\n",
      "    Raw FD Derivative (Jfd)\n",
      "[[2. 0. 0. 0. 0. 0. 0. 0.]\n",
      " [0. 2. 0. 0. 0. 0. 0. 0.]\n",
      " [0. 0. 2. 0. 0. 0. 0. 0.]\n",
      " [0. 0. 0. 2. 0. 0. 0. 0.]\n",
      " [0. 0. 0. 0. 2. 0. 0. 0.]\n",
      " [0. 0. 0. 0. 0. 2. 0. 0.]\n",
      " [0. 0. 0. 0. 0. 0. 2. 0.]\n",
      " [0. 0. 0. 0. 0. 0. 0. 2.]]\n",
      "\n",
      " - - - - - - - - - - - - - - - - - - - - - - - - - - - - - -\n",
      "----------------------------\n",
      "Component: SummerDerivs 'C3'\n",
      "----------------------------\n",
      "  C3: 'sum' wrt 'invec'\n",
      "    Analytic Magnitude : 3.872983e+00\n",
      "          Fd Magnitude : 3.872983e+00 (fd:forward)\n",
      "    Absolute Error (Jan - Jfd) : 3.265675e-09\n",
      "\n",
      "    Relative Error (Jan - Jfd) / Jfd : 8.431936e-10\n",
      "    MPI Rank 0\n",
      "\n",
      "    Raw Analytic Derivative (Jfor)\n",
      "[[1. 1. 1. 1. 1. 1. 1. 1. 1. 1. 1. 1. 1. 1. 1.]]\n",
      "\n",
      "    Raw FD Derivative (Jfd)\n",
      "[[1. 1. 1. 1. 1. 1. 1. 1. 1. 1. 1. 1. 1. 1. 1.]]\n",
      "\n",
      " - - - - - - - - - - - - - - - - - - - - - - - - - - - - - -\n",
      "[stdout:1] \n",
      "---------------------------------\n",
      "Component: DistribCompDerivs 'C2'\n",
      "---------------------------------\n",
      "  C2: 'outvec' wrt 'invec'\n",
      "    Analytic Magnitude : 7.937254e+00\n",
      "          Fd Magnitude : 7.937254e+00 (fd:forward)\n",
      "    Absolute Error (Jan - Jfd) : 1.240446e-09\n",
      "\n",
      "    Relative Error (Jan - Jfd) / Jfd : 1.562815e-10\n",
      "    MPI Rank 1\n",
      "\n",
      "    Raw Analytic Derivative (Jfor)\n",
      "[[-3.  0.  0.  0.  0.  0.  0.]\n",
      " [ 0. -3.  0.  0.  0.  0.  0.]\n",
      " [ 0.  0. -3.  0.  0.  0.  0.]\n",
      " [ 0.  0.  0. -3.  0.  0.  0.]\n",
      " [ 0.  0.  0.  0. -3.  0.  0.]\n",
      " [ 0.  0.  0.  0.  0. -3.  0.]\n",
      " [ 0.  0.  0.  0.  0.  0. -3.]]\n",
      "\n",
      "    Raw FD Derivative (Jfd)\n",
      "[[-3.  0.  0.  0.  0.  0.  0.]\n",
      " [ 0. -3.  0.  0.  0.  0.  0.]\n",
      " [ 0.  0. -3.  0.  0.  0.  0.]\n",
      " [ 0.  0.  0. -3.  0.  0.  0.]\n",
      " [ 0.  0.  0.  0. -3.  0.  0.]\n",
      " [ 0.  0.  0.  0.  0. -3.  0.]\n",
      " [ 0.  0.  0.  0.  0.  0. -3.]]\n",
      "\n",
      " - - - - - - - - - - - - - - - - - - - - - - - - - - - - - -\n",
      "----------------------------\n",
      "Component: SummerDerivs 'C3'\n",
      "----------------------------\n",
      "  C3: 'sum' wrt 'invec'\n",
      "    Analytic Magnitude : 3.872983e+00\n",
      "          Fd Magnitude : 3.872983e+00 (fd:forward)\n",
      "    Absolute Error (Jan - Jfd) : 3.265675e-09\n",
      "\n",
      "    Relative Error (Jan - Jfd) / Jfd : 8.431936e-10\n",
      "    MPI Rank 1\n",
      "\n",
      "    Raw Analytic Derivative (Jfor)\n",
      "[[1. 1. 1. 1. 1. 1. 1. 1. 1. 1. 1. 1. 1. 1. 1.]]\n",
      "\n",
      "    Raw FD Derivative (Jfd)\n",
      "[[1. 1. 1. 1. 1. 1. 1. 1. 1. 1. 1. 1. 1. 1. 1.]]\n",
      "\n",
      " - - - - - - - - - - - - - - - - - - - - - - - - - - - - - -\n"
     ]
    }
   ],
   "source": [
    "%%px\n",
    "\n",
    "assert_check_partials(prob.check_partials())"
   ]
  },
  {
   "cell_type": "code",
   "execution_count": 16,
   "metadata": {},
   "outputs": [
    {
     "name": "stdout",
     "output_type": "stream",
     "text": [
      "[stdout:0] \n",
      "[[ 2. -0. -0. -0. -0. -0. -0. -0. -0. -0. -0. -0. -0. -0. -0.]\n",
      " [-0.  2. -0. -0. -0. -0. -0. -0. -0. -0. -0. -0. -0. -0. -0.]\n",
      " [-0. -0.  2. -0. -0. -0. -0. -0. -0. -0. -0. -0. -0. -0. -0.]\n",
      " [-0. -0. -0.  2. -0. -0. -0. -0. -0. -0. -0. -0. -0. -0. -0.]\n",
      " [-0. -0. -0. -0.  2. -0. -0. -0. -0. -0. -0. -0. -0. -0. -0.]\n",
      " [-0. -0. -0. -0. -0.  2. -0. -0. -0. -0. -0. -0. -0. -0. -0.]\n",
      " [-0. -0. -0. -0. -0. -0.  2. -0. -0. -0. -0. -0. -0. -0. -0.]\n",
      " [-0. -0. -0. -0. -0. -0. -0.  2. -0. -0. -0. -0. -0. -0. -0.]\n",
      " [-0. -0. -0. -0. -0. -0. -0. -0. -3. -0. -0. -0. -0. -0. -0.]\n",
      " [-0. -0. -0. -0. -0. -0. -0. -0. -0. -3. -0. -0. -0. -0. -0.]\n",
      " [-0. -0. -0. -0. -0. -0. -0. -0. -0. -0. -3. -0. -0. -0. -0.]\n",
      " [-0. -0. -0. -0. -0. -0. -0. -0. -0. -0. -0. -3. -0. -0. -0.]\n",
      " [-0. -0. -0. -0. -0. -0. -0. -0. -0. -0. -0. -0. -3. -0. -0.]\n",
      " [-0. -0. -0. -0. -0. -0. -0. -0. -0. -0. -0. -0. -0. -3. -0.]\n",
      " [-0. -0. -0. -0. -0. -0. -0. -0. -0. -0. -0. -0. -0. -0. -3.]]\n",
      "[stdout:1] \n",
      "[[ 2. -0. -0. -0. -0. -0. -0. -0. -0. -0. -0. -0. -0. -0. -0.]\n",
      " [-0.  2. -0. -0. -0. -0. -0. -0. -0. -0. -0. -0. -0. -0. -0.]\n",
      " [-0. -0.  2. -0. -0. -0. -0. -0. -0. -0. -0. -0. -0. -0. -0.]\n",
      " [-0. -0. -0.  2. -0. -0. -0. -0. -0. -0. -0. -0. -0. -0. -0.]\n",
      " [-0. -0. -0. -0.  2. -0. -0. -0. -0. -0. -0. -0. -0. -0. -0.]\n",
      " [-0. -0. -0. -0. -0.  2. -0. -0. -0. -0. -0. -0. -0. -0. -0.]\n",
      " [-0. -0. -0. -0. -0. -0.  2. -0. -0. -0. -0. -0. -0. -0. -0.]\n",
      " [-0. -0. -0. -0. -0. -0. -0.  2. -0. -0. -0. -0. -0. -0. -0.]\n",
      " [-0. -0. -0. -0. -0. -0. -0. -0. -3. -0. -0. -0. -0. -0. -0.]\n",
      " [-0. -0. -0. -0. -0. -0. -0. -0. -0. -3. -0. -0. -0. -0. -0.]\n",
      " [-0. -0. -0. -0. -0. -0. -0. -0. -0. -0. -3. -0. -0. -0. -0.]\n",
      " [-0. -0. -0. -0. -0. -0. -0. -0. -0. -0. -0. -3. -0. -0. -0.]\n",
      " [-0. -0. -0. -0. -0. -0. -0. -0. -0. -0. -0. -0. -3. -0. -0.]\n",
      " [-0. -0. -0. -0. -0. -0. -0. -0. -0. -0. -0. -0. -0. -3. -0.]\n",
      " [-0. -0. -0. -0. -0. -0. -0. -0. -0. -0. -0. -0. -0. -0. -3.]]\n"
     ]
    }
   ],
   "source": [
    "%%px\n",
    "\n",
    "J = prob.compute_totals(of=['C2.outvec'], wrt=['indep.x'])\n",
    "print(J[('C2.outvec', 'indep.x')])"
   ]
  },
  {
   "cell_type": "code",
   "execution_count": 19,
   "metadata": {
    "tags": [
     "remove-output",
     "remove-input"
    ]
   },
   "outputs": [
    {
     "data": {
      "text/plain": [
       "\u001b[0;31mOut[0:32]: \u001b[0m0.0"
      ]
     },
     "metadata": {
      "after": [],
      "completed": "2021-04-06T17:04:33.911962",
      "data": {},
      "engine_id": 0,
      "engine_uuid": "06babc0a-2d53a9ea68eff944d9af90b7",
      "error": null,
      "execute_input": "\nassert_near_equal(J[('C2.outvec', 'indep.x')],\n                  np.eye(15)*np.append(2*np.ones(8), -3*np.ones(7)))\n",
      "execute_result": {
       "data": {
        "text/plain": "0.0"
       },
       "execution_count": 32,
       "metadata": {}
      },
      "follow": [],
      "msg_id": "9491a921-3403713de10f29a9b9ab42fd_27",
      "outputs": [],
      "received": "2021-04-06T17:04:33.913175",
      "started": "2021-04-06T17:04:33.909183",
      "status": "ok",
      "stderr": "",
      "stdout": "",
      "submitted": "2021-04-06T17:04:33.907004"
     },
     "output_type": "display_data"
    },
    {
     "data": {
      "text/plain": [
       "\u001b[0;31mOut[1:32]: \u001b[0m0.0"
      ]
     },
     "metadata": {
      "after": [],
      "completed": "2021-04-06T17:04:33.912529",
      "data": {},
      "engine_id": 1,
      "engine_uuid": "9d7124ea-3947cb4c2e7ff8312cb4ee1b",
      "error": null,
      "execute_input": "\nassert_near_equal(J[('C2.outvec', 'indep.x')],\n                  np.eye(15)*np.append(2*np.ones(8), -3*np.ones(7)))\n",
      "execute_result": {
       "data": {
        "text/plain": "0.0"
       },
       "execution_count": 32,
       "metadata": {}
      },
      "follow": [],
      "msg_id": "9491a921-3403713de10f29a9b9ab42fd_28",
      "outputs": [],
      "received": "2021-04-06T17:04:33.913521",
      "started": "2021-04-06T17:04:33.909449",
      "status": "ok",
      "stderr": "",
      "stdout": "",
      "submitted": "2021-04-06T17:04:33.907137"
     },
     "output_type": "display_data"
    }
   ],
   "source": [
    "%%px\n",
    "\n",
    "assert_near_equal(J[('C2.outvec', 'indep.x')],\n",
    "                  np.eye(15)*np.append(2*np.ones(8), -3*np.ones(7)))"
   ]
  },
  {
   "cell_type": "code",
   "execution_count": null,
   "metadata": {},
   "outputs": [],
   "source": []
  }
 ],
 "metadata": {
  "celltoolbar": "Tags",
  "kernelspec": {
   "display_name": "Python 3",
   "language": "python",
   "name": "python3"
  },
  "language_info": {
   "codemirror_mode": {
    "name": "ipython",
    "version": 3
   },
   "file_extension": ".py",
   "mimetype": "text/x-python",
   "name": "python",
   "nbconvert_exporter": "python",
   "pygments_lexer": "ipython3",
   "version": "3.8.5"
  }
 },
 "nbformat": 4,
 "nbformat_minor": 4
}
