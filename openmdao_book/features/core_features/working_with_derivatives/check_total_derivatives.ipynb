{
 "cells": [
  {
   "cell_type": "code",
   "execution_count": 16,
   "id": "2754f7b7",
   "metadata": {
    "tags": [
     "remove-input",
     "remove-output",
     "active-ipynb"
    ]
   },
   "outputs": [],
   "source": [
    "try:\n",
    "    import openmdao.api as om\n",
    "except ImportError:\n",
    "    !python -m pip install openmdao[notebooks]\n",
    "    import openmdao.api as om"
   ]
  },
  {
   "cell_type": "markdown",
   "id": "8600897f",
   "metadata": {},
   "source": [
    "# Checking Total Derivatives\n",
    "\n",
    "If you want to check the analytic derivatives of your model (or just part of it) against finite difference or complex-step approximations, you can use `check_totals`(). You should always converge your model before calling this method. By default, this method checks the derivatives of all of the driver responses (objectives, constraints) with respect to the des_vars, though you can also specify the variables you want to check. Derivatives are computed and compared in an unscaled form by default, but you can optionally request for them to be computed in scaled form using the `ref` and `ref0` that were declared when adding the constraints, objectives, and des_vars."
   ]
  },
  {
   "cell_type": "markdown",
   "id": "dfce0750",
   "metadata": {},
   "source": [
    "```{Note}\n",
    "You should probably **not** use this method until you’ve used `check_partials`() to verify the partials for each component in your model. `check_totals`() is a blunt instrument, since it can only tell you that there is a problem, but will not give you much insight into which component or group is causing the problem.\n",
    "\n",
    "``` "
   ]
  },
  {
   "cell_type": "markdown",
   "id": "8118cced",
   "metadata": {},
   "source": [
    "```{eval-rst}\n",
    "    .. automethod:: openmdao.core.problem.Problem.check_totals\n",
    "        :noindex:\n",
    "```"
   ]
  },
  {
   "cell_type": "markdown",
   "id": "fd6910ad",
   "metadata": {},
   "source": [
    "Please check out the :ref:`Complex Step Guidelines <approximating_totals>` for more information on how to use it on a model. https://openmdao.org/twodocs/versions/latest/features/core_features/working_with_derivatives/approximating_totals.html#cs-guidelines"
   ]
  },
  {
   "cell_type": "markdown",
   "id": "732bf644",
   "metadata": {},
   "source": [
    "## Examples\n",
    "\n",
    "You can check specific combinations of variables by specifying them manually:"
   ]
  },
  {
   "cell_type": "code",
   "execution_count": 17,
   "id": "b049f376",
   "metadata": {},
   "outputs": [
    {
     "name": "stdout",
     "output_type": "stream",
     "text": [
      "NL: NLBGS Converged in 8 iterations\n"
     ]
    }
   ],
   "source": [
    "import openmdao.api as om\n",
    "from openmdao.test_suite.components.sellar import SellarDerivatives\n",
    "\n",
    "prob = om.Problem()\n",
    "prob.model = SellarDerivatives()\n",
    "prob.model.nonlinear_solver = om.NonlinearBlockGS()\n",
    "\n",
    "prob.setup()\n",
    "prob.run_model()"
   ]
  },
  {
   "cell_type": "code",
   "execution_count": 18,
   "id": "835bfd79",
   "metadata": {
    "tags": [
     "remove-output"
    ]
   },
   "outputs": [
    {
     "name": "stdout",
     "output_type": "stream",
     "text": [
      "NL: NLBGS Converged in 4 iterations\n",
      "NL: NLBGS Converged in 5 iterations\n",
      "NL: NLBGS Converged in 5 iterations\n",
      "-------------------------------------\n",
      "Group: SellarDerivatives 'Full Model'\n",
      "-------------------------------------\n",
      "  Full Model: 'con1' wrt 'x'\n",
      "    Analytic Magnitude : 9.806145e-01\n",
      "          Fd Magnitude : 9.806169e-01 (fd:None)\n",
      "    Absolute Error (Jan - Jfd) : 2.407248e-06 *\n",
      "\n",
      "    Relative Error (Jan - Jfd) / Jfd : 2.454831e-06 *\n",
      "\n",
      "    Raw Analytic Derivative (Jfor)\n",
      "[[-0.98061448]]\n",
      "\n",
      "    Raw FD Derivative (Jfd)\n",
      "[[-0.98061688]]\n",
      "\n",
      " - - - - - - - - - - - - - - - - - - - - - - - - - - - - - -\n",
      "  Full Model: 'con1' wrt 'z'\n",
      "    Analytic Magnitude : 9.641989e+00\n",
      "          Fd Magnitude : 9.641993e+00 (fd:None)\n",
      "    Absolute Error (Jan - Jfd) : 4.447254e-06 *\n",
      "\n",
      "    Relative Error (Jan - Jfd) / Jfd : 4.612380e-07\n",
      "\n",
      "    Raw Analytic Derivative (Jfor)\n",
      "[[-9.61002186 -0.78449158]]\n",
      "\n",
      "    Raw FD Derivative (Jfd)\n",
      "[[-9.61002547 -0.78449417]]\n",
      "\n",
      " - - - - - - - - - - - - - - - - - - - - - - - - - - - - - -\n",
      "  Full Model: 'obj' wrt 'x'\n",
      "    Analytic Magnitude : 2.980614e+00\n",
      "          Fd Magnitude : 2.980617e+00 (fd:None)\n",
      "    Absolute Error (Jan - Jfd) : 3.404818e-06 *\n",
      "\n",
      "    Relative Error (Jan - Jfd) / Jfd : 1.142320e-06 *\n",
      "\n",
      "    Raw Analytic Derivative (Jfor)\n",
      "[[2.98061391]]\n",
      "\n",
      "    Raw FD Derivative (Jfd)\n",
      "[[2.98061732]]\n",
      "\n",
      " - - - - - - - - - - - - - - - - - - - - - - - - - - - - - -\n",
      "  Full Model: 'obj' wrt 'z'\n",
      "    Analytic Magnitude : 9.774287e+00\n",
      "          Fd Magnitude : 9.774291e+00 (fd:None)\n",
      "    Absolute Error (Jan - Jfd) : 4.448707e-06 *\n",
      "\n",
      "    Relative Error (Jan - Jfd) / Jfd : 4.551437e-07\n",
      "\n",
      "    Raw Analytic Derivative (Jfor)\n",
      "[[9.61001056 1.78448534]]\n",
      "\n",
      "    Raw FD Derivative (Jfd)\n",
      "[[9.61001417 1.78448793]]\n",
      "\n",
      " - - - - - - - - - - - - - - - - - - - - - - - - - - - - - -\n"
     ]
    },
    {
     "data": {
      "text/plain": [
       "{('obj', 'x'): {'J_fwd': array([[2.98061391]]),\n",
       "  'J_fd': array([[2.98061732]]),\n",
       "  'abs error': ErrorTuple(forward=3.4048181056789417e-06, reverse=None, forward_reverse=None),\n",
       "  'magnitude': MagnitudeTuple(forward=2.9806139134842873, reverse=None, fd=2.980617318302393),\n",
       "  'rel error': ErrorTuple(forward=1.1423197754276459e-06, reverse=None, forward_reverse=None)},\n",
       " ('obj', 'z'): {'J_fwd': array([[9.61001056, 1.78448534]]),\n",
       "  'J_fd': array([[9.61001417, 1.78448793]]),\n",
       "  'abs error': ErrorTuple(forward=4.448706699474486e-06, reverse=None, forward_reverse=None),\n",
       "  'magnitude': MagnitudeTuple(forward=9.774287228158459, reverse=None, fd=9.77429125733397),\n",
       "  'rel error': ErrorTuple(forward=4.5514366027679764e-07, reverse=None, forward_reverse=None)},\n",
       " ('con1', 'x'): {'J_fwd': array([[-0.98061448]]),\n",
       "  'J_fd': array([[-0.98061688]]),\n",
       "  'abs error': ErrorTuple(forward=2.407248432922948e-06, reverse=None, forward_reverse=None),\n",
       "  'magnitude': MagnitudeTuple(forward=0.9806144751949951, reverse=None, fd=0.980616882443428),\n",
       "  'rel error': ErrorTuple(forward=2.4548307050606205e-06, reverse=None, forward_reverse=None)},\n",
       " ('con1', 'z'): {'J_fwd': array([[-9.61002186, -0.78449158]]),\n",
       "  'J_fd': array([[-9.61002547, -0.78449417]]),\n",
       "  'abs error': ErrorTuple(forward=4.4472535743135455e-06, reverse=None, forward_reverse=None),\n",
       "  'magnitude': MagnitudeTuple(forward=9.641988753864103, reverse=None, fd=9.641992568542056),\n",
       "  'rel error': ErrorTuple(forward=4.6123802136325483e-07, reverse=None, forward_reverse=None)}}"
      ]
     },
     "execution_count": 18,
     "metadata": {},
     "output_type": "execute_result"
    }
   ],
   "source": [
    "# manually specify which derivatives to check\n",
    "prob.check_totals(of=['obj', 'con1'], wrt=['x', 'z'])"
   ]
  },
  {
   "cell_type": "markdown",
   "id": "5d042116",
   "metadata": {},
   "source": [
    "---\n",
    "Check all the derivatives that the driver will need:"
   ]
  },
  {
   "cell_type": "code",
   "execution_count": 19,
   "id": "be9f5e90",
   "metadata": {},
   "outputs": [
    {
     "name": "stdout",
     "output_type": "stream",
     "text": [
      "NL: NLBGS Converged in 8 iterations\n"
     ]
    }
   ],
   "source": [
    "import openmdao.api as om\n",
    "from openmdao.test_suite.components.sellar import SellarDerivatives\n",
    "\n",
    "prob = om.Problem()\n",
    "prob.model = SellarDerivatives()\n",
    "prob.model.nonlinear_solver = om.NonlinearBlockGS()\n",
    "\n",
    "prob.model.add_design_var('x', lower=-100, upper=100)\n",
    "prob.model.add_design_var('z', lower=-100, upper=100)\n",
    "prob.model.add_objective('obj')\n",
    "prob.model.add_constraint('con1', upper=0.0)\n",
    "prob.model.add_constraint('con2', upper=0.0)\n",
    "\n",
    "prob.setup()\n",
    "\n",
    "# We don't call run_driver() here because we don't\n",
    "# actually want the optimizer to run\n",
    "prob.run_model()"
   ]
  },
  {
   "cell_type": "code",
   "execution_count": 20,
   "id": "414d163c",
   "metadata": {},
   "outputs": [
    {
     "name": "stdout",
     "output_type": "stream",
     "text": [
      "NL: NLBGS Converged in 4 iterations\n",
      "NL: NLBGS Converged in 5 iterations\n",
      "NL: NLBGS Converged in 5 iterations\n",
      "-------------------------------------\n",
      "Group: SellarDerivatives 'Full Model'\n",
      "-------------------------------------\n",
      "  Full Model: 'con_cmp1.con1' wrt 'x'\n",
      "    Analytic Magnitude : 9.806145e-01\n",
      "          Fd Magnitude : 9.806169e-01 (fd:None)\n",
      "    Absolute Error (Jan - Jfd) : 2.407248e-06 *\n",
      "\n",
      "    Relative Error (Jan - Jfd) / Jfd : 2.454831e-06 *\n",
      "\n",
      "    Raw Analytic Derivative (Jfor)\n",
      "[[-0.98061448]]\n",
      "\n",
      "    Raw FD Derivative (Jfd)\n",
      "[[-0.98061688]]\n",
      "\n",
      " - - - - - - - - - - - - - - - - - - - - - - - - - - - - - -\n",
      "  Full Model: 'con_cmp1.con1' wrt 'z'\n",
      "    Analytic Magnitude : 9.641989e+00\n",
      "          Fd Magnitude : 9.641993e+00 (fd:None)\n",
      "    Absolute Error (Jan - Jfd) : 4.447254e-06 *\n",
      "\n",
      "    Relative Error (Jan - Jfd) / Jfd : 4.612380e-07\n",
      "\n",
      "    Raw Analytic Derivative (Jfor)\n",
      "[[-9.61002186 -0.78449158]]\n",
      "\n",
      "    Raw FD Derivative (Jfd)\n",
      "[[-9.61002547 -0.78449417]]\n",
      "\n",
      " - - - - - - - - - - - - - - - - - - - - - - - - - - - - - -\n",
      "  Full Model: 'con_cmp2.con2' wrt 'x'\n",
      "    Analytic Magnitude : 9.692762e-02\n",
      "          Fd Magnitude : 9.692786e-02 (fd:None)\n",
      "    Absolute Error (Jan - Jfd) : 2.385894e-07\n",
      "\n",
      "    Relative Error (Jan - Jfd) / Jfd : 2.461515e-06 *\n",
      "\n",
      "    Raw Analytic Derivative (Jfor)\n",
      "[[0.09692762]]\n",
      "\n",
      "    Raw FD Derivative (Jfd)\n",
      "[[0.09692786]]\n",
      "\n",
      " - - - - - - - - - - - - - - - - - - - - - - - - - - - - - -\n",
      "  Full Model: 'con_cmp2.con2' wrt 'z'\n",
      "    Analytic Magnitude : 2.227817e+00\n",
      "          Fd Magnitude : 2.227818e+00 (fd:None)\n",
      "    Absolute Error (Jan - Jfd) : 3.738610e-07\n",
      "\n",
      "    Relative Error (Jan - Jfd) / Jfd : 1.678149e-07\n",
      "\n",
      "    Raw Analytic Derivative (Jfor)\n",
      "[[1.94989072 1.0775421 ]]\n",
      "\n",
      "    Raw FD Derivative (Jfd)\n",
      "[[1.94989099 1.07754236]]\n",
      "\n",
      " - - - - - - - - - - - - - - - - - - - - - - - - - - - - - -\n",
      "  Full Model: 'obj_cmp.obj' wrt 'x'\n",
      "    Analytic Magnitude : 2.980614e+00\n",
      "          Fd Magnitude : 2.980617e+00 (fd:None)\n",
      "    Absolute Error (Jan - Jfd) : 3.404818e-06 *\n",
      "\n",
      "    Relative Error (Jan - Jfd) / Jfd : 1.142320e-06 *\n",
      "\n",
      "    Raw Analytic Derivative (Jfor)\n",
      "[[2.98061391]]\n",
      "\n",
      "    Raw FD Derivative (Jfd)\n",
      "[[2.98061732]]\n",
      "\n",
      " - - - - - - - - - - - - - - - - - - - - - - - - - - - - - -\n",
      "  Full Model: 'obj_cmp.obj' wrt 'z'\n",
      "    Analytic Magnitude : 9.774287e+00\n",
      "          Fd Magnitude : 9.774291e+00 (fd:None)\n",
      "    Absolute Error (Jan - Jfd) : 4.448707e-06 *\n",
      "\n",
      "    Relative Error (Jan - Jfd) / Jfd : 4.551437e-07\n",
      "\n",
      "    Raw Analytic Derivative (Jfor)\n",
      "[[9.61001056 1.78448534]]\n",
      "\n",
      "    Raw FD Derivative (Jfd)\n",
      "[[9.61001417 1.78448793]]\n",
      "\n",
      " - - - - - - - - - - - - - - - - - - - - - - - - - - - - - -\n"
     ]
    },
    {
     "data": {
      "text/plain": [
       "{('obj_cmp.obj', 'x'): {'J_fwd': array([[2.98061391]]),\n",
       "  'J_fd': array([[2.98061732]]),\n",
       "  'abs error': ErrorTuple(forward=3.4048181056789417e-06, reverse=None, forward_reverse=None),\n",
       "  'magnitude': MagnitudeTuple(forward=2.9806139134842873, reverse=None, fd=2.980617318302393),\n",
       "  'rel error': ErrorTuple(forward=1.1423197754276459e-06, reverse=None, forward_reverse=None)},\n",
       " ('obj_cmp.obj', 'z'): {'J_fwd': array([[9.61001056, 1.78448534]]),\n",
       "  'J_fd': array([[9.61001417, 1.78448793]]),\n",
       "  'abs error': ErrorTuple(forward=4.448706699474486e-06, reverse=None, forward_reverse=None),\n",
       "  'magnitude': MagnitudeTuple(forward=9.774287228158459, reverse=None, fd=9.77429125733397),\n",
       "  'rel error': ErrorTuple(forward=4.5514366027679764e-07, reverse=None, forward_reverse=None)},\n",
       " ('con_cmp1.con1', 'x'): {'J_fwd': array([[-0.98061448]]),\n",
       "  'J_fd': array([[-0.98061688]]),\n",
       "  'abs error': ErrorTuple(forward=2.407248432922948e-06, reverse=None, forward_reverse=None),\n",
       "  'magnitude': MagnitudeTuple(forward=0.9806144751949951, reverse=None, fd=0.980616882443428),\n",
       "  'rel error': ErrorTuple(forward=2.4548307050606205e-06, reverse=None, forward_reverse=None)},\n",
       " ('con_cmp1.con1', 'z'): {'J_fwd': array([[-9.61002186, -0.78449158]]),\n",
       "  'J_fd': array([[-9.61002547, -0.78449417]]),\n",
       "  'abs error': ErrorTuple(forward=4.4472535743135455e-06, reverse=None, forward_reverse=None),\n",
       "  'magnitude': MagnitudeTuple(forward=9.641988753864103, reverse=None, fd=9.641992568542056),\n",
       "  'rel error': ErrorTuple(forward=4.6123802136325483e-07, reverse=None, forward_reverse=None)},\n",
       " ('con_cmp2.con2', 'x'): {'J_fwd': array([[0.09692762]]),\n",
       "  'J_fd': array([[0.09692786]]),\n",
       "  'abs error': ErrorTuple(forward=2.385893683315432e-07, reverse=None, forward_reverse=None),\n",
       "  'magnitude': MagnitudeTuple(forward=0.0969276240250249, reverse=None, fd=0.09692786261439323),\n",
       "  'rel error': ErrorTuple(forward=2.4615147997301865e-06, reverse=None, forward_reverse=None)},\n",
       " ('con_cmp2.con2', 'z'): {'J_fwd': array([[1.94989072, 1.0775421 ]]),\n",
       "  'J_fd': array([[1.94989099, 1.07754236]]),\n",
       "  'abs error': ErrorTuple(forward=3.7386098724260005e-07, reverse=None, forward_reverse=None),\n",
       "  'magnitude': MagnitudeTuple(forward=2.2278174920246605, reverse=None, fd=2.2278178536542534),\n",
       "  'rel error': ErrorTuple(forward=1.6781488065972806e-07, reverse=None, forward_reverse=None)}}"
      ]
     },
     "execution_count": 20,
     "metadata": {},
     "output_type": "execute_result"
    }
   ],
   "source": [
    "# check derivatives of all obj+constraints w.r.t all design variables\n",
    "prob.check_totals()"
   ]
  },
  {
   "cell_type": "markdown",
   "id": "47747087",
   "metadata": {},
   "source": [
    "---\n",
    "Use the driver scaled values during the check:"
   ]
  },
  {
   "cell_type": "code",
   "execution_count": 21,
   "id": "78c9a466",
   "metadata": {},
   "outputs": [
    {
     "name": "stdout",
     "output_type": "stream",
     "text": [
      "NL: NLBGS Converged in 8 iterations\n"
     ]
    }
   ],
   "source": [
    "import openmdao.api as om\n",
    "from openmdao.test_suite.components.sellar import SellarDerivatives\n",
    "\n",
    "prob = om.Problem()\n",
    "prob.model = SellarDerivatives()\n",
    "prob.model.nonlinear_solver = om.NonlinearBlockGS()\n",
    "\n",
    "prob.model.add_design_var('x', lower=-100, upper=100, ref=100.0, ref0=-100.0)\n",
    "prob.model.add_design_var('z', lower=-100, upper=100)\n",
    "prob.model.add_objective('obj')\n",
    "prob.model.add_constraint('con1', upper=0.0, ref=3.0)\n",
    "prob.model.add_constraint('con2', upper=0.0, ref=20.0)\n",
    "\n",
    "prob.setup()\n",
    "\n",
    "# We don't call run_driver() here because we don't\n",
    "# actually want the optimizer to run\n",
    "prob.run_model()"
   ]
  },
  {
   "cell_type": "code",
   "execution_count": 22,
   "id": "8dc60eb4",
   "metadata": {},
   "outputs": [
    {
     "name": "stdout",
     "output_type": "stream",
     "text": [
      "NL: NLBGS Converged in 4 iterations\n",
      "NL: NLBGS Converged in 5 iterations\n",
      "NL: NLBGS Converged in 5 iterations\n",
      "-------------------------------------\n",
      "Group: SellarDerivatives 'Full Model'\n",
      "-------------------------------------\n",
      "  Full Model: 'con_cmp1.con1' wrt 'x'\n",
      "    Analytic Magnitude : 6.537430e+01\n",
      "          Fd Magnitude : 6.537446e+01 (fd:None)\n",
      "    Absolute Error (Jan - Jfd) : 1.604832e-04 *\n",
      "\n",
      "    Relative Error (Jan - Jfd) / Jfd : 2.454831e-06 *\n",
      "\n",
      "    Raw Analytic Derivative (Jfor)\n",
      "[[-65.37429835]]\n",
      "\n",
      "    Raw FD Derivative (Jfd)\n",
      "[[-65.37445883]]\n",
      "\n",
      " - - - - - - - - - - - - - - - - - - - - - - - - - - - - - -\n",
      "  Full Model: 'con_cmp1.con1' wrt 'z'\n",
      "    Analytic Magnitude : 3.213996e+00\n",
      "          Fd Magnitude : 3.213998e+00 (fd:None)\n",
      "    Absolute Error (Jan - Jfd) : 1.482418e-06 *\n",
      "\n",
      "    Relative Error (Jan - Jfd) / Jfd : 4.612380e-07\n",
      "\n",
      "    Raw Analytic Derivative (Jfor)\n",
      "[[-3.20334062 -0.26149719]]\n",
      "\n",
      "    Raw FD Derivative (Jfd)\n",
      "[[-3.20334182 -0.26149806]]\n",
      "\n",
      " - - - - - - - - - - - - - - - - - - - - - - - - - - - - - -\n",
      "  Full Model: 'con_cmp2.con2' wrt 'x'\n",
      "    Analytic Magnitude : 9.692762e-01\n",
      "          Fd Magnitude : 9.692786e-01 (fd:None)\n",
      "    Absolute Error (Jan - Jfd) : 2.385894e-06 *\n",
      "\n",
      "    Relative Error (Jan - Jfd) / Jfd : 2.461515e-06 *\n",
      "\n",
      "    Raw Analytic Derivative (Jfor)\n",
      "[[0.96927624]]\n",
      "\n",
      "    Raw FD Derivative (Jfd)\n",
      "[[0.96927863]]\n",
      "\n",
      " - - - - - - - - - - - - - - - - - - - - - - - - - - - - - -\n",
      "  Full Model: 'con_cmp2.con2' wrt 'z'\n",
      "    Analytic Magnitude : 1.113909e-01\n",
      "          Fd Magnitude : 1.113909e-01 (fd:None)\n",
      "    Absolute Error (Jan - Jfd) : 1.869305e-08\n",
      "\n",
      "    Relative Error (Jan - Jfd) / Jfd : 1.678149e-07\n",
      "\n",
      "    Raw Analytic Derivative (Jfor)\n",
      "[[0.09749454 0.0538771 ]]\n",
      "\n",
      "    Raw FD Derivative (Jfd)\n",
      "[[0.09749455 0.05387712]]\n",
      "\n",
      " - - - - - - - - - - - - - - - - - - - - - - - - - - - - - -\n",
      "  Full Model: 'obj_cmp.obj' wrt 'x'\n",
      "    Analytic Magnitude : 5.961228e+02\n",
      "          Fd Magnitude : 5.961235e+02 (fd:None)\n",
      "    Absolute Error (Jan - Jfd) : 6.809636e-04 *\n",
      "\n",
      "    Relative Error (Jan - Jfd) / Jfd : 1.142320e-06 *\n",
      "\n",
      "    Raw Analytic Derivative (Jfor)\n",
      "[[596.1227827]]\n",
      "\n",
      "    Raw FD Derivative (Jfd)\n",
      "[[596.12346366]]\n",
      "\n",
      " - - - - - - - - - - - - - - - - - - - - - - - - - - - - - -\n",
      "  Full Model: 'obj_cmp.obj' wrt 'z'\n",
      "    Analytic Magnitude : 9.774287e+00\n",
      "          Fd Magnitude : 9.774291e+00 (fd:None)\n",
      "    Absolute Error (Jan - Jfd) : 4.448707e-06 *\n",
      "\n",
      "    Relative Error (Jan - Jfd) / Jfd : 4.551437e-07\n",
      "\n",
      "    Raw Analytic Derivative (Jfor)\n",
      "[[9.61001056 1.78448534]]\n",
      "\n",
      "    Raw FD Derivative (Jfd)\n",
      "[[9.61001417 1.78448793]]\n",
      "\n",
      " - - - - - - - - - - - - - - - - - - - - - - - - - - - - - -\n"
     ]
    },
    {
     "data": {
      "text/plain": [
       "{('obj_cmp.obj', 'x'): {'J_fwd': array([[596.1227827]]),\n",
       "  'J_fd': array([[596.12346366]]),\n",
       "  'abs error': ErrorTuple(forward=0.0006809636211073666, reverse=None, forward_reverse=None),\n",
       "  'magnitude': MagnitudeTuple(forward=596.1227826968575, reverse=None, fd=596.1234636604786),\n",
       "  'rel error': ErrorTuple(forward=1.1423197753799683e-06, reverse=None, forward_reverse=None)},\n",
       " ('obj_cmp.obj', 'z'): {'J_fwd': array([[9.61001056, 1.78448534]]),\n",
       "  'J_fd': array([[9.61001417, 1.78448793]]),\n",
       "  'abs error': ErrorTuple(forward=4.448706699474486e-06, reverse=None, forward_reverse=None),\n",
       "  'magnitude': MagnitudeTuple(forward=9.774287228158459, reverse=None, fd=9.77429125733397),\n",
       "  'rel error': ErrorTuple(forward=4.5514366027679764e-07, reverse=None, forward_reverse=None)},\n",
       " ('con_cmp1.con1', 'x'): {'J_fwd': array([[-65.37429835]]),\n",
       "  'J_fd': array([[-65.37445883]]),\n",
       "  'abs error': ErrorTuple(forward=0.00016048322885353627, reverse=None, forward_reverse=None),\n",
       "  'magnitude': MagnitudeTuple(forward=65.374298346333, reverse=None, fd=65.37445882956186),\n",
       "  'rel error': ErrorTuple(forward=2.4548307049383467e-06, reverse=None, forward_reverse=None)},\n",
       " ('con_cmp1.con1', 'z'): {'J_fwd': array([[-3.20334062, -0.26149719]]),\n",
       "  'J_fd': array([[-3.20334182, -0.26149806]]),\n",
       "  'abs error': ErrorTuple(forward=1.4824178580056967e-06, reverse=None, forward_reverse=None),\n",
       "  'magnitude': MagnitudeTuple(forward=3.213996251288034, reverse=None, fd=3.213997522847352),\n",
       "  'rel error': ErrorTuple(forward=4.612380213325086e-07, reverse=None, forward_reverse=None)},\n",
       " ('con_cmp2.con2', 'x'): {'J_fwd': array([[0.96927624]]),\n",
       "  'J_fd': array([[0.96927863]]),\n",
       "  'abs error': ErrorTuple(forward=2.3858936832876765e-06, reverse=None, forward_reverse=None),\n",
       "  'magnitude': MagnitudeTuple(forward=0.969276240250249, reverse=None, fd=0.9692786261439323),\n",
       "  'rel error': ErrorTuple(forward=2.4615147997015513e-06, reverse=None, forward_reverse=None)},\n",
       " ('con_cmp2.con2', 'z'): {'J_fwd': array([[0.09749454, 0.0538771 ]]),\n",
       "  'J_fd': array([[0.09749455, 0.05387712]]),\n",
       "  'abs error': ErrorTuple(forward=1.8693049362993048e-08, reverse=None, forward_reverse=None),\n",
       "  'magnitude': MagnitudeTuple(forward=0.11139087460123302, reverse=None, fd=0.11139089268271268),\n",
       "  'rel error': ErrorTuple(forward=1.6781488066747595e-07, reverse=None, forward_reverse=None)}}"
      ]
     },
     "execution_count": 22,
     "metadata": {},
     "output_type": "execute_result"
    }
   ],
   "source": [
    "# check derivatives of all driver vars using the declared scaling\n",
    "prob.check_totals(driver_scaling=True)"
   ]
  },
  {
   "cell_type": "markdown",
   "id": "d3371d58",
   "metadata": {},
   "source": [
    "\n",
    "---\n",
    "Display the results in a compact format:"
   ]
  },
  {
   "cell_type": "code",
   "execution_count": 23,
   "id": "408c61d1",
   "metadata": {},
   "outputs": [
    {
     "name": "stdout",
     "output_type": "stream",
     "text": [
      "NL: NLBGS Converged in 8 iterations\n"
     ]
    }
   ],
   "source": [
    "import openmdao.api as om\n",
    "from openmdao.test_suite.components.sellar import SellarDerivatives\n",
    "\n",
    "prob = om.Problem()\n",
    "prob.model = SellarDerivatives()\n",
    "prob.model.nonlinear_solver = om.NonlinearBlockGS()\n",
    "\n",
    "prob.model.add_design_var('x', lower=-100, upper=100)\n",
    "prob.model.add_design_var('z', lower=-100, upper=100)\n",
    "prob.model.add_objective('obj')\n",
    "prob.model.add_constraint('con1', upper=0.0)\n",
    "prob.model.add_constraint('con2', upper=0.0)\n",
    "\n",
    "prob.setup()\n",
    "\n",
    "# We don't call run_driver() here because we don't\n",
    "# actually want the optimizer to run\n",
    "prob.run_model()"
   ]
  },
  {
   "cell_type": "code",
   "execution_count": 24,
   "id": "28fbc866",
   "metadata": {},
   "outputs": [
    {
     "name": "stdout",
     "output_type": "stream",
     "text": [
      "NL: NLBGS Converged in 4 iterations\n",
      "NL: NLBGS Converged in 5 iterations\n",
      "NL: NLBGS Converged in 5 iterations\n",
      "-------------------------------------\n",
      "Group: SellarDerivatives 'Full Model'\n",
      "-------------------------------------\n",
      "'<output>'                     wrt '<variable>'                   | calc mag.  | check mag. | a(cal-chk) | r(cal-chk)\n",
      "---------------------------------------------------------------------------------------------------------------------\n",
      "\n",
      "'con_cmp1.con1'                wrt 'x'                            | 9.8061e-01 | 9.8062e-01 | 2.4072e-06 | 2.4548e-06\n",
      "'con_cmp1.con1'                wrt 'z'                            | 9.6420e+00 | 9.6420e+00 | 4.4473e-06 | 4.6124e-07\n",
      "'con_cmp2.con2'                wrt 'x'                            | 9.6928e-02 | 9.6928e-02 | 2.3859e-07 | 2.4615e-06\n",
      "'con_cmp2.con2'                wrt 'z'                            | 2.2278e+00 | 2.2278e+00 | 3.7386e-07 | 1.6781e-07\n",
      "'obj_cmp.obj'                  wrt 'x'                            | 2.9806e+00 | 2.9806e+00 | 3.4048e-06 | 1.1423e-06\n",
      "'obj_cmp.obj'                  wrt 'z'                            | 9.7743e+00 | 9.7743e+00 | 4.4487e-06 | 4.5514e-07\n"
     ]
    },
    {
     "data": {
      "text/plain": [
       "{('obj_cmp.obj', 'x'): {'J_fwd': array([[2.98061391]]),\n",
       "  'J_fd': array([[2.98061732]]),\n",
       "  'abs error': ErrorTuple(forward=3.4048181056789417e-06, reverse=None, forward_reverse=None),\n",
       "  'magnitude': MagnitudeTuple(forward=2.9806139134842873, reverse=None, fd=2.980617318302393),\n",
       "  'rel error': ErrorTuple(forward=1.1423197754276459e-06, reverse=None, forward_reverse=None)},\n",
       " ('obj_cmp.obj', 'z'): {'J_fwd': array([[9.61001056, 1.78448534]]),\n",
       "  'J_fd': array([[9.61001417, 1.78448793]]),\n",
       "  'abs error': ErrorTuple(forward=4.448706699474486e-06, reverse=None, forward_reverse=None),\n",
       "  'magnitude': MagnitudeTuple(forward=9.774287228158459, reverse=None, fd=9.77429125733397),\n",
       "  'rel error': ErrorTuple(forward=4.5514366027679764e-07, reverse=None, forward_reverse=None)},\n",
       " ('con_cmp1.con1', 'x'): {'J_fwd': array([[-0.98061448]]),\n",
       "  'J_fd': array([[-0.98061688]]),\n",
       "  'abs error': ErrorTuple(forward=2.407248432922948e-06, reverse=None, forward_reverse=None),\n",
       "  'magnitude': MagnitudeTuple(forward=0.9806144751949951, reverse=None, fd=0.980616882443428),\n",
       "  'rel error': ErrorTuple(forward=2.4548307050606205e-06, reverse=None, forward_reverse=None)},\n",
       " ('con_cmp1.con1', 'z'): {'J_fwd': array([[-9.61002186, -0.78449158]]),\n",
       "  'J_fd': array([[-9.61002547, -0.78449417]]),\n",
       "  'abs error': ErrorTuple(forward=4.4472535743135455e-06, reverse=None, forward_reverse=None),\n",
       "  'magnitude': MagnitudeTuple(forward=9.641988753864103, reverse=None, fd=9.641992568542056),\n",
       "  'rel error': ErrorTuple(forward=4.6123802136325483e-07, reverse=None, forward_reverse=None)},\n",
       " ('con_cmp2.con2', 'x'): {'J_fwd': array([[0.09692762]]),\n",
       "  'J_fd': array([[0.09692786]]),\n",
       "  'abs error': ErrorTuple(forward=2.385893683315432e-07, reverse=None, forward_reverse=None),\n",
       "  'magnitude': MagnitudeTuple(forward=0.0969276240250249, reverse=None, fd=0.09692786261439323),\n",
       "  'rel error': ErrorTuple(forward=2.4615147997301865e-06, reverse=None, forward_reverse=None)},\n",
       " ('con_cmp2.con2', 'z'): {'J_fwd': array([[1.94989072, 1.0775421 ]]),\n",
       "  'J_fd': array([[1.94989099, 1.07754236]]),\n",
       "  'abs error': ErrorTuple(forward=3.7386098724260005e-07, reverse=None, forward_reverse=None),\n",
       "  'magnitude': MagnitudeTuple(forward=2.2278174920246605, reverse=None, fd=2.2278178536542534),\n",
       "  'rel error': ErrorTuple(forward=1.6781488065972806e-07, reverse=None, forward_reverse=None)}}"
      ]
     },
     "execution_count": 24,
     "metadata": {},
     "output_type": "execute_result"
    }
   ],
   "source": [
    "# check derivatives of all obj+constraints w.r.t all design variables\n",
    "prob.check_totals(compact_print=True)"
   ]
  },
  {
   "cell_type": "markdown",
   "id": "4679e01b",
   "metadata": {},
   "source": [
    "---\n",
    "Use complex step instead of finite difference for a more accurate check. We also tighten the tolerance on the nonlinear Gauss-Seidel solver so that we get more accurate converged values."
   ]
  },
  {
   "cell_type": "code",
   "execution_count": 25,
   "id": "d91a3c0a",
   "metadata": {},
   "outputs": [
    {
     "name": "stdout",
     "output_type": "stream",
     "text": [
      "NL: NLBGS Converged in 8 iterations\n"
     ]
    }
   ],
   "source": [
    "import openmdao.api as om\n",
    "from openmdao.test_suite.components.sellar import SellarDerivatives\n",
    "\n",
    "prob = om.Problem()\n",
    "prob.model = SellarDerivatives()\n",
    "prob.model.nonlinear_solver = om.NonlinearBlockGS()\n",
    "\n",
    "prob.model.add_design_var('x', lower=-100, upper=100)\n",
    "prob.model.add_design_var('z', lower=-100, upper=100)\n",
    "prob.model.add_objective('obj')\n",
    "prob.model.add_constraint('con1', upper=0.0)\n",
    "prob.model.add_constraint('con2', upper=0.0)\n",
    "\n",
    "prob.setup(force_alloc_complex=True)\n",
    "\n",
    "# We don't call run_driver() here because we don't\n",
    "# actually want the optimizer to run\n",
    "prob.run_model()"
   ]
  },
  {
   "cell_type": "code",
   "execution_count": 26,
   "id": "1893980e",
   "metadata": {},
   "outputs": [
    {
     "name": "stdout",
     "output_type": "stream",
     "text": [
      "NL: NLBGS Converged in 7 iterations\n",
      "NL: NLBGS Converged in 6 iterations\n",
      "NL: NLBGS Converged in 7 iterations\n",
      "-------------------------------------\n",
      "Group: SellarDerivatives 'Full Model'\n",
      "-------------------------------------\n",
      "  Full Model: 'con_cmp1.con1' wrt 'x'\n",
      "    Analytic Magnitude : 9.806145e-01\n",
      "          Fd Magnitude : 9.806145e-01 (cs:None)\n",
      "    Absolute Error (Jan - Jfd) : 2.139133e-11\n",
      "\n",
      "    Relative Error (Jan - Jfd) / Jfd : 2.181421e-11\n",
      "\n",
      "    Raw Analytic Derivative (Jfor)\n",
      "[[-0.98061448]]\n",
      "\n",
      "    Raw FD Derivative (Jfd)\n",
      "[[-0.98061448]]\n",
      "\n",
      " - - - - - - - - - - - - - - - - - - - - - - - - - - - - - -\n",
      "  Full Model: 'con_cmp1.con1' wrt 'z'\n",
      "    Analytic Magnitude : 9.641989e+00\n",
      "          Fd Magnitude : 9.641989e+00 (cs:None)\n",
      "    Absolute Error (Jan - Jfd) : 1.806088e-08\n",
      "\n",
      "    Relative Error (Jan - Jfd) / Jfd : 1.873149e-09\n",
      "\n",
      "    Raw Analytic Derivative (Jfor)\n",
      "[[-9.61002186 -0.78449158]]\n",
      "\n",
      "    Raw FD Derivative (Jfd)\n",
      "[[-9.61002187 -0.78449158]]\n",
      "\n",
      " - - - - - - - - - - - - - - - - - - - - - - - - - - - - - -\n",
      "  Full Model: 'con_cmp2.con2' wrt 'x'\n",
      "    Analytic Magnitude : 9.692762e-02\n",
      "          Fd Magnitude : 9.692762e-02 (cs:None)\n",
      "    Absolute Error (Jan - Jfd) : 1.010579e-10\n",
      "\n",
      "    Relative Error (Jan - Jfd) / Jfd : 1.042612e-09\n",
      "\n",
      "    Raw Analytic Derivative (Jfor)\n",
      "[[0.09692762]]\n",
      "\n",
      "    Raw FD Derivative (Jfd)\n",
      "[[0.09692762]]\n",
      "\n",
      " - - - - - - - - - - - - - - - - - - - - - - - - - - - - - -\n",
      "  Full Model: 'con_cmp2.con2' wrt 'z'\n",
      "    Analytic Magnitude : 2.227817e+00\n",
      "          Fd Magnitude : 2.227817e+00 (cs:None)\n",
      "    Absolute Error (Jan - Jfd) : 3.399851e-10\n",
      "\n",
      "    Relative Error (Jan - Jfd) / Jfd : 1.526090e-10\n",
      "\n",
      "    Raw Analytic Derivative (Jfor)\n",
      "[[1.94989072 1.0775421 ]]\n",
      "\n",
      "    Raw FD Derivative (Jfd)\n",
      "[[1.94989072 1.0775421 ]]\n",
      "\n",
      " - - - - - - - - - - - - - - - - - - - - - - - - - - - - - -\n",
      "  Full Model: 'obj_cmp.obj' wrt 'x'\n",
      "    Analytic Magnitude : 2.980614e+00\n",
      "          Fd Magnitude : 2.980614e+00 (cs:None)\n",
      "    Absolute Error (Jan - Jfd) : 9.598640e-09\n",
      "\n",
      "    Relative Error (Jan - Jfd) / Jfd : 3.220357e-09\n",
      "\n",
      "    Raw Analytic Derivative (Jfor)\n",
      "[[2.98061391]]\n",
      "\n",
      "    Raw FD Derivative (Jfd)\n",
      "[[2.98061392]]\n",
      "\n",
      " - - - - - - - - - - - - - - - - - - - - - - - - - - - - - -\n",
      "  Full Model: 'obj_cmp.obj' wrt 'z'\n",
      "    Analytic Magnitude : 9.774287e+00\n",
      "          Fd Magnitude : 9.774287e+00 (cs:None)\n",
      "    Absolute Error (Jan - Jfd) : 1.806122e-08\n",
      "\n",
      "    Relative Error (Jan - Jfd) / Jfd : 1.847830e-09\n",
      "\n",
      "    Raw Analytic Derivative (Jfor)\n",
      "[[9.61001056 1.78448534]]\n",
      "\n",
      "    Raw FD Derivative (Jfd)\n",
      "[[9.61001058 1.78448534]]\n",
      "\n",
      " - - - - - - - - - - - - - - - - - - - - - - - - - - - - - -\n"
     ]
    },
    {
     "data": {
      "text/plain": [
       "{('obj_cmp.obj', 'x'): {'J_fwd': array([[2.98061391]]),\n",
       "  'J_fd': array([[2.98061392]]),\n",
       "  'abs error': ErrorTuple(forward=9.598640104968581e-09, reverse=None, forward_reverse=None),\n",
       "  'magnitude': MagnitudeTuple(forward=2.9806139134842873, reverse=None, fd=2.9806139230829274),\n",
       "  'rel error': ErrorTuple(forward=3.220356729408435e-09, reverse=None, forward_reverse=None)},\n",
       " ('obj_cmp.obj', 'z'): {'J_fwd': array([[9.61001056, 1.78448534]]),\n",
       "  'J_fd': array([[9.61001058, 1.78448534]]),\n",
       "  'abs error': ErrorTuple(forward=1.8061221880559964e-08, reverse=None, forward_reverse=None),\n",
       "  'magnitude': MagnitudeTuple(forward=9.774287228158459, reverse=None, fd=9.774287245923102),\n",
       "  'rel error': ErrorTuple(forward=1.8478300694603975e-09, reverse=None, forward_reverse=None)},\n",
       " ('con_cmp1.con1', 'x'): {'J_fwd': array([[-0.98061448]]),\n",
       "  'J_fd': array([[-0.98061448]]),\n",
       "  'abs error': ErrorTuple(forward=2.1391333149267666e-11, reverse=None, forward_reverse=None),\n",
       "  'magnitude': MagnitudeTuple(forward=0.9806144751949951, reverse=None, fd=0.9806144752163864),\n",
       "  'rel error': ErrorTuple(forward=2.181421311830765e-11, reverse=None, forward_reverse=None)},\n",
       " ('con_cmp1.con1', 'z'): {'J_fwd': array([[-9.61002186, -0.78449158]]),\n",
       "  'J_fd': array([[-9.61002187, -0.78449158]]),\n",
       "  'abs error': ErrorTuple(forward=1.8060883775455938e-08, reverse=None, forward_reverse=None),\n",
       "  'magnitude': MagnitudeTuple(forward=9.641988753864103, reverse=None, fd=9.64198877186817),\n",
       "  'rel error': ErrorTuple(forward=1.873149222922874e-09, reverse=None, forward_reverse=None)},\n",
       " ('con_cmp2.con2', 'x'): {'J_fwd': array([[0.09692762]]),\n",
       "  'J_fd': array([[0.09692762]]),\n",
       "  'abs error': ErrorTuple(forward=1.0105789816083899e-10, reverse=None, forward_reverse=None),\n",
       "  'magnitude': MagnitudeTuple(forward=0.0969276240250249, reverse=None, fd=0.096927623923967),\n",
       "  'rel error': ErrorTuple(forward=1.0426119414637864e-09, reverse=None, forward_reverse=None)},\n",
       " ('con_cmp2.con2', 'z'): {'J_fwd': array([[1.94989072, 1.0775421 ]]),\n",
       "  'J_fd': array([[1.94989072, 1.0775421 ]]),\n",
       "  'abs error': ErrorTuple(forward=3.3998506047126397e-10, reverse=None, forward_reverse=None),\n",
       "  'magnitude': MagnitudeTuple(forward=2.2278174920246605, reverse=None, fd=2.2278174916993536),\n",
       "  'rel error': ErrorTuple(forward=1.5260902732742587e-10, reverse=None, forward_reverse=None)}}"
      ]
     },
     "execution_count": 26,
     "metadata": {},
     "output_type": "execute_result"
    }
   ],
   "source": [
    "prob.model.nonlinear_solver.options['atol'] = 1e-15\n",
    "prob.model.nonlinear_solver.options['rtol'] = 1e-15\n",
    "\n",
    "# check derivatives with complex step\n",
    "prob.check_totals(method='cs')"
   ]
  },
  {
   "cell_type": "markdown",
   "id": "3bf9307f",
   "metadata": {},
   "source": [
    "Note that you need to set the argument `force_alloc_complex` to True when you call `setup`. This makes sure that the vectors allocate space to pass complex numbers. All systems also have an attribute `force_alloc_complex` that can be queried during `setup` in case you need to set up your `Component` or `Group` differently to accomodate complex step."
   ]
  },
  {
   "cell_type": "code",
   "execution_count": 27,
   "id": "ffe75a6b",
   "metadata": {},
   "outputs": [
    {
     "name": "stdout",
     "output_type": "stream",
     "text": [
      "Vectors allocated for complex step.\n",
      "-------------------------\n",
      "Group: Group 'Full Model'\n",
      "-------------------------\n",
      "  Full Model: 'comp.y' wrt 'comp.x'\n",
      "    Analytic Magnitude : 3.000000e+00\n",
      "          Fd Magnitude : 3.000000e+00 (cs:None)\n",
      "    Absolute Error (Jan - Jfd) : 0.000000e+00\n",
      "\n",
      "    Relative Error (Jan - Jfd) / Jfd : 0.000000e+00\n",
      "\n",
      "    Raw Analytic Derivative (Jfor)\n",
      "[[3.]]\n",
      "\n",
      "    Raw FD Derivative (Jfd)\n",
      "[[3.]]\n",
      "\n",
      " - - - - - - - - - - - - - - - - - - - - - - - - - - - - - -\n"
     ]
    },
    {
     "data": {
      "text/plain": [
       "{('comp.y', 'comp.x'): {'J_fwd': array([[3.]]),\n",
       "  'J_fd': array([[3.]]),\n",
       "  'abs error': ErrorTuple(forward=0.0, reverse=None, forward_reverse=None),\n",
       "  'magnitude': MagnitudeTuple(forward=3.0, reverse=None, fd=3.0),\n",
       "  'rel error': ErrorTuple(forward=0.0, reverse=None, forward_reverse=None)}}"
      ]
     },
     "execution_count": 27,
     "metadata": {},
     "output_type": "execute_result"
    }
   ],
   "source": [
    "import openmdao.api as om\n",
    "\n",
    "class SimpleComp(om.ExplicitComponent):\n",
    "\n",
    "    def setup(self):\n",
    "        self.add_input('x', val=1.0)\n",
    "        self.add_output('y', val=1.0)\n",
    "\n",
    "        self.declare_partials(of='y', wrt='x')\n",
    "\n",
    "        if self._force_alloc_complex:\n",
    "            print(\"Vectors allocated for complex step.\")\n",
    "\n",
    "    def compute(self, inputs, outputs):\n",
    "        outputs['y'] = 3.0*inputs['x']\n",
    "\n",
    "    def compute_partials(self, inputs, partials):\n",
    "        partials['y', 'x'] = 3.\n",
    "\n",
    "prob = om.Problem()\n",
    "prob.model.add_subsystem('comp', SimpleComp())\n",
    "\n",
    "prob.model.add_design_var('comp.x', lower=-100, upper=100)\n",
    "prob.model.add_objective('comp.y')\n",
    "\n",
    "prob.setup(force_alloc_complex=True)\n",
    "\n",
    "prob.run_model()\n",
    "\n",
    "prob.check_totals(method='cs')"
   ]
  },
  {
   "cell_type": "markdown",
   "id": "16dbd3ea",
   "metadata": {},
   "source": [
    "\n",
    "---\n",
    "Turn off standard output and just view the derivatives in the return:"
   ]
  },
  {
   "cell_type": "code",
   "execution_count": 28,
   "id": "87e1155e",
   "metadata": {},
   "outputs": [
    {
     "name": "stdout",
     "output_type": "stream",
     "text": [
      "NL: NLBGS Converged in 8 iterations\n"
     ]
    }
   ],
   "source": [
    "import openmdao.api as om\n",
    "from openmdao.test_suite.components.sellar import SellarDerivatives\n",
    "\n",
    "prob = om.Problem()\n",
    "prob.model = SellarDerivatives()\n",
    "prob.model.nonlinear_solver = om.NonlinearBlockGS()\n",
    "\n",
    "prob.model.add_design_var('x', lower=-100, upper=100)\n",
    "prob.model.add_design_var('z', lower=-100, upper=100)\n",
    "prob.model.add_objective('obj')\n",
    "prob.model.add_constraint('con1', upper=0.0)\n",
    "prob.model.add_constraint('con2', upper=0.0)\n",
    "\n",
    "prob.setup()\n",
    "\n",
    "# We don't call run_driver() here because we don't\n",
    "# actually want the optimizer to run\n",
    "prob.run_model()"
   ]
  },
  {
   "cell_type": "code",
   "execution_count": 29,
   "id": "cb8a1eeb",
   "metadata": {},
   "outputs": [
    {
     "name": "stdout",
     "output_type": "stream",
     "text": [
      "NL: NLBGS Converged in 4 iterations\n",
      "NL: NLBGS Converged in 5 iterations\n",
      "NL: NLBGS Converged in 5 iterations\n"
     ]
    }
   ],
   "source": [
    "# check derivatives of all obj+constraints w.r.t all design variables\n",
    "totals = prob.check_totals(out_stream=None)"
   ]
  },
  {
   "cell_type": "code",
   "execution_count": 30,
   "id": "5c4bd194",
   "metadata": {},
   "outputs": [
    {
     "name": "stdout",
     "output_type": "stream",
     "text": [
      "{('obj_cmp.obj', 'x'): {'J_fwd': array([[2.98061391]]), 'J_fd': array([[2.98061732]]), 'abs error': ErrorTuple(forward=3.4048181056789417e-06, reverse=None, forward_reverse=None), 'magnitude': MagnitudeTuple(forward=2.9806139134842873, reverse=None, fd=2.980617318302393), 'rel error': ErrorTuple(forward=1.1423197754276459e-06, reverse=None, forward_reverse=None)}, ('obj_cmp.obj', 'z'): {'J_fwd': array([[9.61001056, 1.78448534]]), 'J_fd': array([[9.61001417, 1.78448793]]), 'abs error': ErrorTuple(forward=4.448706699474486e-06, reverse=None, forward_reverse=None), 'magnitude': MagnitudeTuple(forward=9.774287228158459, reverse=None, fd=9.77429125733397), 'rel error': ErrorTuple(forward=4.5514366027679764e-07, reverse=None, forward_reverse=None)}, ('con_cmp1.con1', 'x'): {'J_fwd': array([[-0.98061448]]), 'J_fd': array([[-0.98061688]]), 'abs error': ErrorTuple(forward=2.407248432922948e-06, reverse=None, forward_reverse=None), 'magnitude': MagnitudeTuple(forward=0.9806144751949951, reverse=None, fd=0.980616882443428), 'rel error': ErrorTuple(forward=2.4548307050606205e-06, reverse=None, forward_reverse=None)}, ('con_cmp1.con1', 'z'): {'J_fwd': array([[-9.61002186, -0.78449158]]), 'J_fd': array([[-9.61002547, -0.78449417]]), 'abs error': ErrorTuple(forward=4.4472535743135455e-06, reverse=None, forward_reverse=None), 'magnitude': MagnitudeTuple(forward=9.641988753864103, reverse=None, fd=9.641992568542056), 'rel error': ErrorTuple(forward=4.6123802136325483e-07, reverse=None, forward_reverse=None)}, ('con_cmp2.con2', 'x'): {'J_fwd': array([[0.09692762]]), 'J_fd': array([[0.09692786]]), 'abs error': ErrorTuple(forward=2.385893683315432e-07, reverse=None, forward_reverse=None), 'magnitude': MagnitudeTuple(forward=0.0969276240250249, reverse=None, fd=0.09692786261439323), 'rel error': ErrorTuple(forward=2.4615147997301865e-06, reverse=None, forward_reverse=None)}, ('con_cmp2.con2', 'z'): {'J_fwd': array([[1.94989072, 1.0775421 ]]), 'J_fd': array([[1.94989099, 1.07754236]]), 'abs error': ErrorTuple(forward=3.7386098724260005e-07, reverse=None, forward_reverse=None), 'magnitude': MagnitudeTuple(forward=2.2278174920246605, reverse=None, fd=2.2278178536542534), 'rel error': ErrorTuple(forward=1.6781488065972806e-07, reverse=None, forward_reverse=None)}}\n"
     ]
    }
   ],
   "source": [
    "print(totals)"
   ]
  }
 ],
 "metadata": {
  "celltoolbar": "Tags",
  "kernelspec": {
   "display_name": "Python 3",
   "language": "python",
   "name": "python3"
  },
  "language_info": {
   "codemirror_mode": {
    "name": "ipython",
    "version": 3
   },
   "file_extension": ".py",
   "mimetype": "text/x-python",
   "name": "python",
   "nbconvert_exporter": "python",
   "pygments_lexer": "ipython3",
   "version": "3.8.5"
  }
 },
 "nbformat": 4,
 "nbformat_minor": 5
}
