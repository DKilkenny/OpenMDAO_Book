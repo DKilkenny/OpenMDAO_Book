{
 "cells": [
  {
   "cell_type": "code",
   "execution_count": null,
   "id": "f8738a65",
   "metadata": {
    "tags": [
     "remove-input",
     "active-ipynb",
     "remove-output"
    ]
   },
   "outputs": [],
   "source": [
    "try:\n",
    "    import openmdao.api as om\n",
    "except ImportError:\n",
    "    !python -m pip install openmdao[notebooks]\n",
    "    import openmdao.api as om"
   ]
  },
  {
   "cell_type": "markdown",
   "id": "d5759056",
   "metadata": {},
   "source": [
    "# Vectorizing Linear Solves for Feed-Forward Models\n",
    "\n",
    "If you have an optimization constraint composed of a large array, or similarly a large array design variable, then there will be one linear solve for each entry of that array. It is possible to speed up the derivative computation by vectorizing the linear solve associated with the design variable or constraint, though the speed up comes at the cost of some additional memory allocation within OpenMDAO.\n",
    "\n",
    "```{Note}\n",
    "Vectorizing derivatives is only viable for variables/constraints that have a purely feed-forward data path through the model. If there are any solvers in the path between your variable and the objective/constraint of your model then you should not use this feature! See the :ref:`Theory Manual on vectorized derivatives<theory_fan_out>` for a detailed explanation of how this feature works.\n",
    "```\n",
    "\n",
    "You can vectorize derivatives in either `fwd` or `rev` modes. Below is an example of how to do it for `rev` mode, where you specify an argument to `add_constraint`(). See :ref:`add_design_var()<feature_add_design_var>` and :ref:`add_constraint()<feature_add_constraint>` for the full call signature of the relevant methods."
   ]
  },
  {
   "cell_type": "markdown",
   "id": "e4a126eb",
   "metadata": {},
   "source": [
    "## Usage Example"
   ]
  },
  {
   "cell_type": "code",
   "execution_count": null,
   "id": "3b8f8b4f",
   "metadata": {},
   "outputs": [],
   "source": [
    "import numpy as np\n",
    "import openmdao.api as om\n",
    "\n",
    "SIZE = 5\n",
    "\n",
    "class ExpensiveAnalysis(om.ExplicitComponent):\n",
    "\n",
    "    def setup(self):\n",
    "\n",
    "        self.add_input('x', val=np.ones(SIZE))\n",
    "        self.add_input('y', val=np.ones(SIZE))\n",
    "\n",
    "        self.add_output('f', shape=1)\n",
    "\n",
    "        self.declare_partials('f', 'x')\n",
    "        self.declare_partials('f', 'y')\n",
    "\n",
    "    def compute(self, inputs, outputs):\n",
    "\n",
    "        outputs['f'] = np.sum(inputs['x']**inputs['y'])\n",
    "\n",
    "    def compute_partials(self, inputs, J):\n",
    "\n",
    "        J['f', 'x'] = inputs['y']*inputs['x']**(inputs['y']-1)\n",
    "        J['f', 'y'] = (inputs['x']**inputs['y'])*np.log(inputs['x'])\n",
    "\n",
    "class CheapConstraint(om.ExplicitComponent):\n",
    "\n",
    "    def setup(self):\n",
    "\n",
    "        self.add_input('y', val=np.ones(SIZE))\n",
    "        self.add_output('g', shape=SIZE)\n",
    "\n",
    "        row_col = np.arange(SIZE, dtype=int)\n",
    "        self.declare_partials('g', 'y', rows=row_col, cols=row_col)\n",
    "\n",
    "        self.limit = 2*np.arange(SIZE)\n",
    "\n",
    "    def compute(self, inputs, outputs):\n",
    "\n",
    "        outputs['g'] = inputs['y']**2 - self.limit\n",
    "\n",
    "    def compute_partials(self, inputs, J):\n",
    "\n",
    "        J['g', 'y'] = 2*inputs['y']\n",
    "\n",
    "p = om.Problem()\n",
    "\n",
    "\n",
    "p.model.set_input_defaults('x', val=2*np.ones(SIZE))\n",
    "p.model.set_input_defaults('y', val=2*np.ones(SIZE))\n",
    "p.model.add_subsystem('obj', ExpensiveAnalysis(), promotes=['x', 'y', 'f'])\n",
    "p.model.add_subsystem('constraint', CheapConstraint(), promotes=['y', 'g'])\n",
    "\n",
    "p.model.add_design_var('x', lower=.1, upper=10000)\n",
    "p.model.add_design_var('y', lower=-1000, upper=10000)\n",
    "p.model.add_constraint('g', upper=0, vectorize_derivs=True)\n",
    "p.model.add_objective('f')\n",
    "\n",
    "p.setup(mode='rev')\n",
    "\n",
    "p.run_model()\n",
    "\n",
    "p.driver = om.ScipyOptimizeDriver()\n",
    "p.run_driver()\n",
    "\n",
    "print(p['x'])\n",
    "print(p['y'])"
   ]
  },
  {
   "cell_type": "code",
   "execution_count": null,
   "id": "7eb452b9",
   "metadata": {
    "tags": [
     "remove-input",
     "remove-output"
    ]
   },
   "outputs": [],
   "source": [
    "from openmdao.utils.assert_utils import assert_near_equal\n",
    "import numpy as np\n",
    "\n",
    "assert_near_equal(p['x'], np.array([0.10000691, 0.1, 0.1, 0.1, 0.1]), tolerance=1e-7)\n",
    "assert_near_equal(p['y'], np.array([8.19470198e-07, 1.41421356e+00, 2.00000000e+00, 2.44948974e+00, 2.82842712e+00]), tolerance=1e-7)"
   ]
  }
 ],
 "metadata": {
  "celltoolbar": "Tags",
  "kernelspec": {
   "display_name": "Python 3",
   "language": "python",
   "name": "python3"
  },
  "language_info": {
   "codemirror_mode": {
    "name": "ipython",
    "version": 3
   },
   "file_extension": ".py",
   "mimetype": "text/x-python",
   "name": "python",
   "nbconvert_exporter": "python",
   "pygments_lexer": "ipython3",
   "version": "3.8.5"
  }
 },
 "nbformat": 4,
 "nbformat_minor": 5
}
