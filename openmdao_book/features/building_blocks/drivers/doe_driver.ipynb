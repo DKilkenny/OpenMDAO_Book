{
 "cells": [
  {
   "cell_type": "code",
   "execution_count": 8,
   "metadata": {
    "tags": [
     "remove-input",
     "active-ipynb",
     "remove-output"
    ]
   },
   "outputs": [
    {
     "name": "stdout",
     "output_type": "stream",
     "text": [
      "Populating the interactive namespace from numpy and matplotlib\n"
     ]
    }
   ],
   "source": [
    "%pylab inline\n",
    "from ipyparallel import Client, error\n",
    "cluster=Client(profile=\"mpi\")\n",
    "view=cluster[:]\n",
    "view.block=True\n",
    "\n",
    "try:\n",
    "    import openmdao.api as om\n",
    "except ImportError:\n",
    "    !python -m pip install openmdao[notebooks]\n",
    "    import openmdao.api as om"
   ]
  },
  {
   "cell_type": "markdown",
   "metadata": {},
   "source": [
    "# DOEDriver\n",
    "\n",
    "DOEDriver facilitates performing a design of experiments (DOE) with your OpenMDAO model. It will run your model multiple times with different values for the design variables depending on the selected input generator. A number of generators are available, each with its own parameters that can be specified when it is instantiated:\n",
    "\n",
    "  - [UniformGenerator](../../../_srcdocs/packages/drivers/doe_generators.html#openmdao.drivers.doe_generators.UniformGenerator)\n",
    "  - [FullFactorialGenerator](../../../_srcdocs/packages/drivers/doe_generators.html#openmdao.drivers.doe_generators.FullFactorialGenerator)\n",
    "  - [PlackettBurmanGenerator](../../../_srcdocs/packages/drivers/doe_generators.html#openmdao.drivers.doe_generators.PlackettBurmanGenerator)\n",
    "  - [BoxBehnkenGenerator](../../../_srcdocs/packages/drivers/doe_generators.html#openmdao.drivers.doe_generators.BoxBehnkenGenerator)\n",
    "  - [LatinHypercubeGenerator](../../../_srcdocs/packages/drivers/doe_generators.html#openmdao.drivers.doe_generators.LatinHypercubeGenerator)\n",
    "  - [CSVGenerator](../../../_srcdocs/packages/drivers/doe_generators.html#openmdao.drivers.doe_generators.CSVGenerator)\n",
    "  - [ListGenerator](../../../_srcdocs/packages/drivers/doe_generators.html#openmdao.drivers.doe_generators.ListGenerator)\n",
    "\n",
    "```{Note}\n",
    "`FullFactorialGenerator`, `PlackettBurmanGenerator`, `BoxBehnkenGenerator` and `LatinHypercubeGenerator` are provided via the [pyDOE2](https://pypi.org/project/pyDOE2/) package, which is an updated version of [pyDOE](https://pythonhosted.org/pyDOE/). See the original [pyDOE](https://pythonhosted.org/pyDOE/) page for information on those algorithms.\n",
    "```\n",
    "\n",
    "The generator instance may be supplied as an argument to the `DOEDriver` or as an option.\n",
    "\n",
    "## DOEDriver Options"
   ]
  },
  {
   "cell_type": "code",
   "execution_count": 3,
   "metadata": {
    "tags": [
     "remove-input"
    ]
   },
   "outputs": [
    {
     "data": {
      "text/html": [
       "<table>\n",
       "<thead>\n",
       "<tr><th>Option         </th><th>Default     </th><th>Acceptable Values  </th><th>Acceptable Types  </th><th>Description                                                                                                                                </th></tr>\n",
       "</thead>\n",
       "<tbody>\n",
       "<tr><td>debug_print    </td><td>[]          </td><td>N/A                </td><td>[&#x27;list&#x27;]          </td><td>List of what type of Driver variables to print at each iteration. Valid items in list are &#x27;desvars&#x27;, &#x27;ln_cons&#x27;, &#x27;nl_cons&#x27;, &#x27;objs&#x27;, &#x27;totals&#x27;</td></tr>\n",
       "<tr><td>generator      </td><td>DOEGenerator</td><td>N/A                </td><td>[&#x27;DOEGenerator&#x27;]  </td><td>The case generator. If default, no cases are generated.                                                                                    </td></tr>\n",
       "<tr><td>procs_per_model</td><td>1           </td><td>N/A                </td><td>[&#x27;int&#x27;]           </td><td>Number of processors to give each model under MPI.                                                                                         </td></tr>\n",
       "<tr><td>run_parallel   </td><td>False       </td><td>[True, False]      </td><td>[&#x27;bool&#x27;]          </td><td>Set to True to execute cases in parallel.                                                                                                  </td></tr>\n",
       "</tbody>\n",
       "</table>"
      ],
      "text/plain": [
       "<IPython.core.display.HTML object>"
      ]
     },
     "metadata": {},
     "output_type": "display_data"
    }
   ],
   "source": [
    "om.show_options_table(\"openmdao.drivers.doe_driver.DOEDriver\")"
   ]
  },
  {
   "cell_type": "markdown",
   "metadata": {},
   "source": [
    "## DOEDriver Constructor\n",
    "\n",
    "The call signature for the `DOEDriver` constructor is:\n",
    "\n",
    "```{eval-rst}\n",
    "    .. automethod:: openmdao.drivers.doe_driver.DOEDriver.__init__\n",
    "       :noindex:\n",
    "```  \n",
    "\n",
    "## Simple Example\n",
    "\n",
    "`UniformGenerator` implements the simplest method and will generate a requested number of samples randomly selected from a uniform distribution across the valid range for each design variable. This example demonstrates its use with a model built on the :ref:`Paraboloid<tutorial_paraboloid_analysis>` Component. An [SqliteRecorder](../../../recording/saving_data.ipynb) is used to capture the cases that were generated. We can see that that the model was evaluated at random values of x and y between -10 and 10, per the lower and upper bounds of those design variables."
   ]
  },
  {
   "cell_type": "code",
   "execution_count": 4,
   "metadata": {},
   "outputs": [
    {
     "data": {
      "text/html": [
       "<table>\n",
       "<thead>\n",
       "<tr><th style=\"text-align: center;\">         driver          </th></tr>\n",
       "</thead>\n",
       "<tbody>\n",
       "<tr><td style=\"text-align: center;\">rank0:DOEDriver_Uniform|0</td></tr>\n",
       "</tbody>\n",
       "</table>"
      ],
      "text/plain": [
       "<IPython.core.display.HTML object>"
      ]
     },
     "metadata": {},
     "output_type": "display_data"
    },
    {
     "data": {
      "text/html": [
       "<table>\n",
       "<thead>\n",
       "<tr><th style=\"text-align: center;\">         driver          </th></tr>\n",
       "</thead>\n",
       "<tbody>\n",
       "<tr><td style=\"text-align: center;\">rank0:DOEDriver_Uniform|1</td></tr>\n",
       "</tbody>\n",
       "</table>"
      ],
      "text/plain": [
       "<IPython.core.display.HTML object>"
      ]
     },
     "metadata": {},
     "output_type": "display_data"
    },
    {
     "data": {
      "text/html": [
       "<table>\n",
       "<thead>\n",
       "<tr><th style=\"text-align: center;\">         driver          </th></tr>\n",
       "</thead>\n",
       "<tbody>\n",
       "<tr><td style=\"text-align: center;\">rank0:DOEDriver_Uniform|2</td></tr>\n",
       "</tbody>\n",
       "</table>"
      ],
      "text/plain": [
       "<IPython.core.display.HTML object>"
      ]
     },
     "metadata": {},
     "output_type": "display_data"
    },
    {
     "data": {
      "text/html": [
       "<table>\n",
       "<thead>\n",
       "<tr><th style=\"text-align: center;\">         driver          </th></tr>\n",
       "</thead>\n",
       "<tbody>\n",
       "<tr><td style=\"text-align: center;\">rank0:DOEDriver_Uniform|3</td></tr>\n",
       "</tbody>\n",
       "</table>"
      ],
      "text/plain": [
       "<IPython.core.display.HTML object>"
      ]
     },
     "metadata": {},
     "output_type": "display_data"
    },
    {
     "data": {
      "text/html": [
       "<table>\n",
       "<thead>\n",
       "<tr><th style=\"text-align: center;\">         driver          </th></tr>\n",
       "</thead>\n",
       "<tbody>\n",
       "<tr><td style=\"text-align: center;\">rank0:DOEDriver_Uniform|4</td></tr>\n",
       "</tbody>\n",
       "</table>"
      ],
      "text/plain": [
       "<IPython.core.display.HTML object>"
      ]
     },
     "metadata": {},
     "output_type": "display_data"
    }
   ],
   "source": [
    "import openmdao.api as om\n",
    "from openmdao.test_suite.components.paraboloid import Paraboloid\n",
    "\n",
    "prob = om.Problem()\n",
    "model = prob.model\n",
    "\n",
    "model.add_subsystem('comp', Paraboloid(), promotes=['*'])\n",
    "\n",
    "model.add_design_var('x', lower=-10, upper=10)\n",
    "model.add_design_var('y', lower=-10, upper=10)\n",
    "model.add_objective('f_xy')\n",
    "\n",
    "prob.driver = om.DOEDriver(om.UniformGenerator(num_samples=5))\n",
    "prob.driver.add_recorder(om.SqliteRecorder(\"cases.sql\"))\n",
    "\n",
    "prob.setup()\n",
    "\n",
    "prob.set_val('x', 0.0)\n",
    "prob.set_val('y', 0.0)\n",
    "\n",
    "prob.run_driver()\n",
    "prob.cleanup()\n",
    "\n",
    "cr = om.CaseReader(\"cases.sql\")\n",
    "cases = cr.list_cases('driver')\n"
   ]
  },
  {
   "cell_type": "code",
   "execution_count": 5,
   "metadata": {},
   "outputs": [
    {
     "name": "stdout",
     "output_type": "stream",
     "text": [
      "5\n"
     ]
    }
   ],
   "source": [
    "print(len(cases))"
   ]
  },
  {
   "cell_type": "code",
   "execution_count": 6,
   "metadata": {},
   "outputs": [
    {
     "name": "stdout",
     "output_type": "stream",
     "text": [
      "x:  7.52, y:  3.15, f_xy:  92.14\n",
      "x:  1.86, y: -9.79, f_xy:  13.57\n",
      "x: -8.63, y: -8.72, f_xy: 229.91\n",
      "x: -0.14, y:  4.78, f_xy:  83.35\n",
      "x: -9.66, y: -6.92, f_xy: 232.76\n"
     ]
    }
   ],
   "source": [
    "values = []\n",
    "for case in cases:\n",
    "    outputs = cr.get_case(case).outputs\n",
    "    values.append((outputs['x'], outputs['y'], outputs['f_xy']))\n",
    "\n",
    "print(\"\\n\".join([\"x: %5.2f, y: %5.2f, f_xy: %6.2f\" % xyf for xyf in values]))"
   ]
  },
  {
   "cell_type": "code",
   "execution_count": 7,
   "metadata": {
    "tags": [
     "remove-input",
     "remove-output"
    ]
   },
   "outputs": [],
   "source": [
    "assert(len(cases) == 5)"
   ]
  },
  {
   "cell_type": "markdown",
   "metadata": {},
   "source": [
    "## Running a DOE in Parallel\n",
    "\n",
    "In a parallel processing environment, it is possible for `DOEDriver` to run cases concurrently. This is done by setting the `run_parallel` option to True as shown in the following example and running your script using MPI.\n",
    "\n",
    "Here we are using the `FullFactorialGenerator` with 3 levels to generate inputs for our Paraboloid model. With two inputs, $3^2=9$ cases have been generated. In this case we are running on four processors and have specified `options['run_parallel']=True` to run cases on all available processors. The cases have therefore been split with 3 cases run on the first processor and 2 cases on each of the other processors.\n",
    "\n",
    "Note that, when running in parallel, the `SqliteRecorder` will generate a separate case file for each processor on which cases are recorded. The case files will have a suffix indicating the recording rank and a message will be displayed indicating the file name, as seen in the example."
   ]
  },
  {
   "cell_type": "code",
   "execution_count": 9,
   "metadata": {},
   "outputs": [
    {
     "name": "stdout",
     "output_type": "stream",
     "text": [
      "[stdout:0] \n",
      "Note: SqliteRecorder is running on multiple processors. Cases from rank 0 are being written to cases.sql_0.\n",
      "Note: Metadata is being recorded separately as cases.sql_meta.\n",
      "[stdout:1] Note: SqliteRecorder is running on multiple processors. Cases from rank 1 are being written to cases.sql_1.\n",
      "[stdout:2] Note: SqliteRecorder is running on multiple processors. Cases from rank 2 are being written to cases.sql_2.\n",
      "[stdout:3] Note: SqliteRecorder is running on multiple processors. Cases from rank 3 are being written to cases.sql_3.\n"
     ]
    },
    {
     "data": {
      "text/plain": [
       "\u001b[0;31mOut[0:43]: \u001b[0mFalse"
      ]
     },
     "metadata": {
      "after": [],
      "completed": "2021-04-28T19:51:48.862143",
      "data": {},
      "engine_id": 0,
      "engine_uuid": "a1d5f2d8-618dbefd183e77db0f73c411",
      "error": null,
      "execute_input": "\nimport openmdao.api as om\nfrom openmdao.test_suite.components.paraboloid import Paraboloid\n\nfrom mpi4py import MPI\n\nprob = om.Problem()\n\nprob.model.add_subsystem('comp', Paraboloid(), promotes=['x', 'y', 'f_xy'])\nprob.model.add_design_var('x', lower=0.0, upper=1.0)\nprob.model.add_design_var('y', lower=0.0, upper=1.0)\nprob.model.add_objective('f_xy')\n\nprob.driver = om.DOEDriver(om.FullFactorialGenerator(levels=3))\nprob.driver.options['run_parallel'] = True\nprob.driver.options['procs_per_model'] = 1\n\nprob.driver.add_recorder(om.SqliteRecorder(\"cases.sql\"))\n\nprob.setup()\nprob.run_driver()\n",
      "execute_result": {
       "data": {
        "text/plain": "False"
       },
       "execution_count": 43,
       "metadata": {}
      },
      "follow": [],
      "msg_id": "66de14b8-0bb7e1dd4a0b6837df680077_1",
      "outputs": [],
      "received": "2021-04-28T19:51:48.863037",
      "started": "2021-04-28T19:51:48.795739",
      "status": "ok",
      "stderr": "",
      "stdout": "Note: SqliteRecorder is running on multiple processors. Cases from rank 0 are being written to cases.sql_0.\nNote: Metadata is being recorded separately as cases.sql_meta.\n",
      "submitted": "2021-04-28T19:51:48.791530"
     },
     "output_type": "display_data"
    },
    {
     "data": {
      "text/plain": [
       "\u001b[0;31mOut[1:43]: \u001b[0mFalse"
      ]
     },
     "metadata": {
      "after": [],
      "completed": "2021-04-28T19:51:48.847896",
      "data": {},
      "engine_id": 1,
      "engine_uuid": "e86b5fc9-5f84acfb6d1030cc4f11c69f",
      "error": null,
      "execute_input": "\nimport openmdao.api as om\nfrom openmdao.test_suite.components.paraboloid import Paraboloid\n\nfrom mpi4py import MPI\n\nprob = om.Problem()\n\nprob.model.add_subsystem('comp', Paraboloid(), promotes=['x', 'y', 'f_xy'])\nprob.model.add_design_var('x', lower=0.0, upper=1.0)\nprob.model.add_design_var('y', lower=0.0, upper=1.0)\nprob.model.add_objective('f_xy')\n\nprob.driver = om.DOEDriver(om.FullFactorialGenerator(levels=3))\nprob.driver.options['run_parallel'] = True\nprob.driver.options['procs_per_model'] = 1\n\nprob.driver.add_recorder(om.SqliteRecorder(\"cases.sql\"))\n\nprob.setup()\nprob.run_driver()\n",
      "execute_result": {
       "data": {
        "text/plain": "False"
       },
       "execution_count": 43,
       "metadata": {}
      },
      "follow": [],
      "msg_id": "66de14b8-0bb7e1dd4a0b6837df680077_2",
      "outputs": [],
      "received": "2021-04-28T19:51:48.849478",
      "started": "2021-04-28T19:51:48.793564",
      "status": "ok",
      "stderr": "",
      "stdout": "Note: SqliteRecorder is running on multiple processors. Cases from rank 1 are being written to cases.sql_1.\n",
      "submitted": "2021-04-28T19:51:48.791879"
     },
     "output_type": "display_data"
    },
    {
     "data": {
      "text/plain": [
       "\u001b[0;31mOut[2:43]: \u001b[0mFalse"
      ]
     },
     "metadata": {
      "after": [],
      "completed": "2021-04-28T19:51:48.844887",
      "data": {},
      "engine_id": 2,
      "engine_uuid": "27d6cd14-df5840e3d5c2907cfa439297",
      "error": null,
      "execute_input": "\nimport openmdao.api as om\nfrom openmdao.test_suite.components.paraboloid import Paraboloid\n\nfrom mpi4py import MPI\n\nprob = om.Problem()\n\nprob.model.add_subsystem('comp', Paraboloid(), promotes=['x', 'y', 'f_xy'])\nprob.model.add_design_var('x', lower=0.0, upper=1.0)\nprob.model.add_design_var('y', lower=0.0, upper=1.0)\nprob.model.add_objective('f_xy')\n\nprob.driver = om.DOEDriver(om.FullFactorialGenerator(levels=3))\nprob.driver.options['run_parallel'] = True\nprob.driver.options['procs_per_model'] = 1\n\nprob.driver.add_recorder(om.SqliteRecorder(\"cases.sql\"))\n\nprob.setup()\nprob.run_driver()\n",
      "execute_result": {
       "data": {
        "text/plain": "False"
       },
       "execution_count": 43,
       "metadata": {}
      },
      "follow": [],
      "msg_id": "66de14b8-0bb7e1dd4a0b6837df680077_3",
      "outputs": [],
      "received": "2021-04-28T19:51:48.846464",
      "started": "2021-04-28T19:51:48.793629",
      "status": "ok",
      "stderr": "",
      "stdout": "Note: SqliteRecorder is running on multiple processors. Cases from rank 2 are being written to cases.sql_2.\n",
      "submitted": "2021-04-28T19:51:48.791972"
     },
     "output_type": "display_data"
    },
    {
     "data": {
      "text/plain": [
       "\u001b[0;31mOut[3:43]: \u001b[0mFalse"
      ]
     },
     "metadata": {
      "after": [],
      "completed": "2021-04-28T19:51:48.842474",
      "data": {},
      "engine_id": 3,
      "engine_uuid": "25a789c4-6923062951b5c78019c077af",
      "error": null,
      "execute_input": "\nimport openmdao.api as om\nfrom openmdao.test_suite.components.paraboloid import Paraboloid\n\nfrom mpi4py import MPI\n\nprob = om.Problem()\n\nprob.model.add_subsystem('comp', Paraboloid(), promotes=['x', 'y', 'f_xy'])\nprob.model.add_design_var('x', lower=0.0, upper=1.0)\nprob.model.add_design_var('y', lower=0.0, upper=1.0)\nprob.model.add_objective('f_xy')\n\nprob.driver = om.DOEDriver(om.FullFactorialGenerator(levels=3))\nprob.driver.options['run_parallel'] = True\nprob.driver.options['procs_per_model'] = 1\n\nprob.driver.add_recorder(om.SqliteRecorder(\"cases.sql\"))\n\nprob.setup()\nprob.run_driver()\n",
      "execute_result": {
       "data": {
        "text/plain": "False"
       },
       "execution_count": 43,
       "metadata": {}
      },
      "follow": [],
      "msg_id": "66de14b8-0bb7e1dd4a0b6837df680077_4",
      "outputs": [],
      "received": "2021-04-28T19:51:48.843547",
      "started": "2021-04-28T19:51:48.798032",
      "status": "ok",
      "stderr": "",
      "stdout": "Note: SqliteRecorder is running on multiple processors. Cases from rank 3 are being written to cases.sql_3.\n",
      "submitted": "2021-04-28T19:51:48.792035"
     },
     "output_type": "display_data"
    }
   ],
   "source": [
    "%%px\n",
    "\n",
    "import openmdao.api as om\n",
    "from openmdao.test_suite.components.paraboloid import Paraboloid\n",
    "\n",
    "from mpi4py import MPI\n",
    "\n",
    "prob = om.Problem()\n",
    "\n",
    "prob.model.add_subsystem('comp', Paraboloid(), promotes=['x', 'y', 'f_xy'])\n",
    "prob.model.add_design_var('x', lower=0.0, upper=1.0)\n",
    "prob.model.add_design_var('y', lower=0.0, upper=1.0)\n",
    "prob.model.add_objective('f_xy')\n",
    "\n",
    "prob.driver = om.DOEDriver(om.FullFactorialGenerator(levels=3))\n",
    "prob.driver.options['run_parallel'] = True\n",
    "prob.driver.options['procs_per_model'] = 1\n",
    "\n",
    "prob.driver.add_recorder(om.SqliteRecorder(\"cases.sql\"))\n",
    "\n",
    "prob.setup()\n",
    "prob.run_driver()"
   ]
  },
  {
   "cell_type": "code",
   "execution_count": 10,
   "metadata": {},
   "outputs": [
    {
     "name": "stdout",
     "output_type": "stream",
     "text": [
      "[stdout:0] 4\n",
      "[stdout:1] 4\n",
      "[stdout:2] 4\n",
      "[stdout:3] 4\n"
     ]
    }
   ],
   "source": [
    "%%px\n",
    "\n",
    "prob.cleanup()\n",
    "\n",
    "print(MPI.COMM_WORLD.size)"
   ]
  },
  {
   "cell_type": "code",
   "execution_count": 11,
   "metadata": {},
   "outputs": [
    {
     "name": "stdout",
     "output_type": "stream",
     "text": [
      "[stdout:0] cases.sql_0\n",
      "[stdout:1] cases.sql_1\n",
      "[stdout:2] cases.sql_2\n",
      "[stdout:3] cases.sql_3\n"
     ]
    }
   ],
   "source": [
    "%%px\n",
    "\n",
    "# check recorded cases from each case file\n",
    "rank = MPI.COMM_WORLD.rank\n",
    "filename = \"cases.sql_%d\" % rank\n",
    "print(filename)"
   ]
  },
  {
   "cell_type": "code",
   "execution_count": 12,
   "metadata": {},
   "outputs": [
    {
     "data": {
      "text/plain": [
       "[output:0]"
      ]
     },
     "metadata": {},
     "output_type": "display_data"
    },
    {
     "data": {
      "text/html": [
       "<table>\n",
       "<thead>\n",
       "<tr><th style=\"text-align: center;\">            driver             </th></tr>\n",
       "</thead>\n",
       "<tbody>\n",
       "<tr><td style=\"text-align: center;\">rank0:DOEDriver_FullFactorial|0</td></tr>\n",
       "</tbody>\n",
       "</table>"
      ],
      "text/plain": [
       "<IPython.core.display.HTML object>"
      ]
     },
     "metadata": {
      "engine": 0
     },
     "output_type": "display_data"
    },
    {
     "data": {
      "text/html": [
       "<table>\n",
       "<thead>\n",
       "<tr><th style=\"text-align: center;\">            driver             </th></tr>\n",
       "</thead>\n",
       "<tbody>\n",
       "<tr><td style=\"text-align: center;\">rank0:DOEDriver_FullFactorial|1</td></tr>\n",
       "</tbody>\n",
       "</table>"
      ],
      "text/plain": [
       "<IPython.core.display.HTML object>"
      ]
     },
     "metadata": {
      "engine": 0
     },
     "output_type": "display_data"
    },
    {
     "data": {
      "text/html": [
       "<table>\n",
       "<thead>\n",
       "<tr><th style=\"text-align: center;\">            driver             </th></tr>\n",
       "</thead>\n",
       "<tbody>\n",
       "<tr><td style=\"text-align: center;\">rank0:DOEDriver_FullFactorial|2</td></tr>\n",
       "</tbody>\n",
       "</table>"
      ],
      "text/plain": [
       "<IPython.core.display.HTML object>"
      ]
     },
     "metadata": {
      "engine": 0
     },
     "output_type": "display_data"
    },
    {
     "data": {
      "text/plain": [
       "[output:1]"
      ]
     },
     "metadata": {},
     "output_type": "display_data"
    },
    {
     "data": {
      "text/html": [
       "<table>\n",
       "<thead>\n",
       "<tr><th style=\"text-align: center;\">            driver             </th></tr>\n",
       "</thead>\n",
       "<tbody>\n",
       "<tr><td style=\"text-align: center;\">rank1:DOEDriver_FullFactorial|0</td></tr>\n",
       "</tbody>\n",
       "</table>"
      ],
      "text/plain": [
       "<IPython.core.display.HTML object>"
      ]
     },
     "metadata": {
      "engine": 1
     },
     "output_type": "display_data"
    },
    {
     "data": {
      "text/html": [
       "<table>\n",
       "<thead>\n",
       "<tr><th style=\"text-align: center;\">            driver             </th></tr>\n",
       "</thead>\n",
       "<tbody>\n",
       "<tr><td style=\"text-align: center;\">rank1:DOEDriver_FullFactorial|1</td></tr>\n",
       "</tbody>\n",
       "</table>"
      ],
      "text/plain": [
       "<IPython.core.display.HTML object>"
      ]
     },
     "metadata": {
      "engine": 1
     },
     "output_type": "display_data"
    },
    {
     "data": {
      "text/plain": [
       "[output:2]"
      ]
     },
     "metadata": {},
     "output_type": "display_data"
    },
    {
     "data": {
      "text/html": [
       "<table>\n",
       "<thead>\n",
       "<tr><th style=\"text-align: center;\">            driver             </th></tr>\n",
       "</thead>\n",
       "<tbody>\n",
       "<tr><td style=\"text-align: center;\">rank2:DOEDriver_FullFactorial|0</td></tr>\n",
       "</tbody>\n",
       "</table>"
      ],
      "text/plain": [
       "<IPython.core.display.HTML object>"
      ]
     },
     "metadata": {
      "engine": 2
     },
     "output_type": "display_data"
    },
    {
     "data": {
      "text/html": [
       "<table>\n",
       "<thead>\n",
       "<tr><th style=\"text-align: center;\">            driver             </th></tr>\n",
       "</thead>\n",
       "<tbody>\n",
       "<tr><td style=\"text-align: center;\">rank2:DOEDriver_FullFactorial|1</td></tr>\n",
       "</tbody>\n",
       "</table>"
      ],
      "text/plain": [
       "<IPython.core.display.HTML object>"
      ]
     },
     "metadata": {
      "engine": 2
     },
     "output_type": "display_data"
    },
    {
     "data": {
      "text/plain": [
       "[output:3]"
      ]
     },
     "metadata": {},
     "output_type": "display_data"
    },
    {
     "data": {
      "text/html": [
       "<table>\n",
       "<thead>\n",
       "<tr><th style=\"text-align: center;\">            driver             </th></tr>\n",
       "</thead>\n",
       "<tbody>\n",
       "<tr><td style=\"text-align: center;\">rank3:DOEDriver_FullFactorial|0</td></tr>\n",
       "</tbody>\n",
       "</table>"
      ],
      "text/plain": [
       "<IPython.core.display.HTML object>"
      ]
     },
     "metadata": {
      "engine": 3
     },
     "output_type": "display_data"
    },
    {
     "data": {
      "text/html": [
       "<table>\n",
       "<thead>\n",
       "<tr><th style=\"text-align: center;\">            driver             </th></tr>\n",
       "</thead>\n",
       "<tbody>\n",
       "<tr><td style=\"text-align: center;\">rank3:DOEDriver_FullFactorial|1</td></tr>\n",
       "</tbody>\n",
       "</table>"
      ],
      "text/plain": [
       "<IPython.core.display.HTML object>"
      ]
     },
     "metadata": {
      "engine": 3
     },
     "output_type": "display_data"
    }
   ],
   "source": [
    "%%px\n",
    "\n",
    "\n",
    "# SqliteCaseReader will automatically look for cases.sql_meta if\n",
    "# metadata_filename is not specified, but test by explicitly\n",
    "# using it here.\n",
    "cr = om.CaseReader(filename, metadata_filename = 'cases.sql_meta')\n",
    "cases = cr.list_cases('driver')"
   ]
  },
  {
   "cell_type": "code",
   "execution_count": 13,
   "metadata": {},
   "outputs": [
    {
     "name": "stdout",
     "output_type": "stream",
     "text": [
      "[stdout:0] 3\n",
      "[stdout:1] 2\n",
      "[stdout:2] 2\n",
      "[stdout:3] 2\n"
     ]
    }
   ],
   "source": [
    "%%px\n",
    "\n",
    "print(len(cases))"
   ]
  },
  {
   "cell_type": "code",
   "execution_count": 14,
   "metadata": {},
   "outputs": [
    {
     "name": "stdout",
     "output_type": "stream",
     "text": [
      "[stdout:0] \n",
      "x:  0.00, y:  0.00, f_xy:  22.00\n",
      "x:  0.50, y:  0.50, f_xy:  23.75\n",
      "x:  1.00, y:  1.00, f_xy:  27.00\n",
      "[stdout:1] \n",
      "x:  0.50, y:  0.00, f_xy:  19.25\n",
      "x:  1.00, y:  0.50, f_xy:  21.75\n",
      "[stdout:2] \n",
      "x:  1.00, y:  0.00, f_xy:  17.00\n",
      "x:  0.00, y:  1.00, f_xy:  31.00\n",
      "[stdout:3] \n",
      "x:  0.00, y:  0.50, f_xy:  26.25\n",
      "x:  0.50, y:  1.00, f_xy:  28.75\n"
     ]
    }
   ],
   "source": [
    "%%px\n",
    "\n",
    "values = []\n",
    "for case in cases:\n",
    "    outputs = cr.get_case(case).outputs\n",
    "    values.append((outputs['x'], outputs['y'], outputs['f_xy']))\n",
    "\n",
    "print(\"\\n\"+\"\\n\".join([\"x: %5.2f, y: %5.2f, f_xy: %6.2f\" % xyf for xyf in values]))"
   ]
  },
  {
   "cell_type": "code",
   "execution_count": 15,
   "metadata": {},
   "outputs": [
    {
     "name": "stdout",
     "output_type": "stream",
     "text": [
      "[stdout:0] False No error from SqliteCaseReader for missing metadata file.\n",
      "[stdout:1] False No error from SqliteCaseReader for missing metadata file.\n",
      "[stdout:2] False No error from SqliteCaseReader for missing metadata file.\n",
      "[stdout:3] False No error from SqliteCaseReader for missing metadata file.\n"
     ]
    }
   ],
   "source": [
    "%%px\n",
    "\n",
    "del cr\n",
    "\n",
    "# Test for missing metadata db file error\n",
    "try:\n",
    "    cr_test = om.CaseReader(filename, metadata_filename = 'nonexistant_filename')\n",
    "    found_metadata = True\n",
    "except IOError:\n",
    "    found_metadata = False\n",
    "\n",
    "print(found_metadata, \"No error from SqliteCaseReader for missing metadata file.\")\n"
   ]
  },
  {
   "cell_type": "code",
   "execution_count": 18,
   "metadata": {
    "tags": [
     "remove-input",
     "remove-output"
    ]
   },
   "outputs": [
    {
     "ename": "CompositeError",
     "evalue": "one or more exceptions from call to method: execute\n[0:execute]: AssertionError: \n[1:execute]: AssertionError: \n[2:execute]: AssertionError: \n[3:execute]: AssertionError: ",
     "output_type": "error",
     "traceback": [
      "[0:execute]: ",
      "\u001b[0;31m\u001b[0m\u001b[0;31mAssertionError\u001b[0mTraceback (most recent call last)\u001b[0;32m<ipython-input-52-abadabe61fe9>\u001b[0m in \u001b[0;36m<module>\u001b[0;34m\u001b[0m",
      "\u001b[1;32m     14\u001b[0m ]",
      "\u001b[1;32m     15\u001b[0m \u001b[0;34m\u001b[0m\u001b[0m",
      "\u001b[0;32m---> 16\u001b[0;31m \u001b[0;32massert\u001b[0m\u001b[0;34m(\u001b[0m\u001b[0;34m\"\\n\"\u001b[0m\u001b[0;34m+\u001b[0m\u001b[0;34m\"\\n\"\u001b[0m\u001b[0;34m.\u001b[0m\u001b[0mjoin\u001b[0m\u001b[0;34m(\u001b[0m\u001b[0;34m[\u001b[0m\u001b[0;34m\"x: %5.2f, y: %5.2f, f_xy: %6.2f\"\u001b[0m \u001b[0;34m%\u001b[0m \u001b[0mxyf\u001b[0m \u001b[0;32mfor\u001b[0m \u001b[0mxyf\u001b[0m \u001b[0;32min\u001b[0m \u001b[0mvalues\u001b[0m\u001b[0;34m]\u001b[0m\u001b[0;34m)\u001b[0m \u001b[0;34m==\u001b[0m \u001b[0mexpected\u001b[0m\u001b[0;34m)\u001b[0m\u001b[0;34m\u001b[0m\u001b[0;34m\u001b[0m\u001b[0m",
      "\u001b[0m\u001b[0;31mAssertionError\u001b[0m: ",
      "",
      "[1:execute]: ",
      "\u001b[0;31m\u001b[0m\u001b[0;31mAssertionError\u001b[0mTraceback (most recent call last)\u001b[0;32m<ipython-input-52-abadabe61fe9>\u001b[0m in \u001b[0;36m<module>\u001b[0;34m\u001b[0m",
      "\u001b[1;32m     14\u001b[0m ]",
      "\u001b[1;32m     15\u001b[0m \u001b[0;34m\u001b[0m\u001b[0m",
      "\u001b[0;32m---> 16\u001b[0;31m \u001b[0;32massert\u001b[0m\u001b[0;34m(\u001b[0m\u001b[0;34m\"\\n\"\u001b[0m\u001b[0;34m+\u001b[0m\u001b[0;34m\"\\n\"\u001b[0m\u001b[0;34m.\u001b[0m\u001b[0mjoin\u001b[0m\u001b[0;34m(\u001b[0m\u001b[0;34m[\u001b[0m\u001b[0;34m\"x: %5.2f, y: %5.2f, f_xy: %6.2f\"\u001b[0m \u001b[0;34m%\u001b[0m \u001b[0mxyf\u001b[0m \u001b[0;32mfor\u001b[0m \u001b[0mxyf\u001b[0m \u001b[0;32min\u001b[0m \u001b[0mvalues\u001b[0m\u001b[0;34m]\u001b[0m\u001b[0;34m)\u001b[0m \u001b[0;34m==\u001b[0m \u001b[0mexpected\u001b[0m\u001b[0;34m)\u001b[0m\u001b[0;34m\u001b[0m\u001b[0;34m\u001b[0m\u001b[0m",
      "\u001b[0m\u001b[0;31mAssertionError\u001b[0m: ",
      "",
      "[2:execute]: ",
      "\u001b[0;31m\u001b[0m\u001b[0;31mAssertionError\u001b[0mTraceback (most recent call last)\u001b[0;32m<ipython-input-52-abadabe61fe9>\u001b[0m in \u001b[0;36m<module>\u001b[0;34m\u001b[0m",
      "\u001b[1;32m     14\u001b[0m ]",
      "\u001b[1;32m     15\u001b[0m \u001b[0;34m\u001b[0m\u001b[0m",
      "\u001b[0;32m---> 16\u001b[0;31m \u001b[0;32massert\u001b[0m\u001b[0;34m(\u001b[0m\u001b[0;34m\"\\n\"\u001b[0m\u001b[0;34m+\u001b[0m\u001b[0;34m\"\\n\"\u001b[0m\u001b[0;34m.\u001b[0m\u001b[0mjoin\u001b[0m\u001b[0;34m(\u001b[0m\u001b[0;34m[\u001b[0m\u001b[0;34m\"x: %5.2f, y: %5.2f, f_xy: %6.2f\"\u001b[0m \u001b[0;34m%\u001b[0m \u001b[0mxyf\u001b[0m \u001b[0;32mfor\u001b[0m \u001b[0mxyf\u001b[0m \u001b[0;32min\u001b[0m \u001b[0mvalues\u001b[0m\u001b[0;34m]\u001b[0m\u001b[0;34m)\u001b[0m \u001b[0;34m==\u001b[0m \u001b[0mexpected\u001b[0m\u001b[0;34m)\u001b[0m\u001b[0;34m\u001b[0m\u001b[0;34m\u001b[0m\u001b[0m",
      "\u001b[0m\u001b[0;31mAssertionError\u001b[0m: ",
      "",
      "[3:execute]: ",
      "\u001b[0;31m\u001b[0m\u001b[0;31mAssertionError\u001b[0mTraceback (most recent call last)\u001b[0;32m<ipython-input-52-abadabe61fe9>\u001b[0m in \u001b[0;36m<module>\u001b[0;34m\u001b[0m",
      "\u001b[1;32m     14\u001b[0m ]",
      "\u001b[1;32m     15\u001b[0m \u001b[0;34m\u001b[0m\u001b[0m",
      "\u001b[0;32m---> 16\u001b[0;31m \u001b[0;32massert\u001b[0m\u001b[0;34m(\u001b[0m\u001b[0;34m\"\\n\"\u001b[0m\u001b[0;34m+\u001b[0m\u001b[0;34m\"\\n\"\u001b[0m\u001b[0;34m.\u001b[0m\u001b[0mjoin\u001b[0m\u001b[0;34m(\u001b[0m\u001b[0;34m[\u001b[0m\u001b[0;34m\"x: %5.2f, y: %5.2f, f_xy: %6.2f\"\u001b[0m \u001b[0;34m%\u001b[0m \u001b[0mxyf\u001b[0m \u001b[0;32mfor\u001b[0m \u001b[0mxyf\u001b[0m \u001b[0;32min\u001b[0m \u001b[0mvalues\u001b[0m\u001b[0;34m]\u001b[0m\u001b[0;34m)\u001b[0m \u001b[0;34m==\u001b[0m \u001b[0mexpected\u001b[0m\u001b[0;34m)\u001b[0m\u001b[0;34m\u001b[0m\u001b[0;34m\u001b[0m\u001b[0m",
      "\u001b[0m\u001b[0;31mAssertionError\u001b[0m: ",
      ""
     ]
    }
   ],
   "source": [
    "%%px\n",
    "\n",
    "assert(len(cases) == 3 if rank == 0 else 2)\n",
    "expected = [\n",
    "    {'x': np.array([0.]), 'y': np.array([0.]), 'f_xy': np.array([22.00])},\n",
    "    {'x': np.array([.5]), 'y': np.array([0.]), 'f_xy': np.array([19.25])},\n",
    "    {'x': np.array([1.]), 'y': np.array([0.]), 'f_xy': np.array([17.00])},\n",
    "\n",
    "    {'x': np.array([0.]), 'y': np.array([.5]), 'f_xy': np.array([26.25])},\n",
    "    {'x': np.array([.5]), 'y': np.array([.5]), 'f_xy': np.array([23.75])},\n",
    "    {'x': np.array([1.]), 'y': np.array([.5]), 'f_xy': np.array([21.75])},\n",
    "\n",
    "    {'x': np.array([0.]), 'y': np.array([1.]), 'f_xy': np.array([31.00])},\n",
    "    {'x': np.array([.5]), 'y': np.array([1.]), 'f_xy': np.array([28.75])},\n",
    "    {'x': np.array([1.]), 'y': np.array([1.]), 'f_xy': np.array([27.00])},\n",
    "]\n",
    "\n",
    "assert(\"\\n\"+\"\\n\".join([\"x: %5.2f, y: %5.2f, f_xy: %6.2f\" % xyf for xyf in values]) == expected)"
   ]
  },
  {
   "cell_type": "code",
   "execution_count": null,
   "metadata": {},
   "outputs": [],
   "source": []
  }
 ],
 "metadata": {
  "celltoolbar": "Tags",
  "kernelspec": {
   "display_name": "Python 3",
   "language": "python",
   "name": "python3"
  },
  "language_info": {
   "codemirror_mode": {
    "name": "ipython",
    "version": 3
   },
   "file_extension": ".py",
   "mimetype": "text/x-python",
   "name": "python",
   "nbconvert_exporter": "python",
   "pygments_lexer": "ipython3",
   "version": "3.8.5"
  }
 },
 "nbformat": 4,
 "nbformat_minor": 4
}
