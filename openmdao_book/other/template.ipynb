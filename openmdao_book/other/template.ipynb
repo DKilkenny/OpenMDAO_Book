{
 "cells": [
  {
   "cell_type": "code",
   "execution_count": null,
   "metadata": {
    "hide_input": false,
    "tags": [
     "active-ipynb",
     "remove_input",
     "remove_output"
    ]
   },
   "outputs": [],
   "source": [
    "try:\n",
    "    import openmdao.api as om\n",
    "except ImportError:\n",
    "    !python -m pip install openmdao[notebooks]\n",
    "    import openmdao.api as om"
   ]
  },
  {
   "cell_type": "markdown",
   "metadata": {},
   "source": [
    "# Title\n",
    "\n",
    "This is a template for notebooks in this JupyterBook.\n",
    "Slides following this slide will generally be a mix of Code and Markdown cells.\n",
    "\n",
    "The first cell above is used to ensure that OpenMDAO will be installed on Colab or Binder if the notebook is opened there.  This cell will be removed from the documentation (using tags `remove_input` and `remove_output`), so examples should still include their own `import openmdao.api as om` statement.\n",
    "\n",
    "The assertions below are generally in the last cell but do not need to be.  These are also removed from the docs since they're typically just used for testing the documentation itself."
   ]
  },
  {
   "cell_type": "code",
   "execution_count": null,
   "metadata": {
    "tags": [
     "remove_input",
     "remove_output"
    ]
   },
   "outputs": [],
   "source": [
    "# Add assertions that will be used to test that the docs are functional.\n",
    "\n",
    "from openmdao.utils.assert_utils import assert_near_equal\n",
    "\n",
    "assert_near_equal(1, 1)\n",
    "\n"
   ]
  }
 ],
 "metadata": {
  "celltoolbar": "Tags",
  "kernelspec": {
   "display_name": "Python 3",
   "language": "python",
   "name": "python3"
  },
  "language_info": {
   "codemirror_mode": {
    "name": "ipython",
    "version": 3
   },
   "file_extension": ".py",
   "mimetype": "text/x-python",
   "name": "python",
   "nbconvert_exporter": "python",
   "pygments_lexer": "ipython3",
   "version": "3.8.5"
  }
 },
 "nbformat": 4,
 "nbformat_minor": 4
}