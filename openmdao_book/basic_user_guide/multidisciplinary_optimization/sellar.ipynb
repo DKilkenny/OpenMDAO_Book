{
 "metadata": {
  "language_info": {
   "codemirror_mode": {
    "name": "ipython",
    "version": 3
   },
   "file_extension": ".py",
   "mimetype": "text/x-python",
   "name": "python",
   "nbconvert_exporter": "python",
   "pygments_lexer": "ipython3",
   "version": 3
  },
  "orig_nbformat": 2
 },
 "nbformat": 4,
 "nbformat_minor": 2,
 "cells": [
  {
   "source": [
    "# Sellar - A Two-Discipline Problem with a Nonlinear Solver"
   ],
   "cell_type": "markdown",
   "metadata": {}
  }
 ]
}