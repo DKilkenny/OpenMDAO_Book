{
 "cells": [
  {
   "cell_type": "code",
   "execution_count": 2,
   "metadata": {
    "tags": [
     "remove-input",
     "active-ipynb",
     "remove-output"
    ]
   },
   "outputs": [],
   "source": [
    "try:\n",
    "    import openmdao.api as om\n",
    "except ImportError:\n",
    "    !python -m pip install openmdao[notebooks]\n",
    "    import openmdao.api as om"
   ]
  },
  {
   "cell_type": "markdown",
   "metadata": {},
   "source": [
    "# Margins with code cells\n",
    "\n",
    "\n",
    "````{tabbed} Pre Auto IVC\n",
    "This is what we used to do\n",
    "```python\n",
    "prob = om.Problem()\n",
    "indeps = prob.model.add_subsystem('indeps', om.IndepVarComp())\n",
    "indeps.add_output('x', 3.0)\n",
    "indeps.add_output('y', -4.0)\n",
    "\n",
    "prob.model.add_subsystem('paraboloid',\n",
    "                         om.ExecComp('f = (x-3)**2 + x*y + (y+4)**2 - 3'))\n",
    "\n",
    "prob.model.connect('indeps.x', 'paraboloid.x')\n",
    "prob.model.connect('indeps.y', 'paraboloid.y')\n",
    "\n",
    "# setup the optimization\n",
    "prob.driver = om.ScipyOptimizeDriver()\n",
    "prob.driver.options['optimizer'] = 'SLSQP'\n",
    "\n",
    "prob.model.add_design_var('indeps.x', lower=-50, upper=50)\n",
    "prob.model.add_design_var('indeps.y', lower=-50, upper=50)\n",
    "prob.model.add_objective('paraboloid.f')\n",
    "\n",
    "prob.setup()\n",
    "prob.run_driver()\n",
    "```\n",
    "````\n",
    "\n",
    "`````{tabbed} With Auto IVC\n",
    "This is how we handle IVCs now\n",
    "````md\n",
    "\n",
    "prob = om.Problem()\n",
    "\n",
    "prob.model.add_subsystem('paraboloid',\n",
    "                         om.ExecComp('f = (x-3)**2 + x*y + (y+4)**2 - 3'),\n",
    "                         promotes_inputs=['x', 'y'])\n",
    "\n",
    "# setup the optimization\n",
    "prob.driver = om.ScipyOptimizeDriver()\n",
    "prob.driver.options['optimizer'] = 'SLSQP'\n",
    "\n",
    "prob.model.add_design_var('x', lower=-50, upper=50)\n",
    "prob.model.add_design_var('y', lower=-50, upper=50)\n",
    "prob.model.add_objective('paraboloid.f')\n",
    "\n",
    "prob.setup()\n",
    "\n",
    "prob['x'] = 3.0\n",
    "prob['y'] = -4.0\n",
    "\n",
    "prob.run_driver()\n",
    "\n",
    "````\n",
    "`````"
   ]
  },
  {
   "cell_type": "code",
   "execution_count": null,
   "metadata": {},
   "outputs": [],
   "source": []
  }
 ],
 "metadata": {
  "kernelspec": {
   "display_name": "Python 3",
   "language": "python",
   "name": "python3"
  },
  "language_info": {
   "codemirror_mode": {
    "name": "ipython",
    "version": 3
   },
   "file_extension": ".py",
   "mimetype": "text/x-python",
   "name": "python",
   "nbconvert_exporter": "python",
   "pygments_lexer": "ipython3",
   "version": "3.8.1"
  }
 },
 "nbformat": 4,
 "nbformat_minor": 4
}
