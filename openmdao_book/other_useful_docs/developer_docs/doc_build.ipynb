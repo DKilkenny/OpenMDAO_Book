{
 "cells": [
  {
   "cell_type": "code",
   "execution_count": null,
   "metadata": {
    "tags": [
     "remove-input",
     "active-ipynb",
     "remove-output"
    ]
   },
   "outputs": [],
   "source": [
    "try:\n",
    "    import openmdao.api as om\n",
    "except ImportError:\n",
    "    !python -m pip install openmdao[notebooks]\n",
    "    import openmdao.api as om"
   ]
  },
  {
   "cell_type": "markdown",
   "metadata": {},
   "source": [
    "# Local Building of OpenMDAO Documentation\n",
    "",
    "\n",
    "When developing new documentation for OpenMDAO, it's necessary to build the documents locally, to ensure things like code embedding and formatting and links are all working the way the author intends them to work. There are a few options available to a developer who is building the OpenMDAO documentation locally. First you need to pip install Jupyter Book: `pip install jupyter-book`\n",
    "\n",
    "## build_jupyter_book.py\n",
    "",
    "After you've installed Jupyter Book, you are ready to build the docs. To build them, use the internal script `build_jupyter_book.py` because we have automated important features like moving html or images that were generated in a notebook into the `_build` folder. We recommend against using `jupyter-book build` because this will not move the necessary files into the `_build` folder needed to display them when built.\n",
    "\n",
    "When you create your first notebook, be sure to checkout out style guide [here](doc_style_guide.ipynb)\n",
    "\n",
    "## build_all_docs.sh\n",
    "",
    "If you want a complete build of the docs including the source code documentation, run `./build_all_docs.sh`. This will temporarly install OpenMDAO's repo, automatically write the source docs, and then uninstall the repo. Using this is the most complete way to build the docs but it comes at a cost of a slower build time. Use `build_jupyter_book.py` when iterating on new docs and use `./build_all_docs.sh` just before commiting."
   ]
  }
 ],
 "metadata": {
  "kernelspec": {
   "display_name": "Python 3",
   "language": "python",
   "name": "python3"
  },
  "language_info": {
   "codemirror_mode": {
    "name": "ipython",
    "version": 3
   },
   "file_extension": ".py",
   "mimetype": "text/x-python",
   "name": "python",
   "nbconvert_exporter": "python",
   "pygments_lexer": "ipython3",
   "version": "3.8.1"
  }
 },
 "nbformat": 4,
 "nbformat_minor": 4
}
