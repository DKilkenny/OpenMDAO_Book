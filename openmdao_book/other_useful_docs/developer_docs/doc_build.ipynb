{
 "cells": [
  {
   "cell_type": "code",
   "execution_count": null,
   "metadata": {
    "tags": [
     "remove-input",
     "active-ipynb",
     "remove-output"
    ]
   },
   "outputs": [],
   "source": [
    "try:\n",
    "    import openmdao.api as om\n",
    "except ImportError:\n",
    "    !python -m pip install openmdao[notebooks]\n",
    "    import openmdao.api as om"
   ]
  },
  {
   "cell_type": "markdown",
   "metadata": {},
   "source": [
    "# Local Building of OpenMDAO Documentation\n",
    "---\n",
    "\n",
    "When developing new documentation for OpenMDAO, it's necessary to build the documents locally, to ensure things like code embedding and formatting and links are all working the way the author intends them to work. There are a few options available to a developer who is building the OpenMDAO documentation locally. First, though, you'll need to enter the docs directory:\n",
    "\n",
    "`cd openmdao/docs`\n",
    "\n",
    "Once you're in the docs directory, you can try any of the commands listed below. If you have trouble remembering all the commands, `jupyter-book -h` will provide a brief command summary for you.\n",
    "\n",
    "## jupyter-book clean\n",
    "---\n",
    "\n",
    "When starting off, it's important to be sure that the docs you're building are your own, that there are no vestiges of previous documentation builds holding you back.  That's where `jupyter-book clean` comes in. By invoking this command, everything is removed from `_build`. `jupyter-book clean` is the go-to command for wiping things out and starting fresh. \n",
    "\n",
    "```{note}\n",
    "This is done for you when you use the internal script `build_jupyter_book.py`.\n",
    "```\n",
    "\n",
    "## build_jupyter_book.py\n",
    "--- \n",
    "To build the docs, use the internal script `build_jupyter_book.py` because we have automated important features like moving html or images that were generated in a notebook into the `_build` folder. We recommend against using `jupyter-book build` because this will not move the necessary files into the `_build` folder."
   ]
  }
 ],
 "metadata": {
  "kernelspec": {
   "display_name": "Python 3",
   "language": "python",
   "name": "python3"
  },
  "language_info": {
   "codemirror_mode": {
    "name": "ipython",
    "version": 3
   },
   "file_extension": ".py",
   "mimetype": "text/x-python",
   "name": "python",
   "nbconvert_exporter": "python",
   "pygments_lexer": "ipython3",
   "version": "3.8.1"
  }
 },
 "nbformat": 4,
 "nbformat_minor": 4
}
